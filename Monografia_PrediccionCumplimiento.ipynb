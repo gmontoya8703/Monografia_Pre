{
  "cells": [
    {
      "cell_type": "markdown",
      "source": [
        "## **PREDICCIÓN DE CUMPLIMIENTO DE ENTREGA DE PEDIDOS FARMACÉUTICOS**  "
      ],
      "metadata": {
        "id": "FyGg9RDmBXxD"
      }
    },
    {
      "cell_type": "markdown",
      "source": [
        "### **Contexto del problema**"
      ],
      "metadata": {
        "id": "ibZeWW1fCW5s"
      }
    },
    {
      "cell_type": "markdown",
      "source": [
        "Citando a Haynes y Sackett, la adherencia terapéutica se define como “la medida con la que un paciente modifica su conducta, orientándola hacia la ingesta del medicamento o las medidas recomendadas por el médico”. Con el propósito de determinar qué factores afectan la adherencia, se han realizado múltiples investigaciones, sin embargo, se han identificado más de 200 variables relacionadas con este factor que dificultan que las prescripciones sean cumplidas por los pacientes. \n",
        "\n",
        "Una de las variables relacionadas con la poca adherencia a los tratamientos está relacionada con la disponibilidad y la entrega oportuna de los medicamentos. Esto afecta la calidad de vida de los pacientes, generando como consecuencia un control pobre de la enfermedad, implicando en la mayoría de los casos un incremento en las complicaciones, repercutiendo no solo en la salud de los pacientes, sino también aumentando las consultas hospitalarias y exámenes médicos adicionales, que se traducen en un aumento en los gastos de las aseguradoras (Dilla, Valladares, Lizán, & Sacristán, 2009). \n",
        "\n",
        "En la investigación realizada por Ramos Morales, expone que algunos de los factores que afectan la adherencia terapéutica están relacionados con el sistema de asistencia sanitaria, pues en ocasiones cuentan con sistemas de distribución deficientes o con un alto rango de inconvenientes al momento de realizar la entrega de los medicamentos (2015). \n",
        "\n",
        "Con el objetivo de ilustrar la importancia de la adherencia, se presenta el caso de la hipertensión. Los avances realizados en los últimos años han permitido que se desarrollen medicamentos con una tasa de efectividad más alta y una técnica de administración más sencilla. A pesar de esos avances, no se ha logrado disminuir la morbilidad cardiovascular debido a la baja adherencia terapéutica, lo que contribuye a la falta de control de la enfermedad. Este caso es similar para una gran gama de enfermedades crónicas, donde se evidencia que mejorar la adherencia generaría un mayor impacto en la salud de la población y reduciría todos los efectos colaterales que el bajo control de la enfermedad genera para el sistema de salud (Ortega Cerda, Sánchez Herrera, Rodríguez Miranda, & Ortega Legaspi, 2018). \n",
        "\n",
        "El análisis de este estudio pretende visualizar el impacto que se puede generar en el incumplimiento de las entregas a los pacientes teniendo en cuenta las principales características de los productos y algunas características específicas en los actores de la cadena de suministros. \n"
      ],
      "metadata": {
        "id": "fzePYaeWCbFi"
      }
    },
    {
      "cell_type": "markdown",
      "source": [
        "### **Variables**"
      ],
      "metadata": {
        "id": "jGzD1pO-VdgO"
      }
    },
    {
      "cell_type": "markdown",
      "source": [
        "*FechaPedido* -- Fecha en la que se realizó el pedido por parte del médico prescriptor, IPS o paciente.\n",
        "\n",
        "*Dia de la semana* -- Dia de la semana en número en que se realizó el pedido.\n",
        "\n",
        "*Número de Pedido* -- Consecutivo del pedido.\n",
        "\n",
        "*Entrega Total* -- Indica si el pedido se repite en un periodo de tiempo y es un tratamiento de varias entregas. \n",
        "\n",
        "*Número Entrega* -- Indica del total entregas el pedido a cuál corresponde.\n",
        "\n",
        "*Porcentaje Tratamiento * -- Indica el pedido que se está entregando a qué porcentaje de tratamiento corresponde.\n",
        "\n",
        "*Tipo pedido* -- Prefijo en letras del tipo de pedido.\n",
        "\n",
        "*Cantidad Items Pedido* -- Cantidad de productos que tienen orden (Fórmula).\n",
        "\n",
        "*Origen* -- Indica cual ha sido el medio de recepción o ingreso del pedido.\n",
        "\n",
        "*CantItemsCadenafrio* -- Los productos en cadena de frío, son medicamentos que tienen que ser entregados a los pacientes con unas condiciones especiales, ya que estos deben conservar una temperatura y deben ir empacados en unas neveras.\n",
        "\n",
        "*CantAgotados* -- Puede haber productos que tengan una alta demanda o la producción por el laboratorio puede estar interrumpida, cuando el laboratorio comunica estas novedades es marcado como agotado, eso no significa que en todos los casos no se le entregue al paciente ya que se puede disponer de inventario en el almacén y así cumplir con el pedido.\n",
        "\n",
        "*Cantidad Unidades Pedido* -- Es la suma de todas las unidades de los medicamentos de la orden o pedido.\n",
        "\n",
        "*Cantidad Unidades Factura* -- La suma de todas las unidades que se facturaron.\n",
        "\n",
        "*Cantidad de facturas* -- El número de facturas que se hicieron para completar un pedido.\n",
        "\n",
        "*Cantidad Novedades Entrega* Si al momento de entregar el pedido este cuenta con novedades.\n",
        "\n",
        "*Controlado* -- Si la dispensación de uno de los medicamentos es controlada por el ministerio de salud o gobierno.\n",
        "\n",
        "*Regulado* -- Si el precio del medicamento está controlado por el ministerio de salud o el gobierno.\n",
        "\n",
        "*Bodega* -- Bodega de la cual se está dispensando el pedido.\n",
        "\n",
        "*Ciudades* -- Ciudad destino de pedido (Municipio de Antioquia).\n",
        "\n",
        "*Distancia Kmts* -- Distancia en kms desde el municipio o residencia del paciente al punto de distribución del pedido.\n",
        "\n",
        "*Zona* -- Zona de Antioquia a la que pertenece el paciente.\n",
        "\n",
        "*Transportador* -- Nombre del Transportador, Empresa o persona encargada de entregar el pedido.\n",
        "\n",
        "*Cumple* -- Indica si el Paciente recibe el medicamento en los tiempos pactados (1=Si o 0=No).\n",
        "\n"
      ],
      "metadata": {
        "id": "o2zVSRigVkQO"
      }
    },
    {
      "cell_type": "markdown",
      "source": [
        "## Metodología"
      ],
      "metadata": {
        "id": "3XfYF7JSZ7z0"
      }
    },
    {
      "cell_type": "markdown",
      "source": [
        "El problema sera trabajado con modelos de clasificación, que permitan determinar cuando el pedido cumple con la entrefa oportuna al paciente.\n",
        "\n",
        "Los lineamientos son:\n",
        "\n",
        "* Preparación de los datos\n",
        "* Modelar.\n",
        "* Evaluar\n"
      ],
      "metadata": {
        "id": "WiZdToumaNGK"
      }
    },
    {
      "cell_type": "markdown",
      "source": [
        "## Modelos a utilizar"
      ],
      "metadata": {
        "id": "zKb-7VDxaiWB"
      }
    },
    {
      "cell_type": "markdown",
      "source": [
        "Se utilizan 4 modelos de clasificación que están dentro de la librería sklearn.\n",
        "\n",
        "* *Regresión Logistica (LogisticRegression)* -- Edgar menciona el modelo de regresión logística, como el Adaline y el perceptrón, es un método estadístico para la clasificación binaria que se puede generalizar a la clasificación multiclase. Scikit-learn tiene una versión altamente optimizada de implementación de regresión logística, que admite tareas de clasificación multiclase ( Raschka, 2015 ). [1]\n",
        "\n",
        "* *Random Forest* --Sruthi habla que es un algoritmo de aprendizaje automático supervisado  que se usa ampliamente en problemas de clasificación y regresión . Construye árboles de decisión en diferentes muestras y toma su voto mayoritario para la clasificación y el promedio en caso de regresión.\n",
        "Una de las características más importantes del Random Forest Algorithm es que puede manejar el conjunto de datos que contiene variables continuas como en el caso de la regresión y  variables categóricas como en el caso de la clasificación. Ofrece mejores resultados para problemas de clasificación. [2]\n",
        "\n",
        "* *Naive Bayes* --Clement dice que es simple, extremadamente rápido, brinda buenos resultados, es fácil de implementar en una producción de TI, es adecuado cuando el conjunto de capacitación no cabe en la memoria y es fácil de explicar en una industria regulatoria. Naive Bayes se utiliza para tareas de clasificación (puntuación, texto y conjuntos de datos desequilibrados) y proporciona una buena línea de base para la comparación de modelos. [3]\n",
        "\n",
        "* *Máquinas de soportes de Vectoreas (SVM)* Joaquín Amat Rodrigo, Las SVMs (Vector Support Machines) es un algoritmo de clasificación y regresión desarrollado en la década de los 90, dentro del campo de la ciencia computacional. Aunque inicialmente se desarrolló como un método de clasificación binaria, su aplicación se ha extendido a problemas de clasificación múltiple y regresión. SVMs ha resultado ser uno de los mejores clasificadores para un amplio abanico de situaciones, por lo que se considera uno de los referentes dentro del ámbito de aprendizaje estadístico y machine learning. [4]\n",
        "\n",
        "[1] Edgar, T. W., & Manz, D. O. (2017). Exploratory Study. En Research Methods for Cyber Security (pp. 95–130). Elsevier.\n",
        "\n",
        "[2] Sruthi, E. R. (2021, junio 17). Random forest. Analytics Vidhya. https://www.analyticsvidhya.com/blog/2021/06/understanding-random-forest/\n",
        "\n",
        "[3] Clement, G. J. (2020, noviembre 30). Naive Bayes algorithms in sklearn. Towards Data Science. https://towardsdatascience.com/why-how-to-use-the-naive-bayes-algorithms-in-a-regulated-industry-with-sklearn-python-code-dbd8304ab2cf\n",
        "\n",
        "[4] Máquinas de Vector Soporte (SVM) con Python by Joaquín Amat Rodrigo, available under a Attribution 4.0 International (CC BY 4.0) at https://www.cienciadedatos.net/documentos/py24-svm-python.html\n",
        "\n",
        "\n",
        "\n"
      ],
      "metadata": {
        "id": "BuDAJXAwb7NZ"
      }
    },
    {
      "cell_type": "markdown",
      "source": [
        "## Librerías y datos"
      ],
      "metadata": {
        "id": "-Qr-HnKPoJxA"
      }
    },
    {
      "cell_type": "code",
      "execution_count": null,
      "metadata": {
        "id": "wMlA3XfWRrk3"
      },
      "outputs": [],
      "source": [
        "import numpy as np\n",
        "import pandas as pd\n",
        "from sklearn.datasets import make_blobs\n",
        "\n",
        "# Gráficos\n",
        "# ==============================================================================\n",
        "import matplotlib.pyplot as plt\n",
        "from matplotlib import style\n",
        "from mpl_toolkits.mplot3d import Axes3D\n",
        "import seaborn as sns\n",
        "from scipy.cluster.hierarchy import dendrogram\n",
        "\n",
        "\n",
        "# Preprocesado y modelado\n",
        "# ==============================================================================\n",
        "from sklearn.cluster import KMeans\n",
        "from sklearn.preprocessing import scale\n",
        "from sklearn.preprocessing import LabelEncoder\n",
        "from sklearn.metrics import pairwise_distances_argmin_min\n",
        "from sklearn.metrics import silhouette_samples, silhouette_score\n",
        "\n",
        "from sklearn.cluster import AgglomerativeClustering\n",
        "from sklearn.cluster import DBSCAN\n",
        "from sklearn.metrics import roc_auc_score\n",
        "from sklearn.metrics import accuracy_score\n",
        "from scipy.cluster.hierarchy import dendrogram\n",
        "from sklearn.metrics import silhouette_score\n",
        "\n",
        "from sklearn.metrics import confusion_matrix\n",
        "from sklearn.metrics import classification_report\n",
        "from sklearn.model_selection import train_test_split\n",
        "from sklearn.linear_model import LogisticRegression\n",
        "from sklearn.decomposition import PCA\n",
        "from sklearn.tree import DecisionTreeClassifier\n",
        "from sklearn.metrics import f1_score\n",
        "\n",
        "\n",
        "from pylab import rcParams\n",
        "\n",
        "from imblearn.under_sampling import NearMiss\n",
        "from imblearn.over_sampling import RandomOverSampler\n",
        "from imblearn.combine import SMOTETomek\n",
        "from imblearn.ensemble import BalancedBaggingClassifier\n",
        "\n",
        "from collections import Counter\n",
        "rcParams['figure.figsize'] = 14, 8.7 # Golden Mean\n",
        "LABELS = [\"Cumple\",\"NO_Cumple\"]\n"
      ]
    },
    {
      "cell_type": "code",
      "execution_count": null,
      "metadata": {
        "colab": {
          "base_uri": "https://localhost:8080/"
        },
        "id": "1pI64X9evw8y",
        "outputId": "2e7ee8d6-d4f0-466f-db2e-8928ac52957c"
      },
      "outputs": [
        {
          "output_type": "stream",
          "name": "stdout",
          "text": [
            "Mounted at /content/drive\n"
          ]
        }
      ],
      "source": [
        "from google.colab import drive\n",
        "drive.mount('/content/drive')"
      ]
    },
    {
      "cell_type": "markdown",
      "metadata": {
        "id": "6fcUG3mUjdzQ"
      },
      "source": [
        "**0.Lectura de datos**\n",
        "\n",
        "Leeremos los datos desde un archivo de excel que se sube al Notebook de manera manual\n"
      ]
    },
    {
      "cell_type": "code",
      "execution_count": null,
      "metadata": {
        "id": "oerRqLyqR2tK"
      },
      "outputs": [],
      "source": [
        "# datos_iniciales = pd.read_excel('DataSet - Trabajar.xlsx')\n",
        "datos_iniciales = pd.read_excel('/content/drive/MyDrive/Monografía /Iter5/DataSet - Trabajar.xlsx')"
      ]
    },
    {
      "cell_type": "markdown",
      "source": [
        "**1.Identificación de Variables**"
      ],
      "metadata": {
        "id": "g-Hy2dK0zd3O"
      }
    },
    {
      "cell_type": "code",
      "execution_count": null,
      "metadata": {
        "colab": {
          "base_uri": "https://localhost:8080/"
        },
        "id": "9xInxZX_w-Ej",
        "outputId": "b5d04c15-8313-4696-80ca-36db23b75886"
      },
      "outputs": [
        {
          "output_type": "stream",
          "name": "stdout",
          "text": [
            "<class 'pandas.core.frame.DataFrame'>\n",
            "RangeIndex: 10445 entries, 0 to 10444\n",
            "Data columns (total 21 columns):\n",
            " #   Column                    Non-Null Count  Dtype  \n",
            "---  ------                    --------------  -----  \n",
            " 0   numeroPedido              10445 non-null  int64  \n",
            " 1   DiaSemana                 10445 non-null  int64  \n",
            " 2   EntregasTotal             10445 non-null  int64  \n",
            " 3   NumeroEntrega             10445 non-null  int64  \n",
            " 4   PorcentajeTratamiento     10445 non-null  float64\n",
            " 5   Origen                    10445 non-null  object \n",
            " 6   cantidadItemsPedido       10445 non-null  int64  \n",
            " 7   CantItemsCadenafrio       10445 non-null  int64  \n",
            " 8   cantAgotados              10445 non-null  int64  \n",
            " 9   cantidadUnidadesPedido    10445 non-null  int64  \n",
            " 10  cantidadUnidadesFactura   10445 non-null  int64  \n",
            " 11  cantidadFacturas          10445 non-null  int64  \n",
            " 12  cantidadNovedadesEntrega  10445 non-null  int64  \n",
            " 13  Controlado                10445 non-null  int64  \n",
            " 14  regulado                  10445 non-null  int64  \n",
            " 15  bodega                    10445 non-null  int64  \n",
            " 16  Distancia Kmts            10445 non-null  float64\n",
            " 17  Zona                      10445 non-null  object \n",
            " 18  transportador             10445 non-null  object \n",
            " 19  convenio                  10445 non-null  object \n",
            " 20  Cumple                    10445 non-null  object \n",
            "dtypes: float64(2), int64(14), object(5)\n",
            "memory usage: 1.7+ MB\n"
          ]
        }
      ],
      "source": [
        "datos_iniciales.info()"
      ]
    },
    {
      "cell_type": "code",
      "execution_count": null,
      "metadata": {
        "colab": {
          "base_uri": "https://localhost:8080/",
          "height": 490
        },
        "id": "LSiFv2q4STc8",
        "outputId": "b9911689-faf4-4f05-f29b-c6a2f552b7d0"
      },
      "outputs": [
        {
          "output_type": "execute_result",
          "data": {
            "text/plain": [
              "   numeroPedido  DiaSemana  EntregasTotal  NumeroEntrega  \\\n",
              "0           674          3              6              3   \n",
              "1           675          3              1              1   \n",
              "2           677          3              4              4   \n",
              "3           680          3              4              2   \n",
              "4           683          3              6              6   \n",
              "\n",
              "   PorcentajeTratamiento                 Origen  cantidadItemsPedido  \\\n",
              "0                    0.5  Automáticas PreAgenda                    1   \n",
              "1                    1.0       Médicos Programa                    1   \n",
              "2                    1.0  Automáticas PreAgenda                    2   \n",
              "3                    0.5  Automáticas PreAgenda                    7   \n",
              "4                    1.0  Automáticas PreAgenda                    4   \n",
              "\n",
              "   CantItemsCadenafrio  cantAgotados  cantidadUnidadesPedido  ...  \\\n",
              "0                    0             1                      60  ...   \n",
              "1                    0             0                      63  ...   \n",
              "2                    0             1                      60  ...   \n",
              "3                    0             2                     360  ...   \n",
              "4                    0             1                     180  ...   \n",
              "\n",
              "   cantidadFacturas  cantidadNovedadesEntrega  Controlado  regulado  bodega  \\\n",
              "0                 1                         0           0         1      21   \n",
              "1                 1                         0           0         1      21   \n",
              "2                 1                         0           0         0      21   \n",
              "3                 1                         0           0         1      21   \n",
              "4                 1                         0           0         0      21   \n",
              "\n",
              "   Distancia Kmts             Zona transportador convenio Cumple  \n",
              "0             0.0  Valle de Aburrá      TAQUILLA      PBS     NO  \n",
              "1             0.0  Valle de Aburrá      TAQUILLA      PBS     NO  \n",
              "2             0.0  Valle de Aburrá      TAQUILLA      PBS     NO  \n",
              "3             0.0  Valle de Aburrá      TAQUILLA      PBS     NO  \n",
              "4             0.0  Valle de Aburrá      TAQUILLA      PBS     NO  \n",
              "\n",
              "[5 rows x 21 columns]"
            ],
            "text/html": [
              "\n",
              "  <div id=\"df-7ce84d16-41c2-4bfe-ab46-53c727274b5b\">\n",
              "    <div class=\"colab-df-container\">\n",
              "      <div>\n",
              "<style scoped>\n",
              "    .dataframe tbody tr th:only-of-type {\n",
              "        vertical-align: middle;\n",
              "    }\n",
              "\n",
              "    .dataframe tbody tr th {\n",
              "        vertical-align: top;\n",
              "    }\n",
              "\n",
              "    .dataframe thead th {\n",
              "        text-align: right;\n",
              "    }\n",
              "</style>\n",
              "<table border=\"1\" class=\"dataframe\">\n",
              "  <thead>\n",
              "    <tr style=\"text-align: right;\">\n",
              "      <th></th>\n",
              "      <th>numeroPedido</th>\n",
              "      <th>DiaSemana</th>\n",
              "      <th>EntregasTotal</th>\n",
              "      <th>NumeroEntrega</th>\n",
              "      <th>PorcentajeTratamiento</th>\n",
              "      <th>Origen</th>\n",
              "      <th>cantidadItemsPedido</th>\n",
              "      <th>CantItemsCadenafrio</th>\n",
              "      <th>cantAgotados</th>\n",
              "      <th>cantidadUnidadesPedido</th>\n",
              "      <th>...</th>\n",
              "      <th>cantidadFacturas</th>\n",
              "      <th>cantidadNovedadesEntrega</th>\n",
              "      <th>Controlado</th>\n",
              "      <th>regulado</th>\n",
              "      <th>bodega</th>\n",
              "      <th>Distancia Kmts</th>\n",
              "      <th>Zona</th>\n",
              "      <th>transportador</th>\n",
              "      <th>convenio</th>\n",
              "      <th>Cumple</th>\n",
              "    </tr>\n",
              "  </thead>\n",
              "  <tbody>\n",
              "    <tr>\n",
              "      <th>0</th>\n",
              "      <td>674</td>\n",
              "      <td>3</td>\n",
              "      <td>6</td>\n",
              "      <td>3</td>\n",
              "      <td>0.5</td>\n",
              "      <td>Automáticas PreAgenda</td>\n",
              "      <td>1</td>\n",
              "      <td>0</td>\n",
              "      <td>1</td>\n",
              "      <td>60</td>\n",
              "      <td>...</td>\n",
              "      <td>1</td>\n",
              "      <td>0</td>\n",
              "      <td>0</td>\n",
              "      <td>1</td>\n",
              "      <td>21</td>\n",
              "      <td>0.0</td>\n",
              "      <td>Valle de Aburrá</td>\n",
              "      <td>TAQUILLA</td>\n",
              "      <td>PBS</td>\n",
              "      <td>NO</td>\n",
              "    </tr>\n",
              "    <tr>\n",
              "      <th>1</th>\n",
              "      <td>675</td>\n",
              "      <td>3</td>\n",
              "      <td>1</td>\n",
              "      <td>1</td>\n",
              "      <td>1.0</td>\n",
              "      <td>Médicos Programa</td>\n",
              "      <td>1</td>\n",
              "      <td>0</td>\n",
              "      <td>0</td>\n",
              "      <td>63</td>\n",
              "      <td>...</td>\n",
              "      <td>1</td>\n",
              "      <td>0</td>\n",
              "      <td>0</td>\n",
              "      <td>1</td>\n",
              "      <td>21</td>\n",
              "      <td>0.0</td>\n",
              "      <td>Valle de Aburrá</td>\n",
              "      <td>TAQUILLA</td>\n",
              "      <td>PBS</td>\n",
              "      <td>NO</td>\n",
              "    </tr>\n",
              "    <tr>\n",
              "      <th>2</th>\n",
              "      <td>677</td>\n",
              "      <td>3</td>\n",
              "      <td>4</td>\n",
              "      <td>4</td>\n",
              "      <td>1.0</td>\n",
              "      <td>Automáticas PreAgenda</td>\n",
              "      <td>2</td>\n",
              "      <td>0</td>\n",
              "      <td>1</td>\n",
              "      <td>60</td>\n",
              "      <td>...</td>\n",
              "      <td>1</td>\n",
              "      <td>0</td>\n",
              "      <td>0</td>\n",
              "      <td>0</td>\n",
              "      <td>21</td>\n",
              "      <td>0.0</td>\n",
              "      <td>Valle de Aburrá</td>\n",
              "      <td>TAQUILLA</td>\n",
              "      <td>PBS</td>\n",
              "      <td>NO</td>\n",
              "    </tr>\n",
              "    <tr>\n",
              "      <th>3</th>\n",
              "      <td>680</td>\n",
              "      <td>3</td>\n",
              "      <td>4</td>\n",
              "      <td>2</td>\n",
              "      <td>0.5</td>\n",
              "      <td>Automáticas PreAgenda</td>\n",
              "      <td>7</td>\n",
              "      <td>0</td>\n",
              "      <td>2</td>\n",
              "      <td>360</td>\n",
              "      <td>...</td>\n",
              "      <td>1</td>\n",
              "      <td>0</td>\n",
              "      <td>0</td>\n",
              "      <td>1</td>\n",
              "      <td>21</td>\n",
              "      <td>0.0</td>\n",
              "      <td>Valle de Aburrá</td>\n",
              "      <td>TAQUILLA</td>\n",
              "      <td>PBS</td>\n",
              "      <td>NO</td>\n",
              "    </tr>\n",
              "    <tr>\n",
              "      <th>4</th>\n",
              "      <td>683</td>\n",
              "      <td>3</td>\n",
              "      <td>6</td>\n",
              "      <td>6</td>\n",
              "      <td>1.0</td>\n",
              "      <td>Automáticas PreAgenda</td>\n",
              "      <td>4</td>\n",
              "      <td>0</td>\n",
              "      <td>1</td>\n",
              "      <td>180</td>\n",
              "      <td>...</td>\n",
              "      <td>1</td>\n",
              "      <td>0</td>\n",
              "      <td>0</td>\n",
              "      <td>0</td>\n",
              "      <td>21</td>\n",
              "      <td>0.0</td>\n",
              "      <td>Valle de Aburrá</td>\n",
              "      <td>TAQUILLA</td>\n",
              "      <td>PBS</td>\n",
              "      <td>NO</td>\n",
              "    </tr>\n",
              "  </tbody>\n",
              "</table>\n",
              "<p>5 rows × 21 columns</p>\n",
              "</div>\n",
              "      <button class=\"colab-df-convert\" onclick=\"convertToInteractive('df-7ce84d16-41c2-4bfe-ab46-53c727274b5b')\"\n",
              "              title=\"Convert this dataframe to an interactive table.\"\n",
              "              style=\"display:none;\">\n",
              "        \n",
              "  <svg xmlns=\"http://www.w3.org/2000/svg\" height=\"24px\"viewBox=\"0 0 24 24\"\n",
              "       width=\"24px\">\n",
              "    <path d=\"M0 0h24v24H0V0z\" fill=\"none\"/>\n",
              "    <path d=\"M18.56 5.44l.94 2.06.94-2.06 2.06-.94-2.06-.94-.94-2.06-.94 2.06-2.06.94zm-11 1L8.5 8.5l.94-2.06 2.06-.94-2.06-.94L8.5 2.5l-.94 2.06-2.06.94zm10 10l.94 2.06.94-2.06 2.06-.94-2.06-.94-.94-2.06-.94 2.06-2.06.94z\"/><path d=\"M17.41 7.96l-1.37-1.37c-.4-.4-.92-.59-1.43-.59-.52 0-1.04.2-1.43.59L10.3 9.45l-7.72 7.72c-.78.78-.78 2.05 0 2.83L4 21.41c.39.39.9.59 1.41.59.51 0 1.02-.2 1.41-.59l7.78-7.78 2.81-2.81c.8-.78.8-2.07 0-2.86zM5.41 20L4 18.59l7.72-7.72 1.47 1.35L5.41 20z\"/>\n",
              "  </svg>\n",
              "      </button>\n",
              "      \n",
              "  <style>\n",
              "    .colab-df-container {\n",
              "      display:flex;\n",
              "      flex-wrap:wrap;\n",
              "      gap: 12px;\n",
              "    }\n",
              "\n",
              "    .colab-df-convert {\n",
              "      background-color: #E8F0FE;\n",
              "      border: none;\n",
              "      border-radius: 50%;\n",
              "      cursor: pointer;\n",
              "      display: none;\n",
              "      fill: #1967D2;\n",
              "      height: 32px;\n",
              "      padding: 0 0 0 0;\n",
              "      width: 32px;\n",
              "    }\n",
              "\n",
              "    .colab-df-convert:hover {\n",
              "      background-color: #E2EBFA;\n",
              "      box-shadow: 0px 1px 2px rgba(60, 64, 67, 0.3), 0px 1px 3px 1px rgba(60, 64, 67, 0.15);\n",
              "      fill: #174EA6;\n",
              "    }\n",
              "\n",
              "    [theme=dark] .colab-df-convert {\n",
              "      background-color: #3B4455;\n",
              "      fill: #D2E3FC;\n",
              "    }\n",
              "\n",
              "    [theme=dark] .colab-df-convert:hover {\n",
              "      background-color: #434B5C;\n",
              "      box-shadow: 0px 1px 3px 1px rgba(0, 0, 0, 0.15);\n",
              "      filter: drop-shadow(0px 1px 2px rgba(0, 0, 0, 0.3));\n",
              "      fill: #FFFFFF;\n",
              "    }\n",
              "  </style>\n",
              "\n",
              "      <script>\n",
              "        const buttonEl =\n",
              "          document.querySelector('#df-7ce84d16-41c2-4bfe-ab46-53c727274b5b button.colab-df-convert');\n",
              "        buttonEl.style.display =\n",
              "          google.colab.kernel.accessAllowed ? 'block' : 'none';\n",
              "\n",
              "        async function convertToInteractive(key) {\n",
              "          const element = document.querySelector('#df-7ce84d16-41c2-4bfe-ab46-53c727274b5b');\n",
              "          const dataTable =\n",
              "            await google.colab.kernel.invokeFunction('convertToInteractive',\n",
              "                                                     [key], {});\n",
              "          if (!dataTable) return;\n",
              "\n",
              "          const docLinkHtml = 'Like what you see? Visit the ' +\n",
              "            '<a target=\"_blank\" href=https://colab.research.google.com/notebooks/data_table.ipynb>data table notebook</a>'\n",
              "            + ' to learn more about interactive tables.';\n",
              "          element.innerHTML = '';\n",
              "          dataTable['output_type'] = 'display_data';\n",
              "          await google.colab.output.renderOutput(dataTable, element);\n",
              "          const docLink = document.createElement('div');\n",
              "          docLink.innerHTML = docLinkHtml;\n",
              "          element.appendChild(docLink);\n",
              "        }\n",
              "      </script>\n",
              "    </div>\n",
              "  </div>\n",
              "  "
            ]
          },
          "metadata": {},
          "execution_count": 5
        }
      ],
      "source": [
        "datos_iniciales.head()"
      ]
    },
    {
      "cell_type": "code",
      "execution_count": null,
      "metadata": {
        "colab": {
          "base_uri": "https://localhost:8080/"
        },
        "id": "3ZXkBKmo_f5D",
        "outputId": "10e417ec-abeb-4268-f837-0d8d2c738116"
      },
      "outputs": [
        {
          "output_type": "execute_result",
          "data": {
            "text/plain": [
              "(10445, 21)"
            ]
          },
          "metadata": {},
          "execution_count": 6
        }
      ],
      "source": [
        "datos_iniciales.shape"
      ]
    },
    {
      "cell_type": "markdown",
      "metadata": {
        "id": "QO00oXwijtcw"
      },
      "source": [
        "**2. Limpieza de datos**\n",
        "\n",
        "1. Quitaremos la columna \"numeroPedido\" puesto que esta no agrega información a la clusterización\n",
        "2. Convertiremos las columnas categóricas a numéricas.\n"
      ]
    },
    {
      "cell_type": "code",
      "execution_count": null,
      "metadata": {
        "id": "X799NBhXSZyd"
      },
      "outputs": [],
      "source": [
        "datos_iniciales.drop([\"numeroPedido\"], axis='columns', inplace=True)"
      ]
    },
    {
      "cell_type": "markdown",
      "metadata": {
        "id": "VZQcqsc6w16x"
      },
      "source": [
        "Analizamos las columnas categóricas"
      ]
    },
    {
      "cell_type": "code",
      "execution_count": null,
      "metadata": {
        "colab": {
          "base_uri": "https://localhost:8080/"
        },
        "id": "BFw1xJjacEOU",
        "outputId": "6f2cfe43-2e2c-4765-b752-681a777787a8"
      },
      "outputs": [
        {
          "output_type": "execute_result",
          "data": {
            "text/plain": [
              "Automáticas PreAgenda    7197\n",
              "Médicos Programa         3012\n",
              "Transcripción             236\n",
              "Name: Origen, dtype: int64"
            ]
          },
          "metadata": {},
          "execution_count": 8
        }
      ],
      "source": [
        "datos_iniciales[\"Origen\"].value_counts()"
      ]
    },
    {
      "cell_type": "code",
      "execution_count": null,
      "metadata": {
        "colab": {
          "base_uri": "https://localhost:8080/"
        },
        "id": "Pued3HTjh-1W",
        "outputId": "3624a7b0-0cd1-4dd8-8dc5-bd9c9cd2775b"
      },
      "outputs": [
        {
          "output_type": "execute_result",
          "data": {
            "text/plain": [
              "Valle de Aburrá    9787\n",
              "Oriente             411\n",
              "Norte                98\n",
              "Sin Zona             94\n",
              "Sur                  31\n",
              "Occidente            24\n",
              "Name: Zona, dtype: int64"
            ]
          },
          "metadata": {},
          "execution_count": 9
        }
      ],
      "source": [
        "datos_iniciales[\"Zona\"].value_counts()"
      ]
    },
    {
      "cell_type": "code",
      "execution_count": null,
      "metadata": {
        "colab": {
          "base_uri": "https://localhost:8080/"
        },
        "id": "xWbsv0Ixl5FV",
        "outputId": "5a032591-4401-4658-fcca-829cea526bf4"
      },
      "outputs": [
        {
          "output_type": "execute_result",
          "data": {
            "text/plain": [
              "PERSONAL INTERNO                5575\n",
              "TAQUILLA                        4437\n",
              "TRANSPORTADORAS PRINCIPALES      320\n",
              "DOMICILIO EXTERNO                 78\n",
              "TRANSPORTADORAS AUXILIARES        35\n",
              "Name: transportador, dtype: int64"
            ]
          },
          "metadata": {},
          "execution_count": 10
        }
      ],
      "source": [
        "datos_iniciales[\"transportador\"].value_counts()"
      ]
    },
    {
      "cell_type": "code",
      "execution_count": null,
      "metadata": {
        "colab": {
          "base_uri": "https://localhost:8080/"
        },
        "id": "IlVnJLejnA0e",
        "outputId": "f33a3cbd-71cf-4173-ed43-6ad0397f0d18"
      },
      "outputs": [
        {
          "output_type": "execute_result",
          "data": {
            "text/plain": [
              "PBS           9555\n",
              "CONVENCION     716\n",
              "NO PBS         172\n",
              "OTRAS            2\n",
              "Name: convenio, dtype: int64"
            ]
          },
          "metadata": {},
          "execution_count": 11
        }
      ],
      "source": [
        "datos_iniciales[\"convenio\"].value_counts()"
      ]
    },
    {
      "cell_type": "code",
      "execution_count": null,
      "metadata": {
        "colab": {
          "base_uri": "https://localhost:8080/"
        },
        "id": "1eVfFKiKO563",
        "outputId": "5f689429-4ba7-48b6-d877-38d6982fe305"
      },
      "outputs": [
        {
          "output_type": "execute_result",
          "data": {
            "text/plain": [
              "NO    7127\n",
              "SI    3318\n",
              "Name: Cumple, dtype: int64"
            ]
          },
          "metadata": {},
          "execution_count": 12
        }
      ],
      "source": [
        "datos_iniciales[\"Cumple\"].value_counts()\n"
      ]
    },
    {
      "cell_type": "code",
      "source": [
        "datt = datos_iniciales[\"Cumple\"].value_counts()\n",
        "datt[1]"
      ],
      "metadata": {
        "colab": {
          "base_uri": "https://localhost:8080/"
        },
        "id": "ANgKdBkFv8vn",
        "outputId": "ca7f4927-ad9b-4677-c391-95df5a16dfaa"
      },
      "execution_count": null,
      "outputs": [
        {
          "output_type": "execute_result",
          "data": {
            "text/plain": [
              "3318"
            ]
          },
          "metadata": {},
          "execution_count": 13
        }
      ]
    },
    {
      "cell_type": "markdown",
      "metadata": {
        "id": "BSAqzaid9poh"
      },
      "source": [
        "**Matriz de Correlación**"
      ]
    },
    {
      "cell_type": "markdown",
      "metadata": {
        "id": "APJuYLBaG3kj"
      },
      "source": [
        "Las variables con valores de coeficiente de correlación más cercanos a 1 muestran una fuerte correlación positiva, \n",
        "\n",
        "los valores más cercanos a -1 muestran una fuerte correlación negativa \n",
        "\n",
        "y los valores más cercanos a 0 muestran una correlación débil o nula"
      ]
    },
    {
      "cell_type": "markdown",
      "metadata": {
        "id": "yXVXhbJNvixQ"
      },
      "source": [
        "Se utiliza LabelEncoder para volver una categoría en valores numéricos "
      ]
    },
    {
      "cell_type": "code",
      "execution_count": null,
      "metadata": {
        "id": "x7tht1_EHJQl"
      },
      "outputs": [],
      "source": [
        "#vamos a realizar la correlacion de las variables numericas\n",
        "dataNumericas = datos_iniciales.copy()\n",
        "dataNumericas.drop([\"Origen\",\"Zona\",\"transportador\",\"convenio\",\"Cumple\"], axis='columns', inplace=True)"
      ]
    },
    {
      "cell_type": "code",
      "execution_count": null,
      "metadata": {
        "colab": {
          "base_uri": "https://localhost:8080/"
        },
        "id": "2LjiCKb4JEiK",
        "outputId": "e772a39c-13cf-4af1-9dbd-57d2658fbbad"
      },
      "outputs": [
        {
          "output_type": "stream",
          "name": "stdout",
          "text": [
            "<class 'pandas.core.frame.DataFrame'>\n",
            "RangeIndex: 10445 entries, 0 to 10444\n",
            "Data columns (total 15 columns):\n",
            " #   Column                    Non-Null Count  Dtype  \n",
            "---  ------                    --------------  -----  \n",
            " 0   DiaSemana                 10445 non-null  int64  \n",
            " 1   EntregasTotal             10445 non-null  int64  \n",
            " 2   NumeroEntrega             10445 non-null  int64  \n",
            " 3   PorcentajeTratamiento     10445 non-null  float64\n",
            " 4   cantidadItemsPedido       10445 non-null  int64  \n",
            " 5   CantItemsCadenafrio       10445 non-null  int64  \n",
            " 6   cantAgotados              10445 non-null  int64  \n",
            " 7   cantidadUnidadesPedido    10445 non-null  int64  \n",
            " 8   cantidadUnidadesFactura   10445 non-null  int64  \n",
            " 9   cantidadFacturas          10445 non-null  int64  \n",
            " 10  cantidadNovedadesEntrega  10445 non-null  int64  \n",
            " 11  Controlado                10445 non-null  int64  \n",
            " 12  regulado                  10445 non-null  int64  \n",
            " 13  bodega                    10445 non-null  int64  \n",
            " 14  Distancia Kmts            10445 non-null  float64\n",
            "dtypes: float64(2), int64(13)\n",
            "memory usage: 1.2 MB\n"
          ]
        }
      ],
      "source": [
        "dataNumericas.info()"
      ]
    },
    {
      "cell_type": "code",
      "execution_count": null,
      "metadata": {
        "colab": {
          "base_uri": "https://localhost:8080/",
          "height": 880
        },
        "id": "vJI8MWczIpds",
        "outputId": "6a867cb1-cbe6-4672-d9e6-d5749a30840e"
      },
      "outputs": [
        {
          "output_type": "display_data",
          "data": {
            "text/plain": [
              "<Figure size 3600x1440 with 2 Axes>"
            ],
            "image/png": "[encoded data removed]"
          },
          "metadata": {
            "needs_background": "light"
          }
        }
      ],
      "source": [
        "corr_df = dataNumericas.corr(method='pearson')\n",
        "\n",
        "plt.figure(figsize=(50, 20))\n",
        "sns.heatmap(corr_df, annot=True)\n",
        "plt.show()"
      ]
    },
    {
      "cell_type": "code",
      "execution_count": null,
      "metadata": {
        "colab": {
          "base_uri": "https://localhost:8080/"
        },
        "id": "zWts07DXG9Ho",
        "outputId": "40e4e8f6-e2c4-4570-8dc2-5328455acb39"
      },
      "outputs": [
        {
          "output_type": "execute_result",
          "data": {
            "text/plain": [
              "Distancia Kmts         bodega                  -0.582749\n",
              "bodega                 Distancia Kmts          -0.582749\n",
              "EntregasTotal          PorcentajeTratamiento   -0.421042\n",
              "PorcentajeTratamiento  EntregasTotal           -0.421042\n",
              "Distancia Kmts         cantidadFacturas        -0.158460\n",
              "                                                  ...   \n",
              "PorcentajeTratamiento  PorcentajeTratamiento    1.000000\n",
              "NumeroEntrega          NumeroEntrega            1.000000\n",
              "EntregasTotal          EntregasTotal            1.000000\n",
              "bodega                 bodega                   1.000000\n",
              "Distancia Kmts         Distancia Kmts           1.000000\n",
              "Length: 225, dtype: float64"
            ]
          },
          "metadata": {},
          "execution_count": 17
        }
      ],
      "source": [
        "data_Correlacion = dataNumericas\n",
        "label_encoder = LabelEncoder() \n",
        "corr_mat = data_Correlacion.corr(method='pearson') \n",
        "  \n",
        "CorrelacionPedidos = corr_mat.unstack().sort_values() \n",
        "# CorrelacionPedidos.to_excel('Correlacion.xlsx', index=True)\n",
        "CorrelacionPedidos.head(300)"
      ]
    },
    {
      "cell_type": "code",
      "execution_count": null,
      "metadata": {
        "colab": {
          "base_uri": "https://localhost:8080/",
          "height": 407
        },
        "id": "R8DjWGvwMxCk",
        "outputId": "6cdbe642-24e3-44c0-939e-942b5b7d63fa"
      },
      "outputs": [
        {
          "output_type": "execute_result",
          "data": {
            "text/plain": [
              "   DiaSemana  EntregasTotal  NumeroEntrega  PorcentajeTratamiento  \\\n",
              "0          3              6              3               0.500000   \n",
              "1          3              1              1               1.000000   \n",
              "2          3              4              4               1.000000   \n",
              "3          3              4              2               0.500000   \n",
              "4          3              6              6               1.000000   \n",
              "5          3              2              2               1.000000   \n",
              "6          3              2              1               0.500000   \n",
              "7          3              6              3               0.500000   \n",
              "8          3              3              3               1.000000   \n",
              "9          3              6              5               0.833333   \n",
              "\n",
              "   cantidadItemsPedido  CantItemsCadenafrio  cantAgotados  \\\n",
              "0                    1                    0             1   \n",
              "1                    1                    0             0   \n",
              "2                    2                    0             1   \n",
              "3                    7                    0             2   \n",
              "4                    4                    0             1   \n",
              "5                    1                    0             0   \n",
              "6                    3                    0             0   \n",
              "7                    1                    0             0   \n",
              "8                    3                    0             1   \n",
              "9                    1                    0             1   \n",
              "\n",
              "   cantidadUnidadesPedido  cantidadUnidadesFactura  cantidadFacturas  \\\n",
              "0                      60                       60                 1   \n",
              "1                      63                       63                 1   \n",
              "2                      60                       60                 1   \n",
              "3                     360                      360                 1   \n",
              "4                     180                      180                 1   \n",
              "5                      60                       60                 1   \n",
              "6                      61                       61                 1   \n",
              "7                      30                       30                 1   \n",
              "8                      90                       90                 1   \n",
              "9                      60                       60                 1   \n",
              "\n",
              "   cantidadNovedadesEntrega  Controlado  regulado  bodega  Distancia Kmts  \n",
              "0                         0           0         1      21             0.0  \n",
              "1                         0           0         1      21             0.0  \n",
              "2                         0           0         0      21             0.0  \n",
              "3                         0           0         1      21             0.0  \n",
              "4                         0           0         0      21             0.0  \n",
              "5                         0           0         0      21             0.0  \n",
              "6                         0           0         1      21             0.0  \n",
              "7                         0           0         0      21             0.0  \n",
              "8                         0           0         0      21             0.0  \n",
              "9                         0           0         0      21             0.0  "
            ],
            "text/html": [
              "\n",
              "  <div id=\"df-ed11afc3-2e6b-4096-bbf6-6e53ef20a95e\">\n",
              "    <div class=\"colab-df-container\">\n",
              "      <div>\n",
              "<style scoped>\n",
              "    .dataframe tbody tr th:only-of-type {\n",
              "        vertical-align: middle;\n",
              "    }\n",
              "\n",
              "    .dataframe tbody tr th {\n",
              "        vertical-align: top;\n",
              "    }\n",
              "\n",
              "    .dataframe thead th {\n",
              "        text-align: right;\n",
              "    }\n",
              "</style>\n",
              "<table border=\"1\" class=\"dataframe\">\n",
              "  <thead>\n",
              "    <tr style=\"text-align: right;\">\n",
              "      <th></th>\n",
              "      <th>DiaSemana</th>\n",
              "      <th>EntregasTotal</th>\n",
              "      <th>NumeroEntrega</th>\n",
              "      <th>PorcentajeTratamiento</th>\n",
              "      <th>cantidadItemsPedido</th>\n",
              "      <th>CantItemsCadenafrio</th>\n",
              "      <th>cantAgotados</th>\n",
              "      <th>cantidadUnidadesPedido</th>\n",
              "      <th>cantidadUnidadesFactura</th>\n",
              "      <th>cantidadFacturas</th>\n",
              "      <th>cantidadNovedadesEntrega</th>\n",
              "      <th>Controlado</th>\n",
              "      <th>regulado</th>\n",
              "      <th>bodega</th>\n",
              "      <th>Distancia Kmts</th>\n",
              "    </tr>\n",
              "  </thead>\n",
              "  <tbody>\n",
              "    <tr>\n",
              "      <th>0</th>\n",
              "      <td>3</td>\n",
              "      <td>6</td>\n",
              "      <td>3</td>\n",
              "      <td>0.500000</td>\n",
              "      <td>1</td>\n",
              "      <td>0</td>\n",
              "      <td>1</td>\n",
              "      <td>60</td>\n",
              "      <td>60</td>\n",
              "      <td>1</td>\n",
              "      <td>0</td>\n",
              "      <td>0</td>\n",
              "      <td>1</td>\n",
              "      <td>21</td>\n",
              "      <td>0.0</td>\n",
              "    </tr>\n",
              "    <tr>\n",
              "      <th>1</th>\n",
              "      <td>3</td>\n",
              "      <td>1</td>\n",
              "      <td>1</td>\n",
              "      <td>1.000000</td>\n",
              "      <td>1</td>\n",
              "      <td>0</td>\n",
              "      <td>0</td>\n",
              "      <td>63</td>\n",
              "      <td>63</td>\n",
              "      <td>1</td>\n",
              "      <td>0</td>\n",
              "      <td>0</td>\n",
              "      <td>1</td>\n",
              "      <td>21</td>\n",
              "      <td>0.0</td>\n",
              "    </tr>\n",
              "    <tr>\n",
              "      <th>2</th>\n",
              "      <td>3</td>\n",
              "      <td>4</td>\n",
              "      <td>4</td>\n",
              "      <td>1.000000</td>\n",
              "      <td>2</td>\n",
              "      <td>0</td>\n",
              "      <td>1</td>\n",
              "      <td>60</td>\n",
              "      <td>60</td>\n",
              "      <td>1</td>\n",
              "      <td>0</td>\n",
              "      <td>0</td>\n",
              "      <td>0</td>\n",
              "      <td>21</td>\n",
              "      <td>0.0</td>\n",
              "    </tr>\n",
              "    <tr>\n",
              "      <th>3</th>\n",
              "      <td>3</td>\n",
              "      <td>4</td>\n",
              "      <td>2</td>\n",
              "      <td>0.500000</td>\n",
              "      <td>7</td>\n",
              "      <td>0</td>\n",
              "      <td>2</td>\n",
              "      <td>360</td>\n",
              "      <td>360</td>\n",
              "      <td>1</td>\n",
              "      <td>0</td>\n",
              "      <td>0</td>\n",
              "      <td>1</td>\n",
              "      <td>21</td>\n",
              "      <td>0.0</td>\n",
              "    </tr>\n",
              "    <tr>\n",
              "      <th>4</th>\n",
              "      <td>3</td>\n",
              "      <td>6</td>\n",
              "      <td>6</td>\n",
              "      <td>1.000000</td>\n",
              "      <td>4</td>\n",
              "      <td>0</td>\n",
              "      <td>1</td>\n",
              "      <td>180</td>\n",
              "      <td>180</td>\n",
              "      <td>1</td>\n",
              "      <td>0</td>\n",
              "      <td>0</td>\n",
              "      <td>0</td>\n",
              "      <td>21</td>\n",
              "      <td>0.0</td>\n",
              "    </tr>\n",
              "    <tr>\n",
              "      <th>5</th>\n",
              "      <td>3</td>\n",
              "      <td>2</td>\n",
              "      <td>2</td>\n",
              "      <td>1.000000</td>\n",
              "      <td>1</td>\n",
              "      <td>0</td>\n",
              "      <td>0</td>\n",
              "      <td>60</td>\n",
              "      <td>60</td>\n",
              "      <td>1</td>\n",
              "      <td>0</td>\n",
              "      <td>0</td>\n",
              "      <td>0</td>\n",
              "      <td>21</td>\n",
              "      <td>0.0</td>\n",
              "    </tr>\n",
              "    <tr>\n",
              "      <th>6</th>\n",
              "      <td>3</td>\n",
              "      <td>2</td>\n",
              "      <td>1</td>\n",
              "      <td>0.500000</td>\n",
              "      <td>3</td>\n",
              "      <td>0</td>\n",
              "      <td>0</td>\n",
              "      <td>61</td>\n",
              "      <td>61</td>\n",
              "      <td>1</td>\n",
              "      <td>0</td>\n",
              "      <td>0</td>\n",
              "      <td>1</td>\n",
              "      <td>21</td>\n",
              "      <td>0.0</td>\n",
              "    </tr>\n",
              "    <tr>\n",
              "      <th>7</th>\n",
              "      <td>3</td>\n",
              "      <td>6</td>\n",
              "      <td>3</td>\n",
              "      <td>0.500000</td>\n",
              "      <td>1</td>\n",
              "      <td>0</td>\n",
              "      <td>0</td>\n",
              "      <td>30</td>\n",
              "      <td>30</td>\n",
              "      <td>1</td>\n",
              "      <td>0</td>\n",
              "      <td>0</td>\n",
              "      <td>0</td>\n",
              "      <td>21</td>\n",
              "      <td>0.0</td>\n",
              "    </tr>\n",
              "    <tr>\n",
              "      <th>8</th>\n",
              "      <td>3</td>\n",
              "      <td>3</td>\n",
              "      <td>3</td>\n",
              "      <td>1.000000</td>\n",
              "      <td>3</td>\n",
              "      <td>0</td>\n",
              "      <td>1</td>\n",
              "      <td>90</td>\n",
              "      <td>90</td>\n",
              "      <td>1</td>\n",
              "      <td>0</td>\n",
              "      <td>0</td>\n",
              "      <td>0</td>\n",
              "      <td>21</td>\n",
              "      <td>0.0</td>\n",
              "    </tr>\n",
              "    <tr>\n",
              "      <th>9</th>\n",
              "      <td>3</td>\n",
              "      <td>6</td>\n",
              "      <td>5</td>\n",
              "      <td>0.833333</td>\n",
              "      <td>1</td>\n",
              "      <td>0</td>\n",
              "      <td>1</td>\n",
              "      <td>60</td>\n",
              "      <td>60</td>\n",
              "      <td>1</td>\n",
              "      <td>0</td>\n",
              "      <td>0</td>\n",
              "      <td>0</td>\n",
              "      <td>21</td>\n",
              "      <td>0.0</td>\n",
              "    </tr>\n",
              "  </tbody>\n",
              "</table>\n",
              "</div>\n",
              "      <button class=\"colab-df-convert\" onclick=\"convertToInteractive('df-ed11afc3-2e6b-4096-bbf6-6e53ef20a95e')\"\n",
              "              title=\"Convert this dataframe to an interactive table.\"\n",
              "              style=\"display:none;\">\n",
              "        \n",
              "  <svg xmlns=\"http://www.w3.org/2000/svg\" height=\"24px\"viewBox=\"0 0 24 24\"\n",
              "       width=\"24px\">\n",
              "    <path d=\"M0 0h24v24H0V0z\" fill=\"none\"/>\n",
              "    <path d=\"M18.56 5.44l.94 2.06.94-2.06 2.06-.94-2.06-.94-.94-2.06-.94 2.06-2.06.94zm-11 1L8.5 8.5l.94-2.06 2.06-.94-2.06-.94L8.5 2.5l-.94 2.06-2.06.94zm10 10l.94 2.06.94-2.06 2.06-.94-2.06-.94-.94-2.06-.94 2.06-2.06.94z\"/><path d=\"M17.41 7.96l-1.37-1.37c-.4-.4-.92-.59-1.43-.59-.52 0-1.04.2-1.43.59L10.3 9.45l-7.72 7.72c-.78.78-.78 2.05 0 2.83L4 21.41c.39.39.9.59 1.41.59.51 0 1.02-.2 1.41-.59l7.78-7.78 2.81-2.81c.8-.78.8-2.07 0-2.86zM5.41 20L4 18.59l7.72-7.72 1.47 1.35L5.41 20z\"/>\n",
              "  </svg>\n",
              "      </button>\n",
              "      \n",
              "  <style>\n",
              "    .colab-df-container {\n",
              "      display:flex;\n",
              "      flex-wrap:wrap;\n",
              "      gap: 12px;\n",
              "    }\n",
              "\n",
              "    .colab-df-convert {\n",
              "      background-color: #E8F0FE;\n",
              "      border: none;\n",
              "      border-radius: 50%;\n",
              "      cursor: pointer;\n",
              "      display: none;\n",
              "      fill: #1967D2;\n",
              "      height: 32px;\n",
              "      padding: 0 0 0 0;\n",
              "      width: 32px;\n",
              "    }\n",
              "\n",
              "    .colab-df-convert:hover {\n",
              "      background-color: #E2EBFA;\n",
              "      box-shadow: 0px 1px 2px rgba(60, 64, 67, 0.3), 0px 1px 3px 1px rgba(60, 64, 67, 0.15);\n",
              "      fill: #174EA6;\n",
              "    }\n",
              "\n",
              "    [theme=dark] .colab-df-convert {\n",
              "      background-color: #3B4455;\n",
              "      fill: #D2E3FC;\n",
              "    }\n",
              "\n",
              "    [theme=dark] .colab-df-convert:hover {\n",
              "      background-color: #434B5C;\n",
              "      box-shadow: 0px 1px 3px 1px rgba(0, 0, 0, 0.15);\n",
              "      filter: drop-shadow(0px 1px 2px rgba(0, 0, 0, 0.3));\n",
              "      fill: #FFFFFF;\n",
              "    }\n",
              "  </style>\n",
              "\n",
              "      <script>\n",
              "        const buttonEl =\n",
              "          document.querySelector('#df-ed11afc3-2e6b-4096-bbf6-6e53ef20a95e button.colab-df-convert');\n",
              "        buttonEl.style.display =\n",
              "          google.colab.kernel.accessAllowed ? 'block' : 'none';\n",
              "\n",
              "        async function convertToInteractive(key) {\n",
              "          const element = document.querySelector('#df-ed11afc3-2e6b-4096-bbf6-6e53ef20a95e');\n",
              "          const dataTable =\n",
              "            await google.colab.kernel.invokeFunction('convertToInteractive',\n",
              "                                                     [key], {});\n",
              "          if (!dataTable) return;\n",
              "\n",
              "          const docLinkHtml = 'Like what you see? Visit the ' +\n",
              "            '<a target=\"_blank\" href=https://colab.research.google.com/notebooks/data_table.ipynb>data table notebook</a>'\n",
              "            + ' to learn more about interactive tables.';\n",
              "          element.innerHTML = '';\n",
              "          dataTable['output_type'] = 'display_data';\n",
              "          await google.colab.output.renderOutput(dataTable, element);\n",
              "          const docLink = document.createElement('div');\n",
              "          docLink.innerHTML = docLinkHtml;\n",
              "          element.appendChild(docLink);\n",
              "        }\n",
              "      </script>\n",
              "    </div>\n",
              "  </div>\n",
              "  "
            ]
          },
          "metadata": {},
          "execution_count": 18
        }
      ],
      "source": [
        "dataNumericas.head(10)"
      ]
    },
    {
      "cell_type": "code",
      "execution_count": null,
      "metadata": {
        "id": "F0DW4F9SHFkx"
      },
      "outputs": [],
      "source": [
        "def tidy_corr_matrix(corr_mat):\n",
        "    '''\n",
        "    Función para convertir una matriz de correlación de pandas en formato tidy.\n",
        "    '''\n",
        "    corr_mat = corr_mat.stack().reset_index()\n",
        "    corr_mat.columns = ['variable_1','variable_2','r']\n",
        "    corr_mat = corr_mat.loc[corr_mat['variable_1'] != corr_mat['variable_2'], :]\n",
        "    corr_mat['abs_r'] = np.abs(corr_mat['r'])\n",
        "    corr_mat = corr_mat.sort_values('abs_r', ascending=False)\n",
        "    \n",
        "    return(corr_mat)\n",
        "\n"
      ]
    },
    {
      "cell_type": "code",
      "execution_count": null,
      "metadata": {
        "colab": {
          "base_uri": "https://localhost:8080/",
          "height": 676
        },
        "id": "Z59f8xv0NG8s",
        "outputId": "93b360bd-4d2c-4035-8a6b-888a445c54fb"
      },
      "outputs": [
        {
          "output_type": "execute_result",
          "data": {
            "text/plain": [
              "                  variable_1               variable_2         r     abs_r\n",
              "113   cantidadUnidadesPedido  cantidadUnidadesFactura  0.999866  0.999866\n",
              "127  cantidadUnidadesFactura   cantidadUnidadesPedido  0.999866  0.999866\n",
              "109   cantidadUnidadesPedido      cantidadItemsPedido  0.875569  0.875569\n",
              "67       cantidadItemsPedido   cantidadUnidadesPedido  0.875569  0.875569\n",
              "124  cantidadUnidadesFactura      cantidadItemsPedido  0.875448  0.875448\n",
              "68       cantidadItemsPedido  cantidadUnidadesFactura  0.875448  0.875448\n",
              "17             EntregasTotal            NumeroEntrega  0.589870  0.589870\n",
              "31             NumeroEntrega            EntregasTotal  0.589870  0.589870\n",
              "209                   bodega           Distancia Kmts -0.582749  0.582749\n",
              "223           Distancia Kmts                   bodega -0.582749  0.582749\n",
              "72       cantidadItemsPedido                 regulado  0.526929  0.526929\n",
              "184                 regulado      cantidadItemsPedido  0.526929  0.526929\n",
              "117   cantidadUnidadesPedido                 regulado  0.499648  0.499648\n",
              "187                 regulado   cantidadUnidadesPedido  0.499648  0.499648\n",
              "188                 regulado  cantidadUnidadesFactura  0.499584  0.499584\n",
              "132  cantidadUnidadesFactura                 regulado  0.499584  0.499584\n",
              "185                 regulado      CantItemsCadenafrio  0.431034  0.431034\n",
              "87       CantItemsCadenafrio                 regulado  0.431034  0.431034\n",
              "18             EntregasTotal    PorcentajeTratamiento -0.421042  0.421042\n",
              "46     PorcentajeTratamiento            EntregasTotal -0.421042  0.421042"
            ],
            "text/html": [
              "\n",
              "  <div id=\"df-6b420b97-3362-4716-b061-16213077d1f5\">\n",
              "    <div class=\"colab-df-container\">\n",
              "      <div>\n",
              "<style scoped>\n",
              "    .dataframe tbody tr th:only-of-type {\n",
              "        vertical-align: middle;\n",
              "    }\n",
              "\n",
              "    .dataframe tbody tr th {\n",
              "        vertical-align: top;\n",
              "    }\n",
              "\n",
              "    .dataframe thead th {\n",
              "        text-align: right;\n",
              "    }\n",
              "</style>\n",
              "<table border=\"1\" class=\"dataframe\">\n",
              "  <thead>\n",
              "    <tr style=\"text-align: right;\">\n",
              "      <th></th>\n",
              "      <th>variable_1</th>\n",
              "      <th>variable_2</th>\n",
              "      <th>r</th>\n",
              "      <th>abs_r</th>\n",
              "    </tr>\n",
              "  </thead>\n",
              "  <tbody>\n",
              "    <tr>\n",
              "      <th>113</th>\n",
              "      <td>cantidadUnidadesPedido</td>\n",
              "      <td>cantidadUnidadesFactura</td>\n",
              "      <td>0.999866</td>\n",
              "      <td>0.999866</td>\n",
              "    </tr>\n",
              "    <tr>\n",
              "      <th>127</th>\n",
              "      <td>cantidadUnidadesFactura</td>\n",
              "      <td>cantidadUnidadesPedido</td>\n",
              "      <td>0.999866</td>\n",
              "      <td>0.999866</td>\n",
              "    </tr>\n",
              "    <tr>\n",
              "      <th>109</th>\n",
              "      <td>cantidadUnidadesPedido</td>\n",
              "      <td>cantidadItemsPedido</td>\n",
              "      <td>0.875569</td>\n",
              "      <td>0.875569</td>\n",
              "    </tr>\n",
              "    <tr>\n",
              "      <th>67</th>\n",
              "      <td>cantidadItemsPedido</td>\n",
              "      <td>cantidadUnidadesPedido</td>\n",
              "      <td>0.875569</td>\n",
              "      <td>0.875569</td>\n",
              "    </tr>\n",
              "    <tr>\n",
              "      <th>124</th>\n",
              "      <td>cantidadUnidadesFactura</td>\n",
              "      <td>cantidadItemsPedido</td>\n",
              "      <td>0.875448</td>\n",
              "      <td>0.875448</td>\n",
              "    </tr>\n",
              "    <tr>\n",
              "      <th>68</th>\n",
              "      <td>cantidadItemsPedido</td>\n",
              "      <td>cantidadUnidadesFactura</td>\n",
              "      <td>0.875448</td>\n",
              "      <td>0.875448</td>\n",
              "    </tr>\n",
              "    <tr>\n",
              "      <th>17</th>\n",
              "      <td>EntregasTotal</td>\n",
              "      <td>NumeroEntrega</td>\n",
              "      <td>0.589870</td>\n",
              "      <td>0.589870</td>\n",
              "    </tr>\n",
              "    <tr>\n",
              "      <th>31</th>\n",
              "      <td>NumeroEntrega</td>\n",
              "      <td>EntregasTotal</td>\n",
              "      <td>0.589870</td>\n",
              "      <td>0.589870</td>\n",
              "    </tr>\n",
              "    <tr>\n",
              "      <th>209</th>\n",
              "      <td>bodega</td>\n",
              "      <td>Distancia Kmts</td>\n",
              "      <td>-0.582749</td>\n",
              "      <td>0.582749</td>\n",
              "    </tr>\n",
              "    <tr>\n",
              "      <th>223</th>\n",
              "      <td>Distancia Kmts</td>\n",
              "      <td>bodega</td>\n",
              "      <td>-0.582749</td>\n",
              "      <td>0.582749</td>\n",
              "    </tr>\n",
              "    <tr>\n",
              "      <th>72</th>\n",
              "      <td>cantidadItemsPedido</td>\n",
              "      <td>regulado</td>\n",
              "      <td>0.526929</td>\n",
              "      <td>0.526929</td>\n",
              "    </tr>\n",
              "    <tr>\n",
              "      <th>184</th>\n",
              "      <td>regulado</td>\n",
              "      <td>cantidadItemsPedido</td>\n",
              "      <td>0.526929</td>\n",
              "      <td>0.526929</td>\n",
              "    </tr>\n",
              "    <tr>\n",
              "      <th>117</th>\n",
              "      <td>cantidadUnidadesPedido</td>\n",
              "      <td>regulado</td>\n",
              "      <td>0.499648</td>\n",
              "      <td>0.499648</td>\n",
              "    </tr>\n",
              "    <tr>\n",
              "      <th>187</th>\n",
              "      <td>regulado</td>\n",
              "      <td>cantidadUnidadesPedido</td>\n",
              "      <td>0.499648</td>\n",
              "      <td>0.499648</td>\n",
              "    </tr>\n",
              "    <tr>\n",
              "      <th>188</th>\n",
              "      <td>regulado</td>\n",
              "      <td>cantidadUnidadesFactura</td>\n",
              "      <td>0.499584</td>\n",
              "      <td>0.499584</td>\n",
              "    </tr>\n",
              "    <tr>\n",
              "      <th>132</th>\n",
              "      <td>cantidadUnidadesFactura</td>\n",
              "      <td>regulado</td>\n",
              "      <td>0.499584</td>\n",
              "      <td>0.499584</td>\n",
              "    </tr>\n",
              "    <tr>\n",
              "      <th>185</th>\n",
              "      <td>regulado</td>\n",
              "      <td>CantItemsCadenafrio</td>\n",
              "      <td>0.431034</td>\n",
              "      <td>0.431034</td>\n",
              "    </tr>\n",
              "    <tr>\n",
              "      <th>87</th>\n",
              "      <td>CantItemsCadenafrio</td>\n",
              "      <td>regulado</td>\n",
              "      <td>0.431034</td>\n",
              "      <td>0.431034</td>\n",
              "    </tr>\n",
              "    <tr>\n",
              "      <th>18</th>\n",
              "      <td>EntregasTotal</td>\n",
              "      <td>PorcentajeTratamiento</td>\n",
              "      <td>-0.421042</td>\n",
              "      <td>0.421042</td>\n",
              "    </tr>\n",
              "    <tr>\n",
              "      <th>46</th>\n",
              "      <td>PorcentajeTratamiento</td>\n",
              "      <td>EntregasTotal</td>\n",
              "      <td>-0.421042</td>\n",
              "      <td>0.421042</td>\n",
              "    </tr>\n",
              "  </tbody>\n",
              "</table>\n",
              "</div>\n",
              "      <button class=\"colab-df-convert\" onclick=\"convertToInteractive('df-6b420b97-3362-4716-b061-16213077d1f5')\"\n",
              "              title=\"Convert this dataframe to an interactive table.\"\n",
              "              style=\"display:none;\">\n",
              "        \n",
              "  <svg xmlns=\"http://www.w3.org/2000/svg\" height=\"24px\"viewBox=\"0 0 24 24\"\n",
              "       width=\"24px\">\n",
              "    <path d=\"M0 0h24v24H0V0z\" fill=\"none\"/>\n",
              "    <path d=\"M18.56 5.44l.94 2.06.94-2.06 2.06-.94-2.06-.94-.94-2.06-.94 2.06-2.06.94zm-11 1L8.5 8.5l.94-2.06 2.06-.94-2.06-.94L8.5 2.5l-.94 2.06-2.06.94zm10 10l.94 2.06.94-2.06 2.06-.94-2.06-.94-.94-2.06-.94 2.06-2.06.94z\"/><path d=\"M17.41 7.96l-1.37-1.37c-.4-.4-.92-.59-1.43-.59-.52 0-1.04.2-1.43.59L10.3 9.45l-7.72 7.72c-.78.78-.78 2.05 0 2.83L4 21.41c.39.39.9.59 1.41.59.51 0 1.02-.2 1.41-.59l7.78-7.78 2.81-2.81c.8-.78.8-2.07 0-2.86zM5.41 20L4 18.59l7.72-7.72 1.47 1.35L5.41 20z\"/>\n",
              "  </svg>\n",
              "      </button>\n",
              "      \n",
              "  <style>\n",
              "    .colab-df-container {\n",
              "      display:flex;\n",
              "      flex-wrap:wrap;\n",
              "      gap: 12px;\n",
              "    }\n",
              "\n",
              "    .colab-df-convert {\n",
              "      background-color: #E8F0FE;\n",
              "      border: none;\n",
              "      border-radius: 50%;\n",
              "      cursor: pointer;\n",
              "      display: none;\n",
              "      fill: #1967D2;\n",
              "      height: 32px;\n",
              "      padding: 0 0 0 0;\n",
              "      width: 32px;\n",
              "    }\n",
              "\n",
              "    .colab-df-convert:hover {\n",
              "      background-color: #E2EBFA;\n",
              "      box-shadow: 0px 1px 2px rgba(60, 64, 67, 0.3), 0px 1px 3px 1px rgba(60, 64, 67, 0.15);\n",
              "      fill: #174EA6;\n",
              "    }\n",
              "\n",
              "    [theme=dark] .colab-df-convert {\n",
              "      background-color: #3B4455;\n",
              "      fill: #D2E3FC;\n",
              "    }\n",
              "\n",
              "    [theme=dark] .colab-df-convert:hover {\n",
              "      background-color: #434B5C;\n",
              "      box-shadow: 0px 1px 3px 1px rgba(0, 0, 0, 0.15);\n",
              "      filter: drop-shadow(0px 1px 2px rgba(0, 0, 0, 0.3));\n",
              "      fill: #FFFFFF;\n",
              "    }\n",
              "  </style>\n",
              "\n",
              "      <script>\n",
              "        const buttonEl =\n",
              "          document.querySelector('#df-6b420b97-3362-4716-b061-16213077d1f5 button.colab-df-convert');\n",
              "        buttonEl.style.display =\n",
              "          google.colab.kernel.accessAllowed ? 'block' : 'none';\n",
              "\n",
              "        async function convertToInteractive(key) {\n",
              "          const element = document.querySelector('#df-6b420b97-3362-4716-b061-16213077d1f5');\n",
              "          const dataTable =\n",
              "            await google.colab.kernel.invokeFunction('convertToInteractive',\n",
              "                                                     [key], {});\n",
              "          if (!dataTable) return;\n",
              "\n",
              "          const docLinkHtml = 'Like what you see? Visit the ' +\n",
              "            '<a target=\"_blank\" href=https://colab.research.google.com/notebooks/data_table.ipynb>data table notebook</a>'\n",
              "            + ' to learn more about interactive tables.';\n",
              "          element.innerHTML = '';\n",
              "          dataTable['output_type'] = 'display_data';\n",
              "          await google.colab.output.renderOutput(dataTable, element);\n",
              "          const docLink = document.createElement('div');\n",
              "          docLink.innerHTML = docLinkHtml;\n",
              "          element.appendChild(docLink);\n",
              "        }\n",
              "      </script>\n",
              "    </div>\n",
              "  </div>\n",
              "  "
            ]
          },
          "metadata": {},
          "execution_count": 20
        }
      ],
      "source": [
        "corr_matrix = dataNumericas.corr(method='pearson')\n",
        "tidy_corr_matrix(corr_matrix).head(20)"
      ]
    },
    {
      "cell_type": "code",
      "execution_count": null,
      "metadata": {
        "id": "WT_2R55UQHXy"
      },
      "outputs": [],
      "source": [
        "## Eliminamos la variables irrelevantes, \n",
        "datos_iniciales.drop([\"cantidadUnidadesFactura\",\"bodega\"], axis='columns', inplace=True)"
      ]
    },
    {
      "cell_type": "markdown",
      "source": [
        "verificamos la calidad de los datos, se procede a codificar las variables categóricas y eliminar la primera para evitar problemas de multicolinealidad"
      ],
      "metadata": {
        "id": "rLalaE17zxDe"
      }
    },
    {
      "cell_type": "code",
      "execution_count": null,
      "metadata": {
        "id": "jshmjnfPuZ8i"
      },
      "outputs": [],
      "source": [
        "data_num= datos_iniciales ## Copia de los datos"
      ]
    },
    {
      "cell_type": "markdown",
      "source": [
        "Codificación tipo onehotencoder, eliminanos una de las categorias codificadas para evitar problemas de multicolinaliedad"
      ],
      "metadata": {
        "id": "7Jr3iJjE0YPy"
      }
    },
    {
      "cell_type": "code",
      "execution_count": null,
      "metadata": {
        "id": "Klvc9uxMy_p6"
      },
      "outputs": [],
      "source": [
        "dummiesOrigen = pd.get_dummies(datos_iniciales[\"Origen\"])\n",
        "data_num = data_num.drop(\"Origen\",axis=1)\n",
        "data_num = data_num.join(dummiesOrigen)"
      ]
    },
    {
      "cell_type": "code",
      "execution_count": null,
      "metadata": {
        "id": "7H0Chv2ezoQA"
      },
      "outputs": [],
      "source": [
        "dummiesZona= pd.get_dummies(datos_iniciales[\"Zona\"])\n",
        "data_num = data_num.drop(\"Zona\",axis=1)\n",
        "data_num = data_num.join(dummiesZona)"
      ]
    },
    {
      "cell_type": "code",
      "execution_count": null,
      "metadata": {
        "id": "_9qlf_h-0Tg_"
      },
      "outputs": [],
      "source": [
        "dummiestransportador= pd.get_dummies(datos_iniciales[\"transportador\"])\n",
        "data_num = data_num.drop(\"transportador\",axis=1)\n",
        "data_num = data_num.join(dummiestransportador)"
      ]
    },
    {
      "cell_type": "code",
      "execution_count": null,
      "metadata": {
        "id": "o6OfLNxx0oJF"
      },
      "outputs": [],
      "source": [
        "dummiesconvenio= pd.get_dummies(datos_iniciales[\"convenio\"])\n",
        "data_num = data_num.drop(\"convenio\",axis=1)\n",
        "data_num = data_num.join(dummiesconvenio)"
      ]
    },
    {
      "cell_type": "code",
      "execution_count": null,
      "metadata": {
        "id": "7ag8zrPuueKc"
      },
      "outputs": [],
      "source": [
        "data_num[\"Cumple\"]=data_num[\"Cumple\"].replace({\"SI\": 1, \"NO\": 0})"
      ]
    },
    {
      "cell_type": "code",
      "execution_count": null,
      "metadata": {
        "colab": {
          "base_uri": "https://localhost:8080/"
        },
        "id": "q-CM7FB1ulR-",
        "outputId": "5c8cb075-8405-40b0-852d-45152f96f73e"
      },
      "outputs": [
        {
          "output_type": "stream",
          "name": "stdout",
          "text": [
            "<class 'pandas.core.frame.DataFrame'>\n",
            "RangeIndex: 10445 entries, 0 to 10444\n",
            "Data columns (total 32 columns):\n",
            " #   Column                        Non-Null Count  Dtype  \n",
            "---  ------                        --------------  -----  \n",
            " 0   DiaSemana                     10445 non-null  int64  \n",
            " 1   EntregasTotal                 10445 non-null  int64  \n",
            " 2   NumeroEntrega                 10445 non-null  int64  \n",
            " 3   PorcentajeTratamiento         10445 non-null  float64\n",
            " 4   cantidadItemsPedido           10445 non-null  int64  \n",
            " 5   CantItemsCadenafrio           10445 non-null  int64  \n",
            " 6   cantAgotados                  10445 non-null  int64  \n",
            " 7   cantidadUnidadesPedido        10445 non-null  int64  \n",
            " 8   cantidadFacturas              10445 non-null  int64  \n",
            " 9   cantidadNovedadesEntrega      10445 non-null  int64  \n",
            " 10  Controlado                    10445 non-null  int64  \n",
            " 11  regulado                      10445 non-null  int64  \n",
            " 12  Distancia Kmts                10445 non-null  float64\n",
            " 13  Cumple                        10445 non-null  int64  \n",
            " 14  Automáticas PreAgenda         10445 non-null  uint8  \n",
            " 15  Médicos Programa              10445 non-null  uint8  \n",
            " 16  Transcripción                 10445 non-null  uint8  \n",
            " 17  Norte                         10445 non-null  uint8  \n",
            " 18  Occidente                     10445 non-null  uint8  \n",
            " 19  Oriente                       10445 non-null  uint8  \n",
            " 20  Sin Zona                      10445 non-null  uint8  \n",
            " 21  Sur                           10445 non-null  uint8  \n",
            " 22  Valle de Aburrá               10445 non-null  uint8  \n",
            " 23  DOMICILIO EXTERNO             10445 non-null  uint8  \n",
            " 24  PERSONAL INTERNO              10445 non-null  uint8  \n",
            " 25  TAQUILLA                      10445 non-null  uint8  \n",
            " 26  TRANSPORTADORAS AUXILIARES    10445 non-null  uint8  \n",
            " 27  TRANSPORTADORAS PRINCIPALES   10445 non-null  uint8  \n",
            " 28  CONVENCION                    10445 non-null  uint8  \n",
            " 29  NO PBS                        10445 non-null  uint8  \n",
            " 30  OTRAS                         10445 non-null  uint8  \n",
            " 31  PBS                           10445 non-null  uint8  \n",
            "dtypes: float64(2), int64(12), uint8(18)\n",
            "memory usage: 1.3 MB\n"
          ]
        }
      ],
      "source": [
        "data_num.info()"
      ]
    },
    {
      "cell_type": "code",
      "execution_count": null,
      "metadata": {
        "colab": {
          "base_uri": "https://localhost:8080/",
          "height": 411
        },
        "id": "BEgZ9dn9wYKi",
        "outputId": "21db1983-7ccc-4ddc-c11c-d8c87c20e9f0"
      },
      "outputs": [
        {
          "output_type": "execute_result",
          "data": {
            "text/plain": [
              "          DiaSemana  EntregasTotal  NumeroEntrega  PorcentajeTratamiento  \\\n",
              "count  10445.000000   10445.000000   10445.000000           10445.000000   \n",
              "mean       3.090091       3.966587       2.288559               0.641633   \n",
              "std        1.542896       2.095785       1.510980               0.294652   \n",
              "min        1.000000       0.000000       0.000000               0.000000   \n",
              "25%        2.000000       3.000000       1.000000               0.333333   \n",
              "50%        3.000000       4.000000       2.000000               0.666667   \n",
              "75%        4.000000       6.000000       3.000000               1.000000   \n",
              "max        6.000000      12.000000      12.000000               1.000000   \n",
              "\n",
              "       cantidadItemsPedido  CantItemsCadenafrio  cantAgotados  \\\n",
              "count         10445.000000         10445.000000  10445.000000   \n",
              "mean              2.817808             0.060412      0.253997   \n",
              "std               2.053719             0.291735      0.513057   \n",
              "min               1.000000             0.000000      0.000000   \n",
              "25%               1.000000             0.000000      0.000000   \n",
              "50%               2.000000             0.000000      0.000000   \n",
              "75%               4.000000             0.000000      0.000000   \n",
              "max              19.000000             4.000000      4.000000   \n",
              "\n",
              "       cantidadUnidadesPedido  cantidadFacturas  cantidadNovedadesEntrega  \\\n",
              "count            10445.000000      10445.000000              10445.000000   \n",
              "mean                93.964768          1.053997                  0.083293   \n",
              "std                 85.123624          0.229387                  0.609790   \n",
              "min                  1.000000          1.000000                  0.000000   \n",
              "25%                 30.000000          1.000000                  0.000000   \n",
              "50%                 61.000000          1.000000                  0.000000   \n",
              "75%                135.000000          1.000000                  0.000000   \n",
              "max                703.000000          3.000000                 14.000000   \n",
              "\n",
              "       ...  Valle de Aburrá  DOMICILIO EXTERNO  PERSONAL INTERNO  \\\n",
              "count  ...     10445.000000       10445.000000      10445.000000   \n",
              "mean   ...         0.937003           0.007468          0.533748   \n",
              "std    ...         0.242969           0.086097          0.498884   \n",
              "min    ...         0.000000           0.000000          0.000000   \n",
              "25%    ...         1.000000           0.000000          0.000000   \n",
              "50%    ...         1.000000           0.000000          1.000000   \n",
              "75%    ...         1.000000           0.000000          1.000000   \n",
              "max    ...         1.000000           1.000000          1.000000   \n",
              "\n",
              "           TAQUILLA  TRANSPORTADORAS AUXILIARES  TRANSPORTADORAS PRINCIPALES   \\\n",
              "count  10445.000000                10445.000000                  10445.000000   \n",
              "mean       0.424797                    0.003351                      0.030637   \n",
              "std        0.494336                    0.057793                      0.172340   \n",
              "min        0.000000                    0.000000                      0.000000   \n",
              "25%        0.000000                    0.000000                      0.000000   \n",
              "50%        0.000000                    0.000000                      0.000000   \n",
              "75%        1.000000                    0.000000                      0.000000   \n",
              "max        1.000000                    1.000000                      1.000000   \n",
              "\n",
              "         CONVENCION        NO PBS         OTRAS           PBS  \n",
              "count  10445.000000  10445.000000  10445.000000  10445.000000  \n",
              "mean       0.068550      0.016467      0.000191      0.914792  \n",
              "std        0.252699      0.127270      0.013837      0.279205  \n",
              "min        0.000000      0.000000      0.000000      0.000000  \n",
              "25%        0.000000      0.000000      0.000000      1.000000  \n",
              "50%        0.000000      0.000000      0.000000      1.000000  \n",
              "75%        0.000000      0.000000      0.000000      1.000000  \n",
              "max        1.000000      1.000000      1.000000      1.000000  \n",
              "\n",
              "[8 rows x 32 columns]"
            ],
            "text/html": [
              "\n",
              "  <div id=\"df-33e569f0-8b7d-4a15-bf73-cfc62014efbe\">\n",
              "    <div class=\"colab-df-container\">\n",
              "      <div>\n",
              "<style scoped>\n",
              "    .dataframe tbody tr th:only-of-type {\n",
              "        vertical-align: middle;\n",
              "    }\n",
              "\n",
              "    .dataframe tbody tr th {\n",
              "        vertical-align: top;\n",
              "    }\n",
              "\n",
              "    .dataframe thead th {\n",
              "        text-align: right;\n",
              "    }\n",
              "</style>\n",
              "<table border=\"1\" class=\"dataframe\">\n",
              "  <thead>\n",
              "    <tr style=\"text-align: right;\">\n",
              "      <th></th>\n",
              "      <th>DiaSemana</th>\n",
              "      <th>EntregasTotal</th>\n",
              "      <th>NumeroEntrega</th>\n",
              "      <th>PorcentajeTratamiento</th>\n",
              "      <th>cantidadItemsPedido</th>\n",
              "      <th>CantItemsCadenafrio</th>\n",
              "      <th>cantAgotados</th>\n",
              "      <th>cantidadUnidadesPedido</th>\n",
              "      <th>cantidadFacturas</th>\n",
              "      <th>cantidadNovedadesEntrega</th>\n",
              "      <th>...</th>\n",
              "      <th>Valle de Aburrá</th>\n",
              "      <th>DOMICILIO EXTERNO</th>\n",
              "      <th>PERSONAL INTERNO</th>\n",
              "      <th>TAQUILLA</th>\n",
              "      <th>TRANSPORTADORAS AUXILIARES</th>\n",
              "      <th>TRANSPORTADORAS PRINCIPALES</th>\n",
              "      <th>CONVENCION</th>\n",
              "      <th>NO PBS</th>\n",
              "      <th>OTRAS</th>\n",
              "      <th>PBS</th>\n",
              "    </tr>\n",
              "  </thead>\n",
              "  <tbody>\n",
              "    <tr>\n",
              "      <th>count</th>\n",
              "      <td>10445.000000</td>\n",
              "      <td>10445.000000</td>\n",
              "      <td>10445.000000</td>\n",
              "      <td>10445.000000</td>\n",
              "      <td>10445.000000</td>\n",
              "      <td>10445.000000</td>\n",
              "      <td>10445.000000</td>\n",
              "      <td>10445.000000</td>\n",
              "      <td>10445.000000</td>\n",
              "      <td>10445.000000</td>\n",
              "      <td>...</td>\n",
              "      <td>10445.000000</td>\n",
              "      <td>10445.000000</td>\n",
              "      <td>10445.000000</td>\n",
              "      <td>10445.000000</td>\n",
              "      <td>10445.000000</td>\n",
              "      <td>10445.000000</td>\n",
              "      <td>10445.000000</td>\n",
              "      <td>10445.000000</td>\n",
              "      <td>10445.000000</td>\n",
              "      <td>10445.000000</td>\n",
              "    </tr>\n",
              "    <tr>\n",
              "      <th>mean</th>\n",
              "      <td>3.090091</td>\n",
              "      <td>3.966587</td>\n",
              "      <td>2.288559</td>\n",
              "      <td>0.641633</td>\n",
              "      <td>2.817808</td>\n",
              "      <td>0.060412</td>\n",
              "      <td>0.253997</td>\n",
              "      <td>93.964768</td>\n",
              "      <td>1.053997</td>\n",
              "      <td>0.083293</td>\n",
              "      <td>...</td>\n",
              "      <td>0.937003</td>\n",
              "      <td>0.007468</td>\n",
              "      <td>0.533748</td>\n",
              "      <td>0.424797</td>\n",
              "      <td>0.003351</td>\n",
              "      <td>0.030637</td>\n",
              "      <td>0.068550</td>\n",
              "      <td>0.016467</td>\n",
              "      <td>0.000191</td>\n",
              "      <td>0.914792</td>\n",
              "    </tr>\n",
              "    <tr>\n",
              "      <th>std</th>\n",
              "      <td>1.542896</td>\n",
              "      <td>2.095785</td>\n",
              "      <td>1.510980</td>\n",
              "      <td>0.294652</td>\n",
              "      <td>2.053719</td>\n",
              "      <td>0.291735</td>\n",
              "      <td>0.513057</td>\n",
              "      <td>85.123624</td>\n",
              "      <td>0.229387</td>\n",
              "      <td>0.609790</td>\n",
              "      <td>...</td>\n",
              "      <td>0.242969</td>\n",
              "      <td>0.086097</td>\n",
              "      <td>0.498884</td>\n",
              "      <td>0.494336</td>\n",
              "      <td>0.057793</td>\n",
              "      <td>0.172340</td>\n",
              "      <td>0.252699</td>\n",
              "      <td>0.127270</td>\n",
              "      <td>0.013837</td>\n",
              "      <td>0.279205</td>\n",
              "    </tr>\n",
              "    <tr>\n",
              "      <th>min</th>\n",
              "      <td>1.000000</td>\n",
              "      <td>0.000000</td>\n",
              "      <td>0.000000</td>\n",
              "      <td>0.000000</td>\n",
              "      <td>1.000000</td>\n",
              "      <td>0.000000</td>\n",
              "      <td>0.000000</td>\n",
              "      <td>1.000000</td>\n",
              "      <td>1.000000</td>\n",
              "      <td>0.000000</td>\n",
              "      <td>...</td>\n",
              "      <td>0.000000</td>\n",
              "      <td>0.000000</td>\n",
              "      <td>0.000000</td>\n",
              "      <td>0.000000</td>\n",
              "      <td>0.000000</td>\n",
              "      <td>0.000000</td>\n",
              "      <td>0.000000</td>\n",
              "      <td>0.000000</td>\n",
              "      <td>0.000000</td>\n",
              "      <td>0.000000</td>\n",
              "    </tr>\n",
              "    <tr>\n",
              "      <th>25%</th>\n",
              "      <td>2.000000</td>\n",
              "      <td>3.000000</td>\n",
              "      <td>1.000000</td>\n",
              "      <td>0.333333</td>\n",
              "      <td>1.000000</td>\n",
              "      <td>0.000000</td>\n",
              "      <td>0.000000</td>\n",
              "      <td>30.000000</td>\n",
              "      <td>1.000000</td>\n",
              "      <td>0.000000</td>\n",
              "      <td>...</td>\n",
              "      <td>1.000000</td>\n",
              "      <td>0.000000</td>\n",
              "      <td>0.000000</td>\n",
              "      <td>0.000000</td>\n",
              "      <td>0.000000</td>\n",
              "      <td>0.000000</td>\n",
              "      <td>0.000000</td>\n",
              "      <td>0.000000</td>\n",
              "      <td>0.000000</td>\n",
              "      <td>1.000000</td>\n",
              "    </tr>\n",
              "    <tr>\n",
              "      <th>50%</th>\n",
              "      <td>3.000000</td>\n",
              "      <td>4.000000</td>\n",
              "      <td>2.000000</td>\n",
              "      <td>0.666667</td>\n",
              "      <td>2.000000</td>\n",
              "      <td>0.000000</td>\n",
              "      <td>0.000000</td>\n",
              "      <td>61.000000</td>\n",
              "      <td>1.000000</td>\n",
              "      <td>0.000000</td>\n",
              "      <td>...</td>\n",
              "      <td>1.000000</td>\n",
              "      <td>0.000000</td>\n",
              "      <td>1.000000</td>\n",
              "      <td>0.000000</td>\n",
              "      <td>0.000000</td>\n",
              "      <td>0.000000</td>\n",
              "      <td>0.000000</td>\n",
              "      <td>0.000000</td>\n",
              "      <td>0.000000</td>\n",
              "      <td>1.000000</td>\n",
              "    </tr>\n",
              "    <tr>\n",
              "      <th>75%</th>\n",
              "      <td>4.000000</td>\n",
              "      <td>6.000000</td>\n",
              "      <td>3.000000</td>\n",
              "      <td>1.000000</td>\n",
              "      <td>4.000000</td>\n",
              "      <td>0.000000</td>\n",
              "      <td>0.000000</td>\n",
              "      <td>135.000000</td>\n",
              "      <td>1.000000</td>\n",
              "      <td>0.000000</td>\n",
              "      <td>...</td>\n",
              "      <td>1.000000</td>\n",
              "      <td>0.000000</td>\n",
              "      <td>1.000000</td>\n",
              "      <td>1.000000</td>\n",
              "      <td>0.000000</td>\n",
              "      <td>0.000000</td>\n",
              "      <td>0.000000</td>\n",
              "      <td>0.000000</td>\n",
              "      <td>0.000000</td>\n",
              "      <td>1.000000</td>\n",
              "    </tr>\n",
              "    <tr>\n",
              "      <th>max</th>\n",
              "      <td>6.000000</td>\n",
              "      <td>12.000000</td>\n",
              "      <td>12.000000</td>\n",
              "      <td>1.000000</td>\n",
              "      <td>19.000000</td>\n",
              "      <td>4.000000</td>\n",
              "      <td>4.000000</td>\n",
              "      <td>703.000000</td>\n",
              "      <td>3.000000</td>\n",
              "      <td>14.000000</td>\n",
              "      <td>...</td>\n",
              "      <td>1.000000</td>\n",
              "      <td>1.000000</td>\n",
              "      <td>1.000000</td>\n",
              "      <td>1.000000</td>\n",
              "      <td>1.000000</td>\n",
              "      <td>1.000000</td>\n",
              "      <td>1.000000</td>\n",
              "      <td>1.000000</td>\n",
              "      <td>1.000000</td>\n",
              "      <td>1.000000</td>\n",
              "    </tr>\n",
              "  </tbody>\n",
              "</table>\n",
              "<p>8 rows × 32 columns</p>\n",
              "</div>\n",
              "      <button class=\"colab-df-convert\" onclick=\"convertToInteractive('df-33e569f0-8b7d-4a15-bf73-cfc62014efbe')\"\n",
              "              title=\"Convert this dataframe to an interactive table.\"\n",
              "              style=\"display:none;\">\n",
              "        \n",
              "  <svg xmlns=\"http://www.w3.org/2000/svg\" height=\"24px\"viewBox=\"0 0 24 24\"\n",
              "       width=\"24px\">\n",
              "    <path d=\"M0 0h24v24H0V0z\" fill=\"none\"/>\n",
              "    <path d=\"M18.56 5.44l.94 2.06.94-2.06 2.06-.94-2.06-.94-.94-2.06-.94 2.06-2.06.94zm-11 1L8.5 8.5l.94-2.06 2.06-.94-2.06-.94L8.5 2.5l-.94 2.06-2.06.94zm10 10l.94 2.06.94-2.06 2.06-.94-2.06-.94-.94-2.06-.94 2.06-2.06.94z\"/><path d=\"M17.41 7.96l-1.37-1.37c-.4-.4-.92-.59-1.43-.59-.52 0-1.04.2-1.43.59L10.3 9.45l-7.72 7.72c-.78.78-.78 2.05 0 2.83L4 21.41c.39.39.9.59 1.41.59.51 0 1.02-.2 1.41-.59l7.78-7.78 2.81-2.81c.8-.78.8-2.07 0-2.86zM5.41 20L4 18.59l7.72-7.72 1.47 1.35L5.41 20z\"/>\n",
              "  </svg>\n",
              "      </button>\n",
              "      \n",
              "  <style>\n",
              "    .colab-df-container {\n",
              "      display:flex;\n",
              "      flex-wrap:wrap;\n",
              "      gap: 12px;\n",
              "    }\n",
              "\n",
              "    .colab-df-convert {\n",
              "      background-color: #E8F0FE;\n",
              "      border: none;\n",
              "      border-radius: 50%;\n",
              "      cursor: pointer;\n",
              "      display: none;\n",
              "      fill: #1967D2;\n",
              "      height: 32px;\n",
              "      padding: 0 0 0 0;\n",
              "      width: 32px;\n",
              "    }\n",
              "\n",
              "    .colab-df-convert:hover {\n",
              "      background-color: #E2EBFA;\n",
              "      box-shadow: 0px 1px 2px rgba(60, 64, 67, 0.3), 0px 1px 3px 1px rgba(60, 64, 67, 0.15);\n",
              "      fill: #174EA6;\n",
              "    }\n",
              "\n",
              "    [theme=dark] .colab-df-convert {\n",
              "      background-color: #3B4455;\n",
              "      fill: #D2E3FC;\n",
              "    }\n",
              "\n",
              "    [theme=dark] .colab-df-convert:hover {\n",
              "      background-color: #434B5C;\n",
              "      box-shadow: 0px 1px 3px 1px rgba(0, 0, 0, 0.15);\n",
              "      filter: drop-shadow(0px 1px 2px rgba(0, 0, 0, 0.3));\n",
              "      fill: #FFFFFF;\n",
              "    }\n",
              "  </style>\n",
              "\n",
              "      <script>\n",
              "        const buttonEl =\n",
              "          document.querySelector('#df-33e569f0-8b7d-4a15-bf73-cfc62014efbe button.colab-df-convert');\n",
              "        buttonEl.style.display =\n",
              "          google.colab.kernel.accessAllowed ? 'block' : 'none';\n",
              "\n",
              "        async function convertToInteractive(key) {\n",
              "          const element = document.querySelector('#df-33e569f0-8b7d-4a15-bf73-cfc62014efbe');\n",
              "          const dataTable =\n",
              "            await google.colab.kernel.invokeFunction('convertToInteractive',\n",
              "                                                     [key], {});\n",
              "          if (!dataTable) return;\n",
              "\n",
              "          const docLinkHtml = 'Like what you see? Visit the ' +\n",
              "            '<a target=\"_blank\" href=https://colab.research.google.com/notebooks/data_table.ipynb>data table notebook</a>'\n",
              "            + ' to learn more about interactive tables.';\n",
              "          element.innerHTML = '';\n",
              "          dataTable['output_type'] = 'display_data';\n",
              "          await google.colab.output.renderOutput(dataTable, element);\n",
              "          const docLink = document.createElement('div');\n",
              "          docLink.innerHTML = docLinkHtml;\n",
              "          element.appendChild(docLink);\n",
              "        }\n",
              "      </script>\n",
              "    </div>\n",
              "  </div>\n",
              "  "
            ]
          },
          "metadata": {},
          "execution_count": 29
        }
      ],
      "source": [
        "data_num.describe()"
      ]
    },
    {
      "cell_type": "markdown",
      "metadata": {
        "id": "HhhZXZCpMbl0"
      },
      "source": [
        "### **Correlacion con variable objetivo**"
      ]
    },
    {
      "cell_type": "markdown",
      "source": [
        "El análisis de correlación consiste en un procedimiento estadístico para determinar si dos variables están relacionadas o no. El resultado del análisis es un coeficiente de correlación  que puede tomar valores entre -1 y +1.  El signo indica el  tipo de correlación entre las dos variables . Un signo positivo indica que existe una relación positiva entre las dos variables; es decir, cuando la magnitud de una incrementa, la otra también.  Un signo negativo  indica que existe una relación negativa entre las dos variables. Mientras los valores de una incrementan, los de la segunda variable disminuyen. Si dos variables son independientes, el coeficiente de correlación es de magnitud cero . La fuerza de la relación lineal incrementa a medida que el coeficiente de correlación se aproxima a -1 o a +1.  \n",
        "José Alquicira. (2017). Análisis de correlación. (2017, mayo 25). Conogasi. https://conogasi.org/articulos/analisis-de-correlacion-2/"
      ],
      "metadata": {
        "id": "cdvgnr8q0z3a"
      }
    },
    {
      "cell_type": "code",
      "execution_count": null,
      "metadata": {
        "colab": {
          "base_uri": "https://localhost:8080/"
        },
        "id": "EAVq_KH6MalH",
        "outputId": "e1d5d64d-f5ca-470e-e7cc-7fcc301b3786"
      },
      "outputs": [
        {
          "output_type": "execute_result",
          "data": {
            "text/plain": [
              "DiaSemana                       0.033866\n",
              "EntregasTotal                   0.031485\n",
              "NumeroEntrega                   0.048393\n",
              "PorcentajeTratamiento           0.008154\n",
              "cantidadItemsPedido            -0.004054\n",
              "CantItemsCadenafrio             0.044801\n",
              "cantAgotados                   -0.027963\n",
              "cantidadUnidadesPedido          0.007786\n",
              "cantidadFacturas               -0.132831\n",
              "cantidadNovedadesEntrega       -0.041605\n",
              "Controlado                      0.003869\n",
              "regulado                        0.016737\n",
              "Distancia Kmts                  0.220429\n",
              "Cumple                          1.000000\n",
              "Automáticas PreAgenda           0.102522\n",
              "Médicos Programa               -0.077082\n",
              "Transcripción                  -0.084368\n",
              "Norte                          -0.062137\n",
              "Occidente                      -0.032744\n",
              "Oriente                        -0.137034\n",
              "Sin Zona                       -0.065022\n",
              "Sur                            -0.037227\n",
              "Valle de Aburrá                 0.174379\n",
              "DOMICILIO EXTERNO              -0.035298\n",
              "PERSONAL INTERNO                0.603913\n",
              "TAQUILLA                       -0.558487\n",
              "TRANSPORTADORAS AUXILIARES     -0.032447\n",
              "TRANSPORTADORAS PRINCIPALES    -0.117721\n",
              "CONVENCION                      0.095666\n",
              "NO PBS                         -0.033348\n",
              "OTRAS                          -0.009443\n",
              "PBS                            -0.070915\n",
              "Name: Cumple, dtype: float64"
            ]
          },
          "metadata": {},
          "execution_count": 30
        }
      ],
      "source": [
        "data_num.corr()['Cumple']"
      ]
    },
    {
      "cell_type": "code",
      "execution_count": null,
      "metadata": {
        "colab": {
          "base_uri": "https://localhost:8080/"
        },
        "id": "0EC9yiTFMsbb",
        "outputId": "da4c74ea-f4b6-4691-e518-270220f89d1f"
      },
      "outputs": [
        {
          "output_type": "execute_result",
          "data": {
            "text/plain": [
              "TAQUILLA                       -0.558487\n",
              "Oriente                        -0.137034\n",
              "cantidadFacturas               -0.132831\n",
              "TRANSPORTADORAS PRINCIPALES    -0.117721\n",
              "Transcripción                  -0.084368\n",
              "Médicos Programa               -0.077082\n",
              "PBS                            -0.070915\n",
              "Sin Zona                       -0.065022\n",
              "Norte                          -0.062137\n",
              "cantidadNovedadesEntrega       -0.041605\n",
              "Sur                            -0.037227\n",
              "DOMICILIO EXTERNO              -0.035298\n",
              "NO PBS                         -0.033348\n",
              "Occidente                      -0.032744\n",
              "TRANSPORTADORAS AUXILIARES     -0.032447\n",
              "cantAgotados                   -0.027963\n",
              "OTRAS                          -0.009443\n",
              "cantidadItemsPedido            -0.004054\n",
              "Controlado                      0.003869\n",
              "cantidadUnidadesPedido          0.007786\n",
              "PorcentajeTratamiento           0.008154\n",
              "regulado                        0.016737\n",
              "EntregasTotal                   0.031485\n",
              "DiaSemana                       0.033866\n",
              "CantItemsCadenafrio             0.044801\n",
              "NumeroEntrega                   0.048393\n",
              "CONVENCION                      0.095666\n",
              "Automáticas PreAgenda           0.102522\n",
              "Valle de Aburrá                 0.174379\n",
              "Distancia Kmts                  0.220429\n",
              "PERSONAL INTERNO                0.603913\n",
              "Cumple                          1.000000\n",
              "Name: Cumple, dtype: float64"
            ]
          },
          "metadata": {},
          "execution_count": 31
        }
      ],
      "source": [
        "data_num.corr()['Cumple'].sort_values()"
      ]
    },
    {
      "cell_type": "code",
      "execution_count": null,
      "metadata": {
        "colab": {
          "base_uri": "https://localhost:8080/"
        },
        "id": "maVUMVhKwdjM",
        "outputId": "5f85000a-e381-4d8c-d000-ca1587584a3a"
      },
      "outputs": [
        {
          "output_type": "execute_result",
          "data": {
            "text/plain": [
              "array([[-0.05839362,  0.97028578,  0.47086988, ..., -0.12939443,\n",
              "        -0.01383893,  0.30519658],\n",
              "       [-0.05839362, -1.41556925, -0.8528378 , ..., -0.12939443,\n",
              "        -0.01383893,  0.30519658],\n",
              "       [-0.05839362,  0.01594377,  1.13272371, ..., -0.12939443,\n",
              "        -0.01383893,  0.30519658],\n",
              "       ...,\n",
              "       [-0.70655661,  0.01594377, -0.8528378 , ..., -0.12939443,\n",
              "        -0.01383893,  0.30519658],\n",
              "       [-0.70655661,  0.97028578, -0.8528378 , ..., -0.12939443,\n",
              "        -0.01383893,  0.30519658],\n",
              "       [-0.70655661,  0.01594377, -0.8528378 , ..., -0.12939443,\n",
              "        -0.01383893,  0.30519658]])"
            ]
          },
          "metadata": {},
          "execution_count": 32
        }
      ],
      "source": [
        "datos_escalados = scale(data_num)\n",
        "datos_escalados"
      ]
    },
    {
      "cell_type": "markdown",
      "source": [
        "**3.Clustering**"
      ],
      "metadata": {
        "id": "sAFyl9eC4WY2"
      }
    },
    {
      "cell_type": "markdown",
      "source": [
        "Se utiliza técnicas de Clustering para analizar como se agrupan los datos  obtener una variable, que nos indique este comportamiento"
      ],
      "metadata": {
        "id": "gnRbfykE50Hq"
      }
    },
    {
      "cell_type": "markdown",
      "metadata": {
        "id": "UGdtUnikSffP"
      },
      "source": [
        "**Modelo K-Means**"
      ]
    },
    {
      "cell_type": "markdown",
      "metadata": {
        "id": "HI2atmuQSiIp"
      },
      "source": [
        "El clustering es una técnica para encontrar y clasificar K grupos de datos (clusters). Así, los elementos que comparten características semejantes estarán juntos en un mismo grupo, separados de los otros grupos con los que no comparten características. \n",
        "\n",
        "Para saber si los datos son parecidos o diferentes el algoritmo K-medias utiliza la distancia entre los datos. Las observaciones que se parecen tendrán una menor distancia entre ellas. En general, como medida se utiliza la distancia euclideana aunque también se pueden utilizar otras funciones.\n",
        "\n",
        "Duk. (2019, enero 8). K-Means Clustering: Agrupamiento con Minería de datos. ESTRATEGIAS DE TRADING. https://estrategiastrading.com/k-means/\n",
        "\n",
        "\n",
        "Metodo del codo para identificar cantidad de clusters"
      ]
    },
    {
      "cell_type": "code",
      "execution_count": null,
      "metadata": {
        "id": "JovNijmtSelx",
        "colab": {
          "base_uri": "https://localhost:8080/",
          "height": 295
        },
        "outputId": "329ac85a-cfb4-43ee-e676-99252c59a64c"
      },
      "outputs": [
        {
          "output_type": "display_data",
          "data": {
            "text/plain": [
              "<Figure size 432x288 with 1 Axes>"
            ],
            "image/png": "[encoded data removed]"
          },
          "metadata": {
            "needs_background": "light"
          }
        }
      ],
      "source": [
        "range_n_clusters = range(1, 15)\n",
        "inertias = []\n",
        "\n",
        "for n_clusters in range_n_clusters:\n",
        "    modelo_kmeans = KMeans(\n",
        "                        n_clusters   = n_clusters, \n",
        "                        n_init       = 25\n",
        "                    )\n",
        "    modelo_kmeans.fit(datos_escalados)\n",
        "    inertias.append(modelo_kmeans.inertia_)\n",
        "\n",
        "fig, ax = plt.subplots(1, 1, figsize=(6, 4))\n",
        "ax.plot(range_n_clusters, inertias, marker='o')\n",
        "ax.set_title(\"Evolución de la varianza intra-cluster total\")\n",
        "ax.set_xlabel('Número clusters')\n",
        "ax.set_ylabel('Intra-cluster (inertia)');"
      ]
    },
    {
      "cell_type": "markdown",
      "metadata": {
        "id": "Kb0Jlw3kS1yI"
      },
      "source": [
        "Metodo del silhouette para identificar cantidad de clusters"
      ]
    },
    {
      "cell_type": "code",
      "execution_count": null,
      "metadata": {
        "id": "YKhVhwkJS4Zk",
        "colab": {
          "base_uri": "https://localhost:8080/",
          "height": 287
        },
        "outputId": "1d654f53-d55b-4938-ff5e-7c402da6f006"
      },
      "outputs": [
        {
          "output_type": "display_data",
          "data": {
            "text/plain": [
              "<Figure size 432x276.48 with 1 Axes>"
            ],
            "image/png": "[encoded data removed]"
          },
          "metadata": {
            "needs_background": "light"
          }
        }
      ],
      "source": [
        "range_n_clusters = range(2, 15)\n",
        "valores_medios_silhouette = []\n",
        "\n",
        "for n_clusters in range_n_clusters:\n",
        "    modelo_kmeans = KMeans(\n",
        "                        n_clusters   = n_clusters, \n",
        "                        n_init       = 25\n",
        "                    )\n",
        "\n",
        "    cluster_labels = modelo_kmeans.fit_predict(datos_escalados)\n",
        "    silhouette_avg = silhouette_score(datos_escalados, cluster_labels)\n",
        "    valores_medios_silhouette.append(silhouette_avg)\n",
        "    \n",
        "fig, ax = plt.subplots(1, 1, figsize=(6, 3.84))\n",
        "ax.plot(range_n_clusters, valores_medios_silhouette, marker='o')\n",
        "ax.set_title(\"Evolución de media de los índices silhouette\")\n",
        "ax.set_xlabel('Número clusters')\n",
        "ax.set_ylabel('Media índices silhouette');"
      ]
    },
    {
      "cell_type": "code",
      "execution_count": null,
      "metadata": {
        "id": "em1vlBkATtVM"
      },
      "outputs": [],
      "source": [
        "kmeans = KMeans(n_clusters=7).fit(datos_escalados)\n",
        "centroides = kmeans.cluster_centers_\n",
        "labelsKmeans = kmeans.labels_"
      ]
    },
    {
      "cell_type": "code",
      "execution_count": null,
      "metadata": {
        "id": "URz2FRidTz9E",
        "colab": {
          "base_uri": "https://localhost:8080/"
        },
        "outputId": "3af729eb-7dbf-44c5-c218-7a917b3d8f11"
      },
      "outputs": [
        {
          "output_type": "execute_result",
          "data": {
            "text/plain": [
              "array([0, 1, 2, 3, 4, 5, 6], dtype=int32)"
            ]
          },
          "metadata": {},
          "execution_count": 36
        }
      ],
      "source": [
        "np.unique(labelsKmeans)"
      ]
    },
    {
      "cell_type": "code",
      "execution_count": null,
      "metadata": {
        "id": "ZAp5Pr1aVJfG",
        "colab": {
          "base_uri": "https://localhost:8080/",
          "height": 411
        },
        "outputId": "109e2eba-fde3-4ae9-8f86-b03a1f6870c9"
      },
      "outputs": [
        {
          "output_type": "execute_result",
          "data": {
            "text/plain": [
              "          DiaSemana  EntregasTotal  NumeroEntrega  PorcentajeTratamiento  \\\n",
              "count  10445.000000   10445.000000   10445.000000           10445.000000   \n",
              "mean       0.418018       0.330549       0.190713               0.641633   \n",
              "std        0.308579       0.174649       0.125915               0.294652   \n",
              "min        0.000000       0.000000       0.000000               0.000000   \n",
              "25%        0.200000       0.250000       0.083333               0.333333   \n",
              "50%        0.400000       0.333333       0.166667               0.666667   \n",
              "75%        0.600000       0.500000       0.250000               1.000000   \n",
              "max        1.000000       1.000000       1.000000               1.000000   \n",
              "\n",
              "       cantidadItemsPedido  CantItemsCadenafrio  cantAgotados  \\\n",
              "count         10445.000000         10445.000000  10445.000000   \n",
              "mean              0.100989             0.015103      0.063499   \n",
              "std               0.114095             0.072934      0.128264   \n",
              "min               0.000000             0.000000      0.000000   \n",
              "25%               0.000000             0.000000      0.000000   \n",
              "50%               0.055556             0.000000      0.000000   \n",
              "75%               0.166667             0.000000      0.000000   \n",
              "max               1.000000             1.000000      1.000000   \n",
              "\n",
              "       cantidadUnidadesPedido  cantidadFacturas  cantidadNovedadesEntrega  \\\n",
              "count            10445.000000      10445.000000              10445.000000   \n",
              "mean                 0.132428          0.026999                  0.005950   \n",
              "std                  0.121259          0.114693                  0.043556   \n",
              "min                  0.000000          0.000000                  0.000000   \n",
              "25%                  0.041311          0.000000                  0.000000   \n",
              "50%                  0.085470          0.000000                  0.000000   \n",
              "75%                  0.190883          0.000000                  0.000000   \n",
              "max                  1.000000          1.000000                  1.000000   \n",
              "\n",
              "       ...  Valle de Aburrá  DOMICILIO EXTERNO  PERSONAL INTERNO  \\\n",
              "count  ...     10445.000000       10445.000000      10445.000000   \n",
              "mean   ...         0.937003           0.007468          0.533748   \n",
              "std    ...         0.242969           0.086097          0.498884   \n",
              "min    ...         0.000000           0.000000          0.000000   \n",
              "25%    ...         1.000000           0.000000          0.000000   \n",
              "50%    ...         1.000000           0.000000          1.000000   \n",
              "75%    ...         1.000000           0.000000          1.000000   \n",
              "max    ...         1.000000           1.000000          1.000000   \n",
              "\n",
              "           TAQUILLA  TRANSPORTADORAS AUXILIARES  TRANSPORTADORAS PRINCIPALES   \\\n",
              "count  10445.000000                10445.000000                  10445.000000   \n",
              "mean       0.424797                    0.003351                      0.030637   \n",
              "std        0.494336                    0.057793                      0.172340   \n",
              "min        0.000000                    0.000000                      0.000000   \n",
              "25%        0.000000                    0.000000                      0.000000   \n",
              "50%        0.000000                    0.000000                      0.000000   \n",
              "75%        1.000000                    0.000000                      0.000000   \n",
              "max        1.000000                    1.000000                      1.000000   \n",
              "\n",
              "         CONVENCION        NO PBS         OTRAS           PBS  \n",
              "count  10445.000000  10445.000000  10445.000000  10445.000000  \n",
              "mean       0.068550      0.016467      0.000191      0.914792  \n",
              "std        0.252699      0.127270      0.013837      0.279205  \n",
              "min        0.000000      0.000000      0.000000      0.000000  \n",
              "25%        0.000000      0.000000      0.000000      1.000000  \n",
              "50%        0.000000      0.000000      0.000000      1.000000  \n",
              "75%        0.000000      0.000000      0.000000      1.000000  \n",
              "max        1.000000      1.000000      1.000000      1.000000  \n",
              "\n",
              "[8 rows x 32 columns]"
            ],
            "text/html": [
              "\n",
              "  <div id=\"df-d4654e66-a4cb-4580-9e20-9c87f7af8445\">\n",
              "    <div class=\"colab-df-container\">\n",
              "      <div>\n",
              "<style scoped>\n",
              "    .dataframe tbody tr th:only-of-type {\n",
              "        vertical-align: middle;\n",
              "    }\n",
              "\n",
              "    .dataframe tbody tr th {\n",
              "        vertical-align: top;\n",
              "    }\n",
              "\n",
              "    .dataframe thead th {\n",
              "        text-align: right;\n",
              "    }\n",
              "</style>\n",
              "<table border=\"1\" class=\"dataframe\">\n",
              "  <thead>\n",
              "    <tr style=\"text-align: right;\">\n",
              "      <th></th>\n",
              "      <th>DiaSemana</th>\n",
              "      <th>EntregasTotal</th>\n",
              "      <th>NumeroEntrega</th>\n",
              "      <th>PorcentajeTratamiento</th>\n",
              "      <th>cantidadItemsPedido</th>\n",
              "      <th>CantItemsCadenafrio</th>\n",
              "      <th>cantAgotados</th>\n",
              "      <th>cantidadUnidadesPedido</th>\n",
              "      <th>cantidadFacturas</th>\n",
              "      <th>cantidadNovedadesEntrega</th>\n",
              "      <th>...</th>\n",
              "      <th>Valle de Aburrá</th>\n",
              "      <th>DOMICILIO EXTERNO</th>\n",
              "      <th>PERSONAL INTERNO</th>\n",
              "      <th>TAQUILLA</th>\n",
              "      <th>TRANSPORTADORAS AUXILIARES</th>\n",
              "      <th>TRANSPORTADORAS PRINCIPALES</th>\n",
              "      <th>CONVENCION</th>\n",
              "      <th>NO PBS</th>\n",
              "      <th>OTRAS</th>\n",
              "      <th>PBS</th>\n",
              "    </tr>\n",
              "  </thead>\n",
              "  <tbody>\n",
              "    <tr>\n",
              "      <th>count</th>\n",
              "      <td>10445.000000</td>\n",
              "      <td>10445.000000</td>\n",
              "      <td>10445.000000</td>\n",
              "      <td>10445.000000</td>\n",
              "      <td>10445.000000</td>\n",
              "      <td>10445.000000</td>\n",
              "      <td>10445.000000</td>\n",
              "      <td>10445.000000</td>\n",
              "      <td>10445.000000</td>\n",
              "      <td>10445.000000</td>\n",
              "      <td>...</td>\n",
              "      <td>10445.000000</td>\n",
              "      <td>10445.000000</td>\n",
              "      <td>10445.000000</td>\n",
              "      <td>10445.000000</td>\n",
              "      <td>10445.000000</td>\n",
              "      <td>10445.000000</td>\n",
              "      <td>10445.000000</td>\n",
              "      <td>10445.000000</td>\n",
              "      <td>10445.000000</td>\n",
              "      <td>10445.000000</td>\n",
              "    </tr>\n",
              "    <tr>\n",
              "      <th>mean</th>\n",
              "      <td>0.418018</td>\n",
              "      <td>0.330549</td>\n",
              "      <td>0.190713</td>\n",
              "      <td>0.641633</td>\n",
              "      <td>0.100989</td>\n",
              "      <td>0.015103</td>\n",
              "      <td>0.063499</td>\n",
              "      <td>0.132428</td>\n",
              "      <td>0.026999</td>\n",
              "      <td>0.005950</td>\n",
              "      <td>...</td>\n",
              "      <td>0.937003</td>\n",
              "      <td>0.007468</td>\n",
              "      <td>0.533748</td>\n",
              "      <td>0.424797</td>\n",
              "      <td>0.003351</td>\n",
              "      <td>0.030637</td>\n",
              "      <td>0.068550</td>\n",
              "      <td>0.016467</td>\n",
              "      <td>0.000191</td>\n",
              "      <td>0.914792</td>\n",
              "    </tr>\n",
              "    <tr>\n",
              "      <th>std</th>\n",
              "      <td>0.308579</td>\n",
              "      <td>0.174649</td>\n",
              "      <td>0.125915</td>\n",
              "      <td>0.294652</td>\n",
              "      <td>0.114095</td>\n",
              "      <td>0.072934</td>\n",
              "      <td>0.128264</td>\n",
              "      <td>0.121259</td>\n",
              "      <td>0.114693</td>\n",
              "      <td>0.043556</td>\n",
              "      <td>...</td>\n",
              "      <td>0.242969</td>\n",
              "      <td>0.086097</td>\n",
              "      <td>0.498884</td>\n",
              "      <td>0.494336</td>\n",
              "      <td>0.057793</td>\n",
              "      <td>0.172340</td>\n",
              "      <td>0.252699</td>\n",
              "      <td>0.127270</td>\n",
              "      <td>0.013837</td>\n",
              "      <td>0.279205</td>\n",
              "    </tr>\n",
              "    <tr>\n",
              "      <th>min</th>\n",
              "      <td>0.000000</td>\n",
              "      <td>0.000000</td>\n",
              "      <td>0.000000</td>\n",
              "      <td>0.000000</td>\n",
              "      <td>0.000000</td>\n",
              "      <td>0.000000</td>\n",
              "      <td>0.000000</td>\n",
              "      <td>0.000000</td>\n",
              "      <td>0.000000</td>\n",
              "      <td>0.000000</td>\n",
              "      <td>...</td>\n",
              "      <td>0.000000</td>\n",
              "      <td>0.000000</td>\n",
              "      <td>0.000000</td>\n",
              "      <td>0.000000</td>\n",
              "      <td>0.000000</td>\n",
              "      <td>0.000000</td>\n",
              "      <td>0.000000</td>\n",
              "      <td>0.000000</td>\n",
              "      <td>0.000000</td>\n",
              "      <td>0.000000</td>\n",
              "    </tr>\n",
              "    <tr>\n",
              "      <th>25%</th>\n",
              "      <td>0.200000</td>\n",
              "      <td>0.250000</td>\n",
              "      <td>0.083333</td>\n",
              "      <td>0.333333</td>\n",
              "      <td>0.000000</td>\n",
              "      <td>0.000000</td>\n",
              "      <td>0.000000</td>\n",
              "      <td>0.041311</td>\n",
              "      <td>0.000000</td>\n",
              "      <td>0.000000</td>\n",
              "      <td>...</td>\n",
              "      <td>1.000000</td>\n",
              "      <td>0.000000</td>\n",
              "      <td>0.000000</td>\n",
              "      <td>0.000000</td>\n",
              "      <td>0.000000</td>\n",
              "      <td>0.000000</td>\n",
              "      <td>0.000000</td>\n",
              "      <td>0.000000</td>\n",
              "      <td>0.000000</td>\n",
              "      <td>1.000000</td>\n",
              "    </tr>\n",
              "    <tr>\n",
              "      <th>50%</th>\n",
              "      <td>0.400000</td>\n",
              "      <td>0.333333</td>\n",
              "      <td>0.166667</td>\n",
              "      <td>0.666667</td>\n",
              "      <td>0.055556</td>\n",
              "      <td>0.000000</td>\n",
              "      <td>0.000000</td>\n",
              "      <td>0.085470</td>\n",
              "      <td>0.000000</td>\n",
              "      <td>0.000000</td>\n",
              "      <td>...</td>\n",
              "      <td>1.000000</td>\n",
              "      <td>0.000000</td>\n",
              "      <td>1.000000</td>\n",
              "      <td>0.000000</td>\n",
              "      <td>0.000000</td>\n",
              "      <td>0.000000</td>\n",
              "      <td>0.000000</td>\n",
              "      <td>0.000000</td>\n",
              "      <td>0.000000</td>\n",
              "      <td>1.000000</td>\n",
              "    </tr>\n",
              "    <tr>\n",
              "      <th>75%</th>\n",
              "      <td>0.600000</td>\n",
              "      <td>0.500000</td>\n",
              "      <td>0.250000</td>\n",
              "      <td>1.000000</td>\n",
              "      <td>0.166667</td>\n",
              "      <td>0.000000</td>\n",
              "      <td>0.000000</td>\n",
              "      <td>0.190883</td>\n",
              "      <td>0.000000</td>\n",
              "      <td>0.000000</td>\n",
              "      <td>...</td>\n",
              "      <td>1.000000</td>\n",
              "      <td>0.000000</td>\n",
              "      <td>1.000000</td>\n",
              "      <td>1.000000</td>\n",
              "      <td>0.000000</td>\n",
              "      <td>0.000000</td>\n",
              "      <td>0.000000</td>\n",
              "      <td>0.000000</td>\n",
              "      <td>0.000000</td>\n",
              "      <td>1.000000</td>\n",
              "    </tr>\n",
              "    <tr>\n",
              "      <th>max</th>\n",
              "      <td>1.000000</td>\n",
              "      <td>1.000000</td>\n",
              "      <td>1.000000</td>\n",
              "      <td>1.000000</td>\n",
              "      <td>1.000000</td>\n",
              "      <td>1.000000</td>\n",
              "      <td>1.000000</td>\n",
              "      <td>1.000000</td>\n",
              "      <td>1.000000</td>\n",
              "      <td>1.000000</td>\n",
              "      <td>...</td>\n",
              "      <td>1.000000</td>\n",
              "      <td>1.000000</td>\n",
              "      <td>1.000000</td>\n",
              "      <td>1.000000</td>\n",
              "      <td>1.000000</td>\n",
              "      <td>1.000000</td>\n",
              "      <td>1.000000</td>\n",
              "      <td>1.000000</td>\n",
              "      <td>1.000000</td>\n",
              "      <td>1.000000</td>\n",
              "    </tr>\n",
              "  </tbody>\n",
              "</table>\n",
              "<p>8 rows × 32 columns</p>\n",
              "</div>\n",
              "      <button class=\"colab-df-convert\" onclick=\"convertToInteractive('df-d4654e66-a4cb-4580-9e20-9c87f7af8445')\"\n",
              "              title=\"Convert this dataframe to an interactive table.\"\n",
              "              style=\"display:none;\">\n",
              "        \n",
              "  <svg xmlns=\"http://www.w3.org/2000/svg\" height=\"24px\"viewBox=\"0 0 24 24\"\n",
              "       width=\"24px\">\n",
              "    <path d=\"M0 0h24v24H0V0z\" fill=\"none\"/>\n",
              "    <path d=\"M18.56 5.44l.94 2.06.94-2.06 2.06-.94-2.06-.94-.94-2.06-.94 2.06-2.06.94zm-11 1L8.5 8.5l.94-2.06 2.06-.94-2.06-.94L8.5 2.5l-.94 2.06-2.06.94zm10 10l.94 2.06.94-2.06 2.06-.94-2.06-.94-.94-2.06-.94 2.06-2.06.94z\"/><path d=\"M17.41 7.96l-1.37-1.37c-.4-.4-.92-.59-1.43-.59-.52 0-1.04.2-1.43.59L10.3 9.45l-7.72 7.72c-.78.78-.78 2.05 0 2.83L4 21.41c.39.39.9.59 1.41.59.51 0 1.02-.2 1.41-.59l7.78-7.78 2.81-2.81c.8-.78.8-2.07 0-2.86zM5.41 20L4 18.59l7.72-7.72 1.47 1.35L5.41 20z\"/>\n",
              "  </svg>\n",
              "      </button>\n",
              "      \n",
              "  <style>\n",
              "    .colab-df-container {\n",
              "      display:flex;\n",
              "      flex-wrap:wrap;\n",
              "      gap: 12px;\n",
              "    }\n",
              "\n",
              "    .colab-df-convert {\n",
              "      background-color: #E8F0FE;\n",
              "      border: none;\n",
              "      border-radius: 50%;\n",
              "      cursor: pointer;\n",
              "      display: none;\n",
              "      fill: #1967D2;\n",
              "      height: 32px;\n",
              "      padding: 0 0 0 0;\n",
              "      width: 32px;\n",
              "    }\n",
              "\n",
              "    .colab-df-convert:hover {\n",
              "      background-color: #E2EBFA;\n",
              "      box-shadow: 0px 1px 2px rgba(60, 64, 67, 0.3), 0px 1px 3px 1px rgba(60, 64, 67, 0.15);\n",
              "      fill: #174EA6;\n",
              "    }\n",
              "\n",
              "    [theme=dark] .colab-df-convert {\n",
              "      background-color: #3B4455;\n",
              "      fill: #D2E3FC;\n",
              "    }\n",
              "\n",
              "    [theme=dark] .colab-df-convert:hover {\n",
              "      background-color: #434B5C;\n",
              "      box-shadow: 0px 1px 3px 1px rgba(0, 0, 0, 0.15);\n",
              "      filter: drop-shadow(0px 1px 2px rgba(0, 0, 0, 0.3));\n",
              "      fill: #FFFFFF;\n",
              "    }\n",
              "  </style>\n",
              "\n",
              "      <script>\n",
              "        const buttonEl =\n",
              "          document.querySelector('#df-d4654e66-a4cb-4580-9e20-9c87f7af8445 button.colab-df-convert');\n",
              "        buttonEl.style.display =\n",
              "          google.colab.kernel.accessAllowed ? 'block' : 'none';\n",
              "\n",
              "        async function convertToInteractive(key) {\n",
              "          const element = document.querySelector('#df-d4654e66-a4cb-4580-9e20-9c87f7af8445');\n",
              "          const dataTable =\n",
              "            await google.colab.kernel.invokeFunction('convertToInteractive',\n",
              "                                                     [key], {});\n",
              "          if (!dataTable) return;\n",
              "\n",
              "          const docLinkHtml = 'Like what you see? Visit the ' +\n",
              "            '<a target=\"_blank\" href=https://colab.research.google.com/notebooks/data_table.ipynb>data table notebook</a>'\n",
              "            + ' to learn more about interactive tables.';\n",
              "          element.innerHTML = '';\n",
              "          dataTable['output_type'] = 'display_data';\n",
              "          await google.colab.output.renderOutput(dataTable, element);\n",
              "          const docLink = document.createElement('div');\n",
              "          docLink.innerHTML = docLinkHtml;\n",
              "          element.appendChild(docLink);\n",
              "        }\n",
              "      </script>\n",
              "    </div>\n",
              "  </div>\n",
              "  "
            ]
          },
          "metadata": {},
          "execution_count": 37
        }
      ],
      "source": [
        "# Normalizar\n",
        "# Asi todas las columnas tendran un valor minimo 0 y un máximo de 1\n",
        "data_num = (data_num-data_num.min())/(data_num.max()-data_num.min())\n",
        "data_num.describe()"
      ]
    },
    {
      "cell_type": "code",
      "execution_count": null,
      "metadata": {
        "id": "rWr36CQgT6TK",
        "colab": {
          "base_uri": "https://localhost:8080/",
          "height": 505
        },
        "outputId": "2f3663ee-5bdb-4b66-be4e-c7de2aa3d445"
      },
      "outputs": [
        {
          "output_type": "execute_result",
          "data": {
            "text/plain": [
              "       DiaSemana  EntregasTotal  NumeroEntrega  PorcentajeTratamiento  \\\n",
              "0            0.4       0.500000       0.250000               0.500000   \n",
              "1            0.4       0.083333       0.083333               1.000000   \n",
              "2            0.4       0.333333       0.333333               1.000000   \n",
              "3            0.4       0.333333       0.166667               0.500000   \n",
              "4            0.4       0.500000       0.500000               1.000000   \n",
              "...          ...            ...            ...                    ...   \n",
              "10440        0.2       0.250000       0.083333               0.333333   \n",
              "10441        0.2       0.000000       0.000000               0.000000   \n",
              "10442        0.2       0.333333       0.083333               0.250000   \n",
              "10443        0.2       0.500000       0.083333               0.166667   \n",
              "10444        0.2       0.333333       0.083333               0.250000   \n",
              "\n",
              "       cantidadItemsPedido  CantItemsCadenafrio  cantAgotados  \\\n",
              "0                 0.000000                  0.0          0.25   \n",
              "1                 0.000000                  0.0          0.00   \n",
              "2                 0.055556                  0.0          0.25   \n",
              "3                 0.333333                  0.0          0.50   \n",
              "4                 0.166667                  0.0          0.25   \n",
              "...                    ...                  ...           ...   \n",
              "10440             0.000000                  0.0          0.00   \n",
              "10441             0.111111                  0.0          0.00   \n",
              "10442             0.388889                  0.0          0.00   \n",
              "10443             0.055556                  0.0          0.00   \n",
              "10444             0.111111                  0.0          0.00   \n",
              "\n",
              "       cantidadUnidadesPedido  cantidadFacturas  cantidadNovedadesEntrega  \\\n",
              "0                    0.084046               0.0                       0.0   \n",
              "1                    0.088319               0.0                       0.0   \n",
              "2                    0.084046               0.0                       0.0   \n",
              "3                    0.511396               0.0                       0.0   \n",
              "4                    0.254986               0.0                       0.0   \n",
              "...                       ...               ...                       ...   \n",
              "10440                0.019943               0.0                       0.0   \n",
              "10441                0.022792               0.0                       0.0   \n",
              "10442                0.555556               0.5                       0.0   \n",
              "10443                0.084046               0.0                       0.0   \n",
              "10444                0.126781               0.0                       0.0   \n",
              "\n",
              "       ...  DOMICILIO EXTERNO  PERSONAL INTERNO  TAQUILLA  \\\n",
              "0      ...                0.0               0.0       1.0   \n",
              "1      ...                0.0               0.0       1.0   \n",
              "2      ...                0.0               0.0       1.0   \n",
              "3      ...                0.0               0.0       1.0   \n",
              "4      ...                0.0               0.0       1.0   \n",
              "...    ...                ...               ...       ...   \n",
              "10440  ...                0.0               0.0       1.0   \n",
              "10441  ...                0.0               0.0       1.0   \n",
              "10442  ...                0.0               0.0       1.0   \n",
              "10443  ...                0.0               0.0       1.0   \n",
              "10444  ...                0.0               0.0       1.0   \n",
              "\n",
              "       TRANSPORTADORAS AUXILIARES  TRANSPORTADORAS PRINCIPALES   CONVENCION  \\\n",
              "0                             0.0                           0.0         0.0   \n",
              "1                             0.0                           0.0         0.0   \n",
              "2                             0.0                           0.0         0.0   \n",
              "3                             0.0                           0.0         0.0   \n",
              "4                             0.0                           0.0         0.0   \n",
              "...                           ...                           ...         ...   \n",
              "10440                         0.0                           0.0         0.0   \n",
              "10441                         0.0                           0.0         0.0   \n",
              "10442                         0.0                           0.0         0.0   \n",
              "10443                         0.0                           0.0         0.0   \n",
              "10444                         0.0                           0.0         0.0   \n",
              "\n",
              "       NO PBS  OTRAS  PBS  ClusterKmeans  \n",
              "0         0.0    0.0  1.0              6  \n",
              "1         0.0    0.0  1.0              3  \n",
              "2         0.0    0.0  1.0              6  \n",
              "3         0.0    0.0  1.0              6  \n",
              "4         0.0    0.0  1.0              6  \n",
              "...       ...    ...  ...            ...  \n",
              "10440     0.0    0.0  1.0              3  \n",
              "10441     0.0    0.0  1.0              0  \n",
              "10442     0.0    0.0  1.0              3  \n",
              "10443     0.0    0.0  1.0              3  \n",
              "10444     0.0    0.0  1.0              3  \n",
              "\n",
              "[10445 rows x 33 columns]"
            ],
            "text/html": [
              "\n",
              "  <div id=\"df-3fe8e302-d0f9-4177-a233-7e2faab739a4\">\n",
              "    <div class=\"colab-df-container\">\n",
              "      <div>\n",
              "<style scoped>\n",
              "    .dataframe tbody tr th:only-of-type {\n",
              "        vertical-align: middle;\n",
              "    }\n",
              "\n",
              "    .dataframe tbody tr th {\n",
              "        vertical-align: top;\n",
              "    }\n",
              "\n",
              "    .dataframe thead th {\n",
              "        text-align: right;\n",
              "    }\n",
              "</style>\n",
              "<table border=\"1\" class=\"dataframe\">\n",
              "  <thead>\n",
              "    <tr style=\"text-align: right;\">\n",
              "      <th></th>\n",
              "      <th>DiaSemana</th>\n",
              "      <th>EntregasTotal</th>\n",
              "      <th>NumeroEntrega</th>\n",
              "      <th>PorcentajeTratamiento</th>\n",
              "      <th>cantidadItemsPedido</th>\n",
              "      <th>CantItemsCadenafrio</th>\n",
              "      <th>cantAgotados</th>\n",
              "      <th>cantidadUnidadesPedido</th>\n",
              "      <th>cantidadFacturas</th>\n",
              "      <th>cantidadNovedadesEntrega</th>\n",
              "      <th>...</th>\n",
              "      <th>DOMICILIO EXTERNO</th>\n",
              "      <th>PERSONAL INTERNO</th>\n",
              "      <th>TAQUILLA</th>\n",
              "      <th>TRANSPORTADORAS AUXILIARES</th>\n",
              "      <th>TRANSPORTADORAS PRINCIPALES</th>\n",
              "      <th>CONVENCION</th>\n",
              "      <th>NO PBS</th>\n",
              "      <th>OTRAS</th>\n",
              "      <th>PBS</th>\n",
              "      <th>ClusterKmeans</th>\n",
              "    </tr>\n",
              "  </thead>\n",
              "  <tbody>\n",
              "    <tr>\n",
              "      <th>0</th>\n",
              "      <td>0.4</td>\n",
              "      <td>0.500000</td>\n",
              "      <td>0.250000</td>\n",
              "      <td>0.500000</td>\n",
              "      <td>0.000000</td>\n",
              "      <td>0.0</td>\n",
              "      <td>0.25</td>\n",
              "      <td>0.084046</td>\n",
              "      <td>0.0</td>\n",
              "      <td>0.0</td>\n",
              "      <td>...</td>\n",
              "      <td>0.0</td>\n",
              "      <td>0.0</td>\n",
              "      <td>1.0</td>\n",
              "      <td>0.0</td>\n",
              "      <td>0.0</td>\n",
              "      <td>0.0</td>\n",
              "      <td>0.0</td>\n",
              "      <td>0.0</td>\n",
              "      <td>1.0</td>\n",
              "      <td>6</td>\n",
              "    </tr>\n",
              "    <tr>\n",
              "      <th>1</th>\n",
              "      <td>0.4</td>\n",
              "      <td>0.083333</td>\n",
              "      <td>0.083333</td>\n",
              "      <td>1.000000</td>\n",
              "      <td>0.000000</td>\n",
              "      <td>0.0</td>\n",
              "      <td>0.00</td>\n",
              "      <td>0.088319</td>\n",
              "      <td>0.0</td>\n",
              "      <td>0.0</td>\n",
              "      <td>...</td>\n",
              "      <td>0.0</td>\n",
              "      <td>0.0</td>\n",
              "      <td>1.0</td>\n",
              "      <td>0.0</td>\n",
              "      <td>0.0</td>\n",
              "      <td>0.0</td>\n",
              "      <td>0.0</td>\n",
              "      <td>0.0</td>\n",
              "      <td>1.0</td>\n",
              "      <td>3</td>\n",
              "    </tr>\n",
              "    <tr>\n",
              "      <th>2</th>\n",
              "      <td>0.4</td>\n",
              "      <td>0.333333</td>\n",
              "      <td>0.333333</td>\n",
              "      <td>1.000000</td>\n",
              "      <td>0.055556</td>\n",
              "      <td>0.0</td>\n",
              "      <td>0.25</td>\n",
              "      <td>0.084046</td>\n",
              "      <td>0.0</td>\n",
              "      <td>0.0</td>\n",
              "      <td>...</td>\n",
              "      <td>0.0</td>\n",
              "      <td>0.0</td>\n",
              "      <td>1.0</td>\n",
              "      <td>0.0</td>\n",
              "      <td>0.0</td>\n",
              "      <td>0.0</td>\n",
              "      <td>0.0</td>\n",
              "      <td>0.0</td>\n",
              "      <td>1.0</td>\n",
              "      <td>6</td>\n",
              "    </tr>\n",
              "    <tr>\n",
              "      <th>3</th>\n",
              "      <td>0.4</td>\n",
              "      <td>0.333333</td>\n",
              "      <td>0.166667</td>\n",
              "      <td>0.500000</td>\n",
              "      <td>0.333333</td>\n",
              "      <td>0.0</td>\n",
              "      <td>0.50</td>\n",
              "      <td>0.511396</td>\n",
              "      <td>0.0</td>\n",
              "      <td>0.0</td>\n",
              "      <td>...</td>\n",
              "      <td>0.0</td>\n",
              "      <td>0.0</td>\n",
              "      <td>1.0</td>\n",
              "      <td>0.0</td>\n",
              "      <td>0.0</td>\n",
              "      <td>0.0</td>\n",
              "      <td>0.0</td>\n",
              "      <td>0.0</td>\n",
              "      <td>1.0</td>\n",
              "      <td>6</td>\n",
              "    </tr>\n",
              "    <tr>\n",
              "      <th>4</th>\n",
              "      <td>0.4</td>\n",
              "      <td>0.500000</td>\n",
              "      <td>0.500000</td>\n",
              "      <td>1.000000</td>\n",
              "      <td>0.166667</td>\n",
              "      <td>0.0</td>\n",
              "      <td>0.25</td>\n",
              "      <td>0.254986</td>\n",
              "      <td>0.0</td>\n",
              "      <td>0.0</td>\n",
              "      <td>...</td>\n",
              "      <td>0.0</td>\n",
              "      <td>0.0</td>\n",
              "      <td>1.0</td>\n",
              "      <td>0.0</td>\n",
              "      <td>0.0</td>\n",
              "      <td>0.0</td>\n",
              "      <td>0.0</td>\n",
              "      <td>0.0</td>\n",
              "      <td>1.0</td>\n",
              "      <td>6</td>\n",
              "    </tr>\n",
              "    <tr>\n",
              "      <th>...</th>\n",
              "      <td>...</td>\n",
              "      <td>...</td>\n",
              "      <td>...</td>\n",
              "      <td>...</td>\n",
              "      <td>...</td>\n",
              "      <td>...</td>\n",
              "      <td>...</td>\n",
              "      <td>...</td>\n",
              "      <td>...</td>\n",
              "      <td>...</td>\n",
              "      <td>...</td>\n",
              "      <td>...</td>\n",
              "      <td>...</td>\n",
              "      <td>...</td>\n",
              "      <td>...</td>\n",
              "      <td>...</td>\n",
              "      <td>...</td>\n",
              "      <td>...</td>\n",
              "      <td>...</td>\n",
              "      <td>...</td>\n",
              "      <td>...</td>\n",
              "    </tr>\n",
              "    <tr>\n",
              "      <th>10440</th>\n",
              "      <td>0.2</td>\n",
              "      <td>0.250000</td>\n",
              "      <td>0.083333</td>\n",
              "      <td>0.333333</td>\n",
              "      <td>0.000000</td>\n",
              "      <td>0.0</td>\n",
              "      <td>0.00</td>\n",
              "      <td>0.019943</td>\n",
              "      <td>0.0</td>\n",
              "      <td>0.0</td>\n",
              "      <td>...</td>\n",
              "      <td>0.0</td>\n",
              "      <td>0.0</td>\n",
              "      <td>1.0</td>\n",
              "      <td>0.0</td>\n",
              "      <td>0.0</td>\n",
              "      <td>0.0</td>\n",
              "      <td>0.0</td>\n",
              "      <td>0.0</td>\n",
              "      <td>1.0</td>\n",
              "      <td>3</td>\n",
              "    </tr>\n",
              "    <tr>\n",
              "      <th>10441</th>\n",
              "      <td>0.2</td>\n",
              "      <td>0.000000</td>\n",
              "      <td>0.000000</td>\n",
              "      <td>0.000000</td>\n",
              "      <td>0.111111</td>\n",
              "      <td>0.0</td>\n",
              "      <td>0.00</td>\n",
              "      <td>0.022792</td>\n",
              "      <td>0.0</td>\n",
              "      <td>0.0</td>\n",
              "      <td>...</td>\n",
              "      <td>0.0</td>\n",
              "      <td>0.0</td>\n",
              "      <td>1.0</td>\n",
              "      <td>0.0</td>\n",
              "      <td>0.0</td>\n",
              "      <td>0.0</td>\n",
              "      <td>0.0</td>\n",
              "      <td>0.0</td>\n",
              "      <td>1.0</td>\n",
              "      <td>0</td>\n",
              "    </tr>\n",
              "    <tr>\n",
              "      <th>10442</th>\n",
              "      <td>0.2</td>\n",
              "      <td>0.333333</td>\n",
              "      <td>0.083333</td>\n",
              "      <td>0.250000</td>\n",
              "      <td>0.388889</td>\n",
              "      <td>0.0</td>\n",
              "      <td>0.00</td>\n",
              "      <td>0.555556</td>\n",
              "      <td>0.5</td>\n",
              "      <td>0.0</td>\n",
              "      <td>...</td>\n",
              "      <td>0.0</td>\n",
              "      <td>0.0</td>\n",
              "      <td>1.0</td>\n",
              "      <td>0.0</td>\n",
              "      <td>0.0</td>\n",
              "      <td>0.0</td>\n",
              "      <td>0.0</td>\n",
              "      <td>0.0</td>\n",
              "      <td>1.0</td>\n",
              "      <td>3</td>\n",
              "    </tr>\n",
              "    <tr>\n",
              "      <th>10443</th>\n",
              "      <td>0.2</td>\n",
              "      <td>0.500000</td>\n",
              "      <td>0.083333</td>\n",
              "      <td>0.166667</td>\n",
              "      <td>0.055556</td>\n",
              "      <td>0.0</td>\n",
              "      <td>0.00</td>\n",
              "      <td>0.084046</td>\n",
              "      <td>0.0</td>\n",
              "      <td>0.0</td>\n",
              "      <td>...</td>\n",
              "      <td>0.0</td>\n",
              "      <td>0.0</td>\n",
              "      <td>1.0</td>\n",
              "      <td>0.0</td>\n",
              "      <td>0.0</td>\n",
              "      <td>0.0</td>\n",
              "      <td>0.0</td>\n",
              "      <td>0.0</td>\n",
              "      <td>1.0</td>\n",
              "      <td>3</td>\n",
              "    </tr>\n",
              "    <tr>\n",
              "      <th>10444</th>\n",
              "      <td>0.2</td>\n",
              "      <td>0.333333</td>\n",
              "      <td>0.083333</td>\n",
              "      <td>0.250000</td>\n",
              "      <td>0.111111</td>\n",
              "      <td>0.0</td>\n",
              "      <td>0.00</td>\n",
              "      <td>0.126781</td>\n",
              "      <td>0.0</td>\n",
              "      <td>0.0</td>\n",
              "      <td>...</td>\n",
              "      <td>0.0</td>\n",
              "      <td>0.0</td>\n",
              "      <td>1.0</td>\n",
              "      <td>0.0</td>\n",
              "      <td>0.0</td>\n",
              "      <td>0.0</td>\n",
              "      <td>0.0</td>\n",
              "      <td>0.0</td>\n",
              "      <td>1.0</td>\n",
              "      <td>3</td>\n",
              "    </tr>\n",
              "  </tbody>\n",
              "</table>\n",
              "<p>10445 rows × 33 columns</p>\n",
              "</div>\n",
              "      <button class=\"colab-df-convert\" onclick=\"convertToInteractive('df-3fe8e302-d0f9-4177-a233-7e2faab739a4')\"\n",
              "              title=\"Convert this dataframe to an interactive table.\"\n",
              "              style=\"display:none;\">\n",
              "        \n",
              "  <svg xmlns=\"http://www.w3.org/2000/svg\" height=\"24px\"viewBox=\"0 0 24 24\"\n",
              "       width=\"24px\">\n",
              "    <path d=\"M0 0h24v24H0V0z\" fill=\"none\"/>\n",
              "    <path d=\"M18.56 5.44l.94 2.06.94-2.06 2.06-.94-2.06-.94-.94-2.06-.94 2.06-2.06.94zm-11 1L8.5 8.5l.94-2.06 2.06-.94-2.06-.94L8.5 2.5l-.94 2.06-2.06.94zm10 10l.94 2.06.94-2.06 2.06-.94-2.06-.94-.94-2.06-.94 2.06-2.06.94z\"/><path d=\"M17.41 7.96l-1.37-1.37c-.4-.4-.92-.59-1.43-.59-.52 0-1.04.2-1.43.59L10.3 9.45l-7.72 7.72c-.78.78-.78 2.05 0 2.83L4 21.41c.39.39.9.59 1.41.59.51 0 1.02-.2 1.41-.59l7.78-7.78 2.81-2.81c.8-.78.8-2.07 0-2.86zM5.41 20L4 18.59l7.72-7.72 1.47 1.35L5.41 20z\"/>\n",
              "  </svg>\n",
              "      </button>\n",
              "      \n",
              "  <style>\n",
              "    .colab-df-container {\n",
              "      display:flex;\n",
              "      flex-wrap:wrap;\n",
              "      gap: 12px;\n",
              "    }\n",
              "\n",
              "    .colab-df-convert {\n",
              "      background-color: #E8F0FE;\n",
              "      border: none;\n",
              "      border-radius: 50%;\n",
              "      cursor: pointer;\n",
              "      display: none;\n",
              "      fill: #1967D2;\n",
              "      height: 32px;\n",
              "      padding: 0 0 0 0;\n",
              "      width: 32px;\n",
              "    }\n",
              "\n",
              "    .colab-df-convert:hover {\n",
              "      background-color: #E2EBFA;\n",
              "      box-shadow: 0px 1px 2px rgba(60, 64, 67, 0.3), 0px 1px 3px 1px rgba(60, 64, 67, 0.15);\n",
              "      fill: #174EA6;\n",
              "    }\n",
              "\n",
              "    [theme=dark] .colab-df-convert {\n",
              "      background-color: #3B4455;\n",
              "      fill: #D2E3FC;\n",
              "    }\n",
              "\n",
              "    [theme=dark] .colab-df-convert:hover {\n",
              "      background-color: #434B5C;\n",
              "      box-shadow: 0px 1px 3px 1px rgba(0, 0, 0, 0.15);\n",
              "      filter: drop-shadow(0px 1px 2px rgba(0, 0, 0, 0.3));\n",
              "      fill: #FFFFFF;\n",
              "    }\n",
              "  </style>\n",
              "\n",
              "      <script>\n",
              "        const buttonEl =\n",
              "          document.querySelector('#df-3fe8e302-d0f9-4177-a233-7e2faab739a4 button.colab-df-convert');\n",
              "        buttonEl.style.display =\n",
              "          google.colab.kernel.accessAllowed ? 'block' : 'none';\n",
              "\n",
              "        async function convertToInteractive(key) {\n",
              "          const element = document.querySelector('#df-3fe8e302-d0f9-4177-a233-7e2faab739a4');\n",
              "          const dataTable =\n",
              "            await google.colab.kernel.invokeFunction('convertToInteractive',\n",
              "                                                     [key], {});\n",
              "          if (!dataTable) return;\n",
              "\n",
              "          const docLinkHtml = 'Like what you see? Visit the ' +\n",
              "            '<a target=\"_blank\" href=https://colab.research.google.com/notebooks/data_table.ipynb>data table notebook</a>'\n",
              "            + ' to learn more about interactive tables.';\n",
              "          element.innerHTML = '';\n",
              "          dataTable['output_type'] = 'display_data';\n",
              "          await google.colab.output.renderOutput(dataTable, element);\n",
              "          const docLink = document.createElement('div');\n",
              "          docLink.innerHTML = docLinkHtml;\n",
              "          element.appendChild(docLink);\n",
              "        }\n",
              "      </script>\n",
              "    </div>\n",
              "  </div>\n",
              "  "
            ]
          },
          "metadata": {},
          "execution_count": 38
        }
      ],
      "source": [
        "data_num['ClusterKmeans'] = labelsKmeans\n",
        "data_num"
      ]
    },
    {
      "cell_type": "code",
      "execution_count": null,
      "metadata": {
        "id": "yKceOyMxUNKp",
        "colab": {
          "base_uri": "https://localhost:8080/"
        },
        "outputId": "3955e152-f4c1-4dc1-e54e-36e13cfa247f"
      },
      "outputs": [
        {
          "output_type": "execute_result",
          "data": {
            "text/plain": [
              "ClusterKmeans\n",
              "0     234\n",
              "1    4000\n",
              "2     463\n",
              "3    2598\n",
              "4     180\n",
              "5     677\n",
              "6    2293\n",
              "dtype: int64"
            ]
          },
          "metadata": {},
          "execution_count": 39
        }
      ],
      "source": [
        "data_num.groupby('ClusterKmeans').size()"
      ]
    },
    {
      "cell_type": "markdown",
      "source": [
        "Se realiza un análisis de correlación, una vez integrada la variable \n",
        "obtenida en el clustering\n",
        " "
      ],
      "metadata": {
        "id": "urG7G4--7tbt"
      }
    },
    {
      "cell_type": "code",
      "execution_count": null,
      "metadata": {
        "id": "HIa9MZ5US3cN",
        "colab": {
          "base_uri": "https://localhost:8080/"
        },
        "outputId": "6759ac5c-95a0-43a9-827f-c6bb5380be0a"
      },
      "outputs": [
        {
          "output_type": "execute_result",
          "data": {
            "text/plain": [
              "DiaSemana                       0.033866\n",
              "EntregasTotal                   0.031485\n",
              "NumeroEntrega                   0.048393\n",
              "PorcentajeTratamiento           0.008154\n",
              "cantidadItemsPedido            -0.004054\n",
              "CantItemsCadenafrio             0.044801\n",
              "cantAgotados                   -0.027963\n",
              "cantidadUnidadesPedido          0.007786\n",
              "cantidadFacturas               -0.132831\n",
              "cantidadNovedadesEntrega       -0.041605\n",
              "Controlado                      0.003869\n",
              "regulado                        0.016737\n",
              "Distancia Kmts                  0.220429\n",
              "Cumple                          1.000000\n",
              "Automáticas PreAgenda           0.102522\n",
              "Médicos Programa               -0.077082\n",
              "Transcripción                  -0.084368\n",
              "Norte                          -0.062137\n",
              "Occidente                      -0.032744\n",
              "Oriente                        -0.137034\n",
              "Sin Zona                       -0.065022\n",
              "Sur                            -0.037227\n",
              "Valle de Aburrá                 0.174379\n",
              "DOMICILIO EXTERNO              -0.035298\n",
              "PERSONAL INTERNO                0.603913\n",
              "TAQUILLA                       -0.558487\n",
              "TRANSPORTADORAS AUXILIARES     -0.032447\n",
              "TRANSPORTADORAS PRINCIPALES    -0.117721\n",
              "CONVENCION                      0.095666\n",
              "NO PBS                         -0.033348\n",
              "OTRAS                          -0.009443\n",
              "PBS                            -0.070915\n",
              "ClusterKmeans                  -0.353439\n",
              "Name: Cumple, dtype: float64"
            ]
          },
          "metadata": {},
          "execution_count": 40
        }
      ],
      "source": [
        "data_num.corr()['Cumple']\n"
      ]
    },
    {
      "cell_type": "code",
      "execution_count": null,
      "metadata": {
        "id": "iZJKVRaPUVFt",
        "colab": {
          "base_uri": "https://localhost:8080/",
          "height": 423
        },
        "outputId": "5edd9195-3be3-41cd-b4b7-83d5d03f724f"
      },
      "outputs": [
        {
          "output_type": "execute_result",
          "data": {
            "text/plain": [
              "       Componente_1  Componente_2  ClusterKmeans\n",
              "0          3.171452     -0.317257              6\n",
              "1          0.289561      1.259735              3\n",
              "2          3.173318     -0.335766              6\n",
              "3          3.171910     -0.293385              6\n",
              "4          3.173703     -0.366993              6\n",
              "...             ...           ...            ...\n",
              "10440      0.285112      1.281792              3\n",
              "10441     -2.650451      1.293966              0\n",
              "10442      0.290063      1.289768              3\n",
              "10443      0.284724      1.267626              3\n",
              "10444      0.284720      1.277972              3\n",
              "\n",
              "[10445 rows x 3 columns]"
            ],
            "text/html": [
              "\n",
              "  <div id=\"df-6b1632b7-0f3a-4f5a-87ed-164ba4bebe3e\">\n",
              "    <div class=\"colab-df-container\">\n",
              "      <div>\n",
              "<style scoped>\n",
              "    .dataframe tbody tr th:only-of-type {\n",
              "        vertical-align: middle;\n",
              "    }\n",
              "\n",
              "    .dataframe tbody tr th {\n",
              "        vertical-align: top;\n",
              "    }\n",
              "\n",
              "    .dataframe thead th {\n",
              "        text-align: right;\n",
              "    }\n",
              "</style>\n",
              "<table border=\"1\" class=\"dataframe\">\n",
              "  <thead>\n",
              "    <tr style=\"text-align: right;\">\n",
              "      <th></th>\n",
              "      <th>Componente_1</th>\n",
              "      <th>Componente_2</th>\n",
              "      <th>ClusterKmeans</th>\n",
              "    </tr>\n",
              "  </thead>\n",
              "  <tbody>\n",
              "    <tr>\n",
              "      <th>0</th>\n",
              "      <td>3.171452</td>\n",
              "      <td>-0.317257</td>\n",
              "      <td>6</td>\n",
              "    </tr>\n",
              "    <tr>\n",
              "      <th>1</th>\n",
              "      <td>0.289561</td>\n",
              "      <td>1.259735</td>\n",
              "      <td>3</td>\n",
              "    </tr>\n",
              "    <tr>\n",
              "      <th>2</th>\n",
              "      <td>3.173318</td>\n",
              "      <td>-0.335766</td>\n",
              "      <td>6</td>\n",
              "    </tr>\n",
              "    <tr>\n",
              "      <th>3</th>\n",
              "      <td>3.171910</td>\n",
              "      <td>-0.293385</td>\n",
              "      <td>6</td>\n",
              "    </tr>\n",
              "    <tr>\n",
              "      <th>4</th>\n",
              "      <td>3.173703</td>\n",
              "      <td>-0.366993</td>\n",
              "      <td>6</td>\n",
              "    </tr>\n",
              "    <tr>\n",
              "      <th>...</th>\n",
              "      <td>...</td>\n",
              "      <td>...</td>\n",
              "      <td>...</td>\n",
              "    </tr>\n",
              "    <tr>\n",
              "      <th>10440</th>\n",
              "      <td>0.285112</td>\n",
              "      <td>1.281792</td>\n",
              "      <td>3</td>\n",
              "    </tr>\n",
              "    <tr>\n",
              "      <th>10441</th>\n",
              "      <td>-2.650451</td>\n",
              "      <td>1.293966</td>\n",
              "      <td>0</td>\n",
              "    </tr>\n",
              "    <tr>\n",
              "      <th>10442</th>\n",
              "      <td>0.290063</td>\n",
              "      <td>1.289768</td>\n",
              "      <td>3</td>\n",
              "    </tr>\n",
              "    <tr>\n",
              "      <th>10443</th>\n",
              "      <td>0.284724</td>\n",
              "      <td>1.267626</td>\n",
              "      <td>3</td>\n",
              "    </tr>\n",
              "    <tr>\n",
              "      <th>10444</th>\n",
              "      <td>0.284720</td>\n",
              "      <td>1.277972</td>\n",
              "      <td>3</td>\n",
              "    </tr>\n",
              "  </tbody>\n",
              "</table>\n",
              "<p>10445 rows × 3 columns</p>\n",
              "</div>\n",
              "      <button class=\"colab-df-convert\" onclick=\"convertToInteractive('df-6b1632b7-0f3a-4f5a-87ed-164ba4bebe3e')\"\n",
              "              title=\"Convert this dataframe to an interactive table.\"\n",
              "              style=\"display:none;\">\n",
              "        \n",
              "  <svg xmlns=\"http://www.w3.org/2000/svg\" height=\"24px\"viewBox=\"0 0 24 24\"\n",
              "       width=\"24px\">\n",
              "    <path d=\"M0 0h24v24H0V0z\" fill=\"none\"/>\n",
              "    <path d=\"M18.56 5.44l.94 2.06.94-2.06 2.06-.94-2.06-.94-.94-2.06-.94 2.06-2.06.94zm-11 1L8.5 8.5l.94-2.06 2.06-.94-2.06-.94L8.5 2.5l-.94 2.06-2.06.94zm10 10l.94 2.06.94-2.06 2.06-.94-2.06-.94-.94-2.06-.94 2.06-2.06.94z\"/><path d=\"M17.41 7.96l-1.37-1.37c-.4-.4-.92-.59-1.43-.59-.52 0-1.04.2-1.43.59L10.3 9.45l-7.72 7.72c-.78.78-.78 2.05 0 2.83L4 21.41c.39.39.9.59 1.41.59.51 0 1.02-.2 1.41-.59l7.78-7.78 2.81-2.81c.8-.78.8-2.07 0-2.86zM5.41 20L4 18.59l7.72-7.72 1.47 1.35L5.41 20z\"/>\n",
              "  </svg>\n",
              "      </button>\n",
              "      \n",
              "  <style>\n",
              "    .colab-df-container {\n",
              "      display:flex;\n",
              "      flex-wrap:wrap;\n",
              "      gap: 12px;\n",
              "    }\n",
              "\n",
              "    .colab-df-convert {\n",
              "      background-color: #E8F0FE;\n",
              "      border: none;\n",
              "      border-radius: 50%;\n",
              "      cursor: pointer;\n",
              "      display: none;\n",
              "      fill: #1967D2;\n",
              "      height: 32px;\n",
              "      padding: 0 0 0 0;\n",
              "      width: 32px;\n",
              "    }\n",
              "\n",
              "    .colab-df-convert:hover {\n",
              "      background-color: #E2EBFA;\n",
              "      box-shadow: 0px 1px 2px rgba(60, 64, 67, 0.3), 0px 1px 3px 1px rgba(60, 64, 67, 0.15);\n",
              "      fill: #174EA6;\n",
              "    }\n",
              "\n",
              "    [theme=dark] .colab-df-convert {\n",
              "      background-color: #3B4455;\n",
              "      fill: #D2E3FC;\n",
              "    }\n",
              "\n",
              "    [theme=dark] .colab-df-convert:hover {\n",
              "      background-color: #434B5C;\n",
              "      box-shadow: 0px 1px 3px 1px rgba(0, 0, 0, 0.15);\n",
              "      filter: drop-shadow(0px 1px 2px rgba(0, 0, 0, 0.3));\n",
              "      fill: #FFFFFF;\n",
              "    }\n",
              "  </style>\n",
              "\n",
              "      <script>\n",
              "        const buttonEl =\n",
              "          document.querySelector('#df-6b1632b7-0f3a-4f5a-87ed-164ba4bebe3e button.colab-df-convert');\n",
              "        buttonEl.style.display =\n",
              "          google.colab.kernel.accessAllowed ? 'block' : 'none';\n",
              "\n",
              "        async function convertToInteractive(key) {\n",
              "          const element = document.querySelector('#df-6b1632b7-0f3a-4f5a-87ed-164ba4bebe3e');\n",
              "          const dataTable =\n",
              "            await google.colab.kernel.invokeFunction('convertToInteractive',\n",
              "                                                     [key], {});\n",
              "          if (!dataTable) return;\n",
              "\n",
              "          const docLinkHtml = 'Like what you see? Visit the ' +\n",
              "            '<a target=\"_blank\" href=https://colab.research.google.com/notebooks/data_table.ipynb>data table notebook</a>'\n",
              "            + ' to learn more about interactive tables.';\n",
              "          element.innerHTML = '';\n",
              "          dataTable['output_type'] = 'display_data';\n",
              "          await google.colab.output.renderOutput(dataTable, element);\n",
              "          const docLink = document.createElement('div');\n",
              "          docLink.innerHTML = docLinkHtml;\n",
              "          element.appendChild(docLink);\n",
              "        }\n",
              "      </script>\n",
              "    </div>\n",
              "  </div>\n",
              "  "
            ]
          },
          "metadata": {},
          "execution_count": 41
        }
      ],
      "source": [
        "from sklearn.decomposition import PCA\n",
        "pca = PCA(n_components=2)\n",
        "pca_datos = pca.fit_transform(data_num)\n",
        "pca_datos_df = pd.DataFrame(data=pca_datos,columns=['Componente_1','Componente_2'])\n",
        "pca_nombres_datos = pd.concat([pca_datos_df,data_num[['ClusterKmeans']]], axis=1)\n",
        "pca_nombres_datos"
      ]
    },
    {
      "cell_type": "code",
      "execution_count": null,
      "metadata": {
        "id": "g6jYej2vUc5Y",
        "colab": {
          "base_uri": "https://localhost:8080/",
          "height": 433
        },
        "outputId": "f9c6d4d2-8bd8-423d-b33b-17e0c438cb52"
      },
      "outputs": [
        {
          "output_type": "execute_result",
          "data": {
            "text/plain": [
              "<function matplotlib.pyplot.show>"
            ]
          },
          "metadata": {},
          "execution_count": 42
        },
        {
          "output_type": "display_data",
          "data": {
            "text/plain": [
              "<Figure size 432x432 with 1 Axes>"
            ],
            "image/png": "[encoded data removed]"
          },
          "metadata": {
            "needs_background": "light"
          }
        }
      ],
      "source": [
        "fig = plt.figure(figsize = (6,6))\n",
        "ax = fig.add_subplot(1,1,1)\n",
        "ax.set_xlabel('Componente_1',fontsize = 15)\n",
        "ax.set_ylabel('Componente_2',fontsize = 15)\n",
        "ax.set_title('Componentes Principales',fontsize = 20)\n",
        "\n",
        "color_theme = np.array([\"blue\",\"green\",\"orange\",\"brown\",\"lime\",\"magenta\",\"gold\",\"red\",\"black\",\"gray\",\"cyan\",\"purple\",\"pink\", \"blue\"])\n",
        "\n",
        "ax.scatter(x=pca_nombres_datos.Componente_1, y=pca_nombres_datos.Componente_2,\n",
        "           c=color_theme[pca_nombres_datos.ClusterKmeans], s=20)\n",
        "plt.show"
      ]
    },
    {
      "cell_type": "markdown",
      "metadata": {
        "id": "zDYMSwTzBJZg"
      },
      "source": [
        "## Creamos Dataset"
      ]
    },
    {
      "cell_type": "markdown",
      "metadata": {
        "id": "AwQVbsRf3iSS"
      },
      "source": [
        "Ahora que tenemos las características y etiquetas que queremos, podemos dividir los datos en conjuntos de entrenamiento y prueba usando la práctica función de sklearn train_test_split()\n",
        "\n"
      ]
    },
    {
      "cell_type": "code",
      "execution_count": null,
      "metadata": {
        "id": "AxQW3LnPAzyo"
      },
      "outputs": [],
      "source": [
        "Cumple_df = data_num[data_num.Cumple == 1] #registros Cumplen\n",
        "NoCumple_df = data_num[data_num.Cumple == 0] #casos cuando no Cumplen"
      ]
    },
    {
      "cell_type": "code",
      "execution_count": null,
      "metadata": {
        "id": "zoxdWvBfLm1d",
        "colab": {
          "base_uri": "https://localhost:8080/",
          "height": 505
        },
        "outputId": "457ddd28-bd26-4c7d-893b-f4adbc903039"
      },
      "outputs": [
        {
          "output_type": "execute_result",
          "data": {
            "text/plain": [
              "       DiaSemana  EntregasTotal  NumeroEntrega  PorcentajeTratamiento  \\\n",
              "0            0.4       0.500000       0.250000               0.500000   \n",
              "1            0.4       0.083333       0.083333               1.000000   \n",
              "2            0.4       0.333333       0.333333               1.000000   \n",
              "3            0.4       0.333333       0.166667               0.500000   \n",
              "4            0.4       0.500000       0.500000               1.000000   \n",
              "...          ...            ...            ...                    ...   \n",
              "10440        0.2       0.250000       0.083333               0.333333   \n",
              "10441        0.2       0.000000       0.000000               0.000000   \n",
              "10442        0.2       0.333333       0.083333               0.250000   \n",
              "10443        0.2       0.500000       0.083333               0.166667   \n",
              "10444        0.2       0.333333       0.083333               0.250000   \n",
              "\n",
              "       cantidadItemsPedido  CantItemsCadenafrio  cantAgotados  \\\n",
              "0                 0.000000                  0.0          0.25   \n",
              "1                 0.000000                  0.0          0.00   \n",
              "2                 0.055556                  0.0          0.25   \n",
              "3                 0.333333                  0.0          0.50   \n",
              "4                 0.166667                  0.0          0.25   \n",
              "...                    ...                  ...           ...   \n",
              "10440             0.000000                  0.0          0.00   \n",
              "10441             0.111111                  0.0          0.00   \n",
              "10442             0.388889                  0.0          0.00   \n",
              "10443             0.055556                  0.0          0.00   \n",
              "10444             0.111111                  0.0          0.00   \n",
              "\n",
              "       cantidadUnidadesPedido  cantidadFacturas  cantidadNovedadesEntrega  \\\n",
              "0                    0.084046               0.0                       0.0   \n",
              "1                    0.088319               0.0                       0.0   \n",
              "2                    0.084046               0.0                       0.0   \n",
              "3                    0.511396               0.0                       0.0   \n",
              "4                    0.254986               0.0                       0.0   \n",
              "...                       ...               ...                       ...   \n",
              "10440                0.019943               0.0                       0.0   \n",
              "10441                0.022792               0.0                       0.0   \n",
              "10442                0.555556               0.5                       0.0   \n",
              "10443                0.084046               0.0                       0.0   \n",
              "10444                0.126781               0.0                       0.0   \n",
              "\n",
              "       ...  DOMICILIO EXTERNO  PERSONAL INTERNO  TAQUILLA  \\\n",
              "0      ...                0.0               0.0       1.0   \n",
              "1      ...                0.0               0.0       1.0   \n",
              "2      ...                0.0               0.0       1.0   \n",
              "3      ...                0.0               0.0       1.0   \n",
              "4      ...                0.0               0.0       1.0   \n",
              "...    ...                ...               ...       ...   \n",
              "10440  ...                0.0               0.0       1.0   \n",
              "10441  ...                0.0               0.0       1.0   \n",
              "10442  ...                0.0               0.0       1.0   \n",
              "10443  ...                0.0               0.0       1.0   \n",
              "10444  ...                0.0               0.0       1.0   \n",
              "\n",
              "       TRANSPORTADORAS AUXILIARES  TRANSPORTADORAS PRINCIPALES   CONVENCION  \\\n",
              "0                             0.0                           0.0         0.0   \n",
              "1                             0.0                           0.0         0.0   \n",
              "2                             0.0                           0.0         0.0   \n",
              "3                             0.0                           0.0         0.0   \n",
              "4                             0.0                           0.0         0.0   \n",
              "...                           ...                           ...         ...   \n",
              "10440                         0.0                           0.0         0.0   \n",
              "10441                         0.0                           0.0         0.0   \n",
              "10442                         0.0                           0.0         0.0   \n",
              "10443                         0.0                           0.0         0.0   \n",
              "10444                         0.0                           0.0         0.0   \n",
              "\n",
              "       NO PBS  OTRAS  PBS  ClusterKmeans  \n",
              "0         0.0    0.0  1.0              6  \n",
              "1         0.0    0.0  1.0              3  \n",
              "2         0.0    0.0  1.0              6  \n",
              "3         0.0    0.0  1.0              6  \n",
              "4         0.0    0.0  1.0              6  \n",
              "...       ...    ...  ...            ...  \n",
              "10440     0.0    0.0  1.0              3  \n",
              "10441     0.0    0.0  1.0              0  \n",
              "10442     0.0    0.0  1.0              3  \n",
              "10443     0.0    0.0  1.0              3  \n",
              "10444     0.0    0.0  1.0              3  \n",
              "\n",
              "[7127 rows x 33 columns]"
            ],
            "text/html": [
              "\n",
              "  <div id=\"df-09380f3d-c16a-4a93-8e04-2066799c1274\">\n",
              "    <div class=\"colab-df-container\">\n",
              "      <div>\n",
              "<style scoped>\n",
              "    .dataframe tbody tr th:only-of-type {\n",
              "        vertical-align: middle;\n",
              "    }\n",
              "\n",
              "    .dataframe tbody tr th {\n",
              "        vertical-align: top;\n",
              "    }\n",
              "\n",
              "    .dataframe thead th {\n",
              "        text-align: right;\n",
              "    }\n",
              "</style>\n",
              "<table border=\"1\" class=\"dataframe\">\n",
              "  <thead>\n",
              "    <tr style=\"text-align: right;\">\n",
              "      <th></th>\n",
              "      <th>DiaSemana</th>\n",
              "      <th>EntregasTotal</th>\n",
              "      <th>NumeroEntrega</th>\n",
              "      <th>PorcentajeTratamiento</th>\n",
              "      <th>cantidadItemsPedido</th>\n",
              "      <th>CantItemsCadenafrio</th>\n",
              "      <th>cantAgotados</th>\n",
              "      <th>cantidadUnidadesPedido</th>\n",
              "      <th>cantidadFacturas</th>\n",
              "      <th>cantidadNovedadesEntrega</th>\n",
              "      <th>...</th>\n",
              "      <th>DOMICILIO EXTERNO</th>\n",
              "      <th>PERSONAL INTERNO</th>\n",
              "      <th>TAQUILLA</th>\n",
              "      <th>TRANSPORTADORAS AUXILIARES</th>\n",
              "      <th>TRANSPORTADORAS PRINCIPALES</th>\n",
              "      <th>CONVENCION</th>\n",
              "      <th>NO PBS</th>\n",
              "      <th>OTRAS</th>\n",
              "      <th>PBS</th>\n",
              "      <th>ClusterKmeans</th>\n",
              "    </tr>\n",
              "  </thead>\n",
              "  <tbody>\n",
              "    <tr>\n",
              "      <th>0</th>\n",
              "      <td>0.4</td>\n",
              "      <td>0.500000</td>\n",
              "      <td>0.250000</td>\n",
              "      <td>0.500000</td>\n",
              "      <td>0.000000</td>\n",
              "      <td>0.0</td>\n",
              "      <td>0.25</td>\n",
              "      <td>0.084046</td>\n",
              "      <td>0.0</td>\n",
              "      <td>0.0</td>\n",
              "      <td>...</td>\n",
              "      <td>0.0</td>\n",
              "      <td>0.0</td>\n",
              "      <td>1.0</td>\n",
              "      <td>0.0</td>\n",
              "      <td>0.0</td>\n",
              "      <td>0.0</td>\n",
              "      <td>0.0</td>\n",
              "      <td>0.0</td>\n",
              "      <td>1.0</td>\n",
              "      <td>6</td>\n",
              "    </tr>\n",
              "    <tr>\n",
              "      <th>1</th>\n",
              "      <td>0.4</td>\n",
              "      <td>0.083333</td>\n",
              "      <td>0.083333</td>\n",
              "      <td>1.000000</td>\n",
              "      <td>0.000000</td>\n",
              "      <td>0.0</td>\n",
              "      <td>0.00</td>\n",
              "      <td>0.088319</td>\n",
              "      <td>0.0</td>\n",
              "      <td>0.0</td>\n",
              "      <td>...</td>\n",
              "      <td>0.0</td>\n",
              "      <td>0.0</td>\n",
              "      <td>1.0</td>\n",
              "      <td>0.0</td>\n",
              "      <td>0.0</td>\n",
              "      <td>0.0</td>\n",
              "      <td>0.0</td>\n",
              "      <td>0.0</td>\n",
              "      <td>1.0</td>\n",
              "      <td>3</td>\n",
              "    </tr>\n",
              "    <tr>\n",
              "      <th>2</th>\n",
              "      <td>0.4</td>\n",
              "      <td>0.333333</td>\n",
              "      <td>0.333333</td>\n",
              "      <td>1.000000</td>\n",
              "      <td>0.055556</td>\n",
              "      <td>0.0</td>\n",
              "      <td>0.25</td>\n",
              "      <td>0.084046</td>\n",
              "      <td>0.0</td>\n",
              "      <td>0.0</td>\n",
              "      <td>...</td>\n",
              "      <td>0.0</td>\n",
              "      <td>0.0</td>\n",
              "      <td>1.0</td>\n",
              "      <td>0.0</td>\n",
              "      <td>0.0</td>\n",
              "      <td>0.0</td>\n",
              "      <td>0.0</td>\n",
              "      <td>0.0</td>\n",
              "      <td>1.0</td>\n",
              "      <td>6</td>\n",
              "    </tr>\n",
              "    <tr>\n",
              "      <th>3</th>\n",
              "      <td>0.4</td>\n",
              "      <td>0.333333</td>\n",
              "      <td>0.166667</td>\n",
              "      <td>0.500000</td>\n",
              "      <td>0.333333</td>\n",
              "      <td>0.0</td>\n",
              "      <td>0.50</td>\n",
              "      <td>0.511396</td>\n",
              "      <td>0.0</td>\n",
              "      <td>0.0</td>\n",
              "      <td>...</td>\n",
              "      <td>0.0</td>\n",
              "      <td>0.0</td>\n",
              "      <td>1.0</td>\n",
              "      <td>0.0</td>\n",
              "      <td>0.0</td>\n",
              "      <td>0.0</td>\n",
              "      <td>0.0</td>\n",
              "      <td>0.0</td>\n",
              "      <td>1.0</td>\n",
              "      <td>6</td>\n",
              "    </tr>\n",
              "    <tr>\n",
              "      <th>4</th>\n",
              "      <td>0.4</td>\n",
              "      <td>0.500000</td>\n",
              "      <td>0.500000</td>\n",
              "      <td>1.000000</td>\n",
              "      <td>0.166667</td>\n",
              "      <td>0.0</td>\n",
              "      <td>0.25</td>\n",
              "      <td>0.254986</td>\n",
              "      <td>0.0</td>\n",
              "      <td>0.0</td>\n",
              "      <td>...</td>\n",
              "      <td>0.0</td>\n",
              "      <td>0.0</td>\n",
              "      <td>1.0</td>\n",
              "      <td>0.0</td>\n",
              "      <td>0.0</td>\n",
              "      <td>0.0</td>\n",
              "      <td>0.0</td>\n",
              "      <td>0.0</td>\n",
              "      <td>1.0</td>\n",
              "      <td>6</td>\n",
              "    </tr>\n",
              "    <tr>\n",
              "      <th>...</th>\n",
              "      <td>...</td>\n",
              "      <td>...</td>\n",
              "      <td>...</td>\n",
              "      <td>...</td>\n",
              "      <td>...</td>\n",
              "      <td>...</td>\n",
              "      <td>...</td>\n",
              "      <td>...</td>\n",
              "      <td>...</td>\n",
              "      <td>...</td>\n",
              "      <td>...</td>\n",
              "      <td>...</td>\n",
              "      <td>...</td>\n",
              "      <td>...</td>\n",
              "      <td>...</td>\n",
              "      <td>...</td>\n",
              "      <td>...</td>\n",
              "      <td>...</td>\n",
              "      <td>...</td>\n",
              "      <td>...</td>\n",
              "      <td>...</td>\n",
              "    </tr>\n",
              "    <tr>\n",
              "      <th>10440</th>\n",
              "      <td>0.2</td>\n",
              "      <td>0.250000</td>\n",
              "      <td>0.083333</td>\n",
              "      <td>0.333333</td>\n",
              "      <td>0.000000</td>\n",
              "      <td>0.0</td>\n",
              "      <td>0.00</td>\n",
              "      <td>0.019943</td>\n",
              "      <td>0.0</td>\n",
              "      <td>0.0</td>\n",
              "      <td>...</td>\n",
              "      <td>0.0</td>\n",
              "      <td>0.0</td>\n",
              "      <td>1.0</td>\n",
              "      <td>0.0</td>\n",
              "      <td>0.0</td>\n",
              "      <td>0.0</td>\n",
              "      <td>0.0</td>\n",
              "      <td>0.0</td>\n",
              "      <td>1.0</td>\n",
              "      <td>3</td>\n",
              "    </tr>\n",
              "    <tr>\n",
              "      <th>10441</th>\n",
              "      <td>0.2</td>\n",
              "      <td>0.000000</td>\n",
              "      <td>0.000000</td>\n",
              "      <td>0.000000</td>\n",
              "      <td>0.111111</td>\n",
              "      <td>0.0</td>\n",
              "      <td>0.00</td>\n",
              "      <td>0.022792</td>\n",
              "      <td>0.0</td>\n",
              "      <td>0.0</td>\n",
              "      <td>...</td>\n",
              "      <td>0.0</td>\n",
              "      <td>0.0</td>\n",
              "      <td>1.0</td>\n",
              "      <td>0.0</td>\n",
              "      <td>0.0</td>\n",
              "      <td>0.0</td>\n",
              "      <td>0.0</td>\n",
              "      <td>0.0</td>\n",
              "      <td>1.0</td>\n",
              "      <td>0</td>\n",
              "    </tr>\n",
              "    <tr>\n",
              "      <th>10442</th>\n",
              "      <td>0.2</td>\n",
              "      <td>0.333333</td>\n",
              "      <td>0.083333</td>\n",
              "      <td>0.250000</td>\n",
              "      <td>0.388889</td>\n",
              "      <td>0.0</td>\n",
              "      <td>0.00</td>\n",
              "      <td>0.555556</td>\n",
              "      <td>0.5</td>\n",
              "      <td>0.0</td>\n",
              "      <td>...</td>\n",
              "      <td>0.0</td>\n",
              "      <td>0.0</td>\n",
              "      <td>1.0</td>\n",
              "      <td>0.0</td>\n",
              "      <td>0.0</td>\n",
              "      <td>0.0</td>\n",
              "      <td>0.0</td>\n",
              "      <td>0.0</td>\n",
              "      <td>1.0</td>\n",
              "      <td>3</td>\n",
              "    </tr>\n",
              "    <tr>\n",
              "      <th>10443</th>\n",
              "      <td>0.2</td>\n",
              "      <td>0.500000</td>\n",
              "      <td>0.083333</td>\n",
              "      <td>0.166667</td>\n",
              "      <td>0.055556</td>\n",
              "      <td>0.0</td>\n",
              "      <td>0.00</td>\n",
              "      <td>0.084046</td>\n",
              "      <td>0.0</td>\n",
              "      <td>0.0</td>\n",
              "      <td>...</td>\n",
              "      <td>0.0</td>\n",
              "      <td>0.0</td>\n",
              "      <td>1.0</td>\n",
              "      <td>0.0</td>\n",
              "      <td>0.0</td>\n",
              "      <td>0.0</td>\n",
              "      <td>0.0</td>\n",
              "      <td>0.0</td>\n",
              "      <td>1.0</td>\n",
              "      <td>3</td>\n",
              "    </tr>\n",
              "    <tr>\n",
              "      <th>10444</th>\n",
              "      <td>0.2</td>\n",
              "      <td>0.333333</td>\n",
              "      <td>0.083333</td>\n",
              "      <td>0.250000</td>\n",
              "      <td>0.111111</td>\n",
              "      <td>0.0</td>\n",
              "      <td>0.00</td>\n",
              "      <td>0.126781</td>\n",
              "      <td>0.0</td>\n",
              "      <td>0.0</td>\n",
              "      <td>...</td>\n",
              "      <td>0.0</td>\n",
              "      <td>0.0</td>\n",
              "      <td>1.0</td>\n",
              "      <td>0.0</td>\n",
              "      <td>0.0</td>\n",
              "      <td>0.0</td>\n",
              "      <td>0.0</td>\n",
              "      <td>0.0</td>\n",
              "      <td>1.0</td>\n",
              "      <td>3</td>\n",
              "    </tr>\n",
              "  </tbody>\n",
              "</table>\n",
              "<p>7127 rows × 33 columns</p>\n",
              "</div>\n",
              "      <button class=\"colab-df-convert\" onclick=\"convertToInteractive('df-09380f3d-c16a-4a93-8e04-2066799c1274')\"\n",
              "              title=\"Convert this dataframe to an interactive table.\"\n",
              "              style=\"display:none;\">\n",
              "        \n",
              "  <svg xmlns=\"http://www.w3.org/2000/svg\" height=\"24px\"viewBox=\"0 0 24 24\"\n",
              "       width=\"24px\">\n",
              "    <path d=\"M0 0h24v24H0V0z\" fill=\"none\"/>\n",
              "    <path d=\"M18.56 5.44l.94 2.06.94-2.06 2.06-.94-2.06-.94-.94-2.06-.94 2.06-2.06.94zm-11 1L8.5 8.5l.94-2.06 2.06-.94-2.06-.94L8.5 2.5l-.94 2.06-2.06.94zm10 10l.94 2.06.94-2.06 2.06-.94-2.06-.94-.94-2.06-.94 2.06-2.06.94z\"/><path d=\"M17.41 7.96l-1.37-1.37c-.4-.4-.92-.59-1.43-.59-.52 0-1.04.2-1.43.59L10.3 9.45l-7.72 7.72c-.78.78-.78 2.05 0 2.83L4 21.41c.39.39.9.59 1.41.59.51 0 1.02-.2 1.41-.59l7.78-7.78 2.81-2.81c.8-.78.8-2.07 0-2.86zM5.41 20L4 18.59l7.72-7.72 1.47 1.35L5.41 20z\"/>\n",
              "  </svg>\n",
              "      </button>\n",
              "      \n",
              "  <style>\n",
              "    .colab-df-container {\n",
              "      display:flex;\n",
              "      flex-wrap:wrap;\n",
              "      gap: 12px;\n",
              "    }\n",
              "\n",
              "    .colab-df-convert {\n",
              "      background-color: #E8F0FE;\n",
              "      border: none;\n",
              "      border-radius: 50%;\n",
              "      cursor: pointer;\n",
              "      display: none;\n",
              "      fill: #1967D2;\n",
              "      height: 32px;\n",
              "      padding: 0 0 0 0;\n",
              "      width: 32px;\n",
              "    }\n",
              "\n",
              "    .colab-df-convert:hover {\n",
              "      background-color: #E2EBFA;\n",
              "      box-shadow: 0px 1px 2px rgba(60, 64, 67, 0.3), 0px 1px 3px 1px rgba(60, 64, 67, 0.15);\n",
              "      fill: #174EA6;\n",
              "    }\n",
              "\n",
              "    [theme=dark] .colab-df-convert {\n",
              "      background-color: #3B4455;\n",
              "      fill: #D2E3FC;\n",
              "    }\n",
              "\n",
              "    [theme=dark] .colab-df-convert:hover {\n",
              "      background-color: #434B5C;\n",
              "      box-shadow: 0px 1px 3px 1px rgba(0, 0, 0, 0.15);\n",
              "      filter: drop-shadow(0px 1px 2px rgba(0, 0, 0, 0.3));\n",
              "      fill: #FFFFFF;\n",
              "    }\n",
              "  </style>\n",
              "\n",
              "      <script>\n",
              "        const buttonEl =\n",
              "          document.querySelector('#df-09380f3d-c16a-4a93-8e04-2066799c1274 button.colab-df-convert');\n",
              "        buttonEl.style.display =\n",
              "          google.colab.kernel.accessAllowed ? 'block' : 'none';\n",
              "\n",
              "        async function convertToInteractive(key) {\n",
              "          const element = document.querySelector('#df-09380f3d-c16a-4a93-8e04-2066799c1274');\n",
              "          const dataTable =\n",
              "            await google.colab.kernel.invokeFunction('convertToInteractive',\n",
              "                                                     [key], {});\n",
              "          if (!dataTable) return;\n",
              "\n",
              "          const docLinkHtml = 'Like what you see? Visit the ' +\n",
              "            '<a target=\"_blank\" href=https://colab.research.google.com/notebooks/data_table.ipynb>data table notebook</a>'\n",
              "            + ' to learn more about interactive tables.';\n",
              "          element.innerHTML = '';\n",
              "          dataTable['output_type'] = 'display_data';\n",
              "          await google.colab.output.renderOutput(dataTable, element);\n",
              "          const docLink = document.createElement('div');\n",
              "          docLink.innerHTML = docLinkHtml;\n",
              "          element.appendChild(docLink);\n",
              "        }\n",
              "      </script>\n",
              "    </div>\n",
              "  </div>\n",
              "  "
            ]
          },
          "metadata": {},
          "execution_count": 44
        }
      ],
      "source": [
        "NoCumple_df"
      ]
    },
    {
      "cell_type": "code",
      "source": [
        "Cumple_df"
      ],
      "metadata": {
        "id": "9k5hoKFJ98UQ",
        "colab": {
          "base_uri": "https://localhost:8080/",
          "height": 505
        },
        "outputId": "68e6c04e-ed55-47d5-9ba2-f8c568184114"
      },
      "execution_count": null,
      "outputs": [
        {
          "output_type": "execute_result",
          "data": {
            "text/plain": [
              "       DiaSemana  EntregasTotal  NumeroEntrega  PorcentajeTratamiento  \\\n",
              "10           0.4       0.416667       0.083333               0.200000   \n",
              "11           0.4       0.500000       0.333333               0.666667   \n",
              "12           0.4       0.166667       0.083333               0.500000   \n",
              "13           0.4       0.250000       0.083333               0.333333   \n",
              "14           0.4       0.333333       0.250000               0.750000   \n",
              "...          ...            ...            ...                    ...   \n",
              "10420        0.0       0.500000       0.250000               0.500000   \n",
              "10421        0.0       0.500000       0.500000               1.000000   \n",
              "10426        0.0       0.500000       0.416667               0.833333   \n",
              "10432        0.0       0.333333       0.083333               0.250000   \n",
              "10433        0.0       0.500000       0.500000               1.000000   \n",
              "\n",
              "       cantidadItemsPedido  CantItemsCadenafrio  cantAgotados  \\\n",
              "10                0.000000                 0.00          0.00   \n",
              "11                0.111111                 0.00          0.25   \n",
              "12                0.333333                 0.00          0.00   \n",
              "13                0.166667                 0.00          0.00   \n",
              "14                0.000000                 0.00          0.00   \n",
              "...                    ...                  ...           ...   \n",
              "10420             0.222222                 0.25          0.00   \n",
              "10421             0.111111                 0.00          0.00   \n",
              "10426             0.222222                 0.00          0.00   \n",
              "10432             0.166667                 0.00          0.00   \n",
              "10433             0.055556                 0.00          0.00   \n",
              "\n",
              "       cantidadUnidadesPedido  cantidadFacturas  cantidadNovedadesEntrega  \\\n",
              "10                   0.084046               0.0                       0.0   \n",
              "11                   0.212251               0.0                       0.0   \n",
              "12                   0.468661               0.0                       0.0   \n",
              "13                   0.169516               0.0                       0.0   \n",
              "14                   0.038462               0.0                       0.0   \n",
              "...                       ...               ...                       ...   \n",
              "10420                0.256410               0.0                       0.0   \n",
              "10421                0.254986               0.0                       0.0   \n",
              "10426                0.297721               0.0                       0.0   \n",
              "10432                0.169516               0.0                       0.0   \n",
              "10433                0.126781               0.0                       0.0   \n",
              "\n",
              "       ...  DOMICILIO EXTERNO  PERSONAL INTERNO  TAQUILLA  \\\n",
              "10     ...                0.0               1.0       0.0   \n",
              "11     ...                0.0               1.0       0.0   \n",
              "12     ...                0.0               1.0       0.0   \n",
              "13     ...                0.0               1.0       0.0   \n",
              "14     ...                0.0               1.0       0.0   \n",
              "...    ...                ...               ...       ...   \n",
              "10420  ...                0.0               1.0       0.0   \n",
              "10421  ...                0.0               1.0       0.0   \n",
              "10426  ...                0.0               1.0       0.0   \n",
              "10432  ...                0.0               1.0       0.0   \n",
              "10433  ...                0.0               1.0       0.0   \n",
              "\n",
              "       TRANSPORTADORAS AUXILIARES  TRANSPORTADORAS PRINCIPALES   CONVENCION  \\\n",
              "10                            0.0                           0.0         0.0   \n",
              "11                            0.0                           0.0         0.0   \n",
              "12                            0.0                           0.0         0.0   \n",
              "13                            0.0                           0.0         0.0   \n",
              "14                            0.0                           0.0         0.0   \n",
              "...                           ...                           ...         ...   \n",
              "10420                         0.0                           0.0         0.0   \n",
              "10421                         0.0                           0.0         0.0   \n",
              "10426                         0.0                           0.0         0.0   \n",
              "10432                         0.0                           0.0         0.0   \n",
              "10433                         0.0                           0.0         0.0   \n",
              "\n",
              "       NO PBS  OTRAS  PBS  ClusterKmeans  \n",
              "10        0.0    0.0  1.0              1  \n",
              "11        0.0    0.0  1.0              1  \n",
              "12        0.0    0.0  1.0              3  \n",
              "13        0.0    0.0  1.0              1  \n",
              "14        0.0    0.0  1.0              1  \n",
              "...       ...    ...  ...            ...  \n",
              "10420     0.0    0.0  1.0              1  \n",
              "10421     0.0    0.0  1.0              1  \n",
              "10426     0.0    0.0  1.0              1  \n",
              "10432     0.0    0.0  1.0              1  \n",
              "10433     0.0    0.0  1.0              1  \n",
              "\n",
              "[3318 rows x 33 columns]"
            ],
            "text/html": [
              "\n",
              "  <div id=\"df-6fd3823d-e3b8-4e1d-b2a2-7753fbda7aae\">\n",
              "    <div class=\"colab-df-container\">\n",
              "      <div>\n",
              "<style scoped>\n",
              "    .dataframe tbody tr th:only-of-type {\n",
              "        vertical-align: middle;\n",
              "    }\n",
              "\n",
              "    .dataframe tbody tr th {\n",
              "        vertical-align: top;\n",
              "    }\n",
              "\n",
              "    .dataframe thead th {\n",
              "        text-align: right;\n",
              "    }\n",
              "</style>\n",
              "<table border=\"1\" class=\"dataframe\">\n",
              "  <thead>\n",
              "    <tr style=\"text-align: right;\">\n",
              "      <th></th>\n",
              "      <th>DiaSemana</th>\n",
              "      <th>EntregasTotal</th>\n",
              "      <th>NumeroEntrega</th>\n",
              "      <th>PorcentajeTratamiento</th>\n",
              "      <th>cantidadItemsPedido</th>\n",
              "      <th>CantItemsCadenafrio</th>\n",
              "      <th>cantAgotados</th>\n",
              "      <th>cantidadUnidadesPedido</th>\n",
              "      <th>cantidadFacturas</th>\n",
              "      <th>cantidadNovedadesEntrega</th>\n",
              "      <th>...</th>\n",
              "      <th>DOMICILIO EXTERNO</th>\n",
              "      <th>PERSONAL INTERNO</th>\n",
              "      <th>TAQUILLA</th>\n",
              "      <th>TRANSPORTADORAS AUXILIARES</th>\n",
              "      <th>TRANSPORTADORAS PRINCIPALES</th>\n",
              "      <th>CONVENCION</th>\n",
              "      <th>NO PBS</th>\n",
              "      <th>OTRAS</th>\n",
              "      <th>PBS</th>\n",
              "      <th>ClusterKmeans</th>\n",
              "    </tr>\n",
              "  </thead>\n",
              "  <tbody>\n",
              "    <tr>\n",
              "      <th>10</th>\n",
              "      <td>0.4</td>\n",
              "      <td>0.416667</td>\n",
              "      <td>0.083333</td>\n",
              "      <td>0.200000</td>\n",
              "      <td>0.000000</td>\n",
              "      <td>0.00</td>\n",
              "      <td>0.00</td>\n",
              "      <td>0.084046</td>\n",
              "      <td>0.0</td>\n",
              "      <td>0.0</td>\n",
              "      <td>...</td>\n",
              "      <td>0.0</td>\n",
              "      <td>1.0</td>\n",
              "      <td>0.0</td>\n",
              "      <td>0.0</td>\n",
              "      <td>0.0</td>\n",
              "      <td>0.0</td>\n",
              "      <td>0.0</td>\n",
              "      <td>0.0</td>\n",
              "      <td>1.0</td>\n",
              "      <td>1</td>\n",
              "    </tr>\n",
              "    <tr>\n",
              "      <th>11</th>\n",
              "      <td>0.4</td>\n",
              "      <td>0.500000</td>\n",
              "      <td>0.333333</td>\n",
              "      <td>0.666667</td>\n",
              "      <td>0.111111</td>\n",
              "      <td>0.00</td>\n",
              "      <td>0.25</td>\n",
              "      <td>0.212251</td>\n",
              "      <td>0.0</td>\n",
              "      <td>0.0</td>\n",
              "      <td>...</td>\n",
              "      <td>0.0</td>\n",
              "      <td>1.0</td>\n",
              "      <td>0.0</td>\n",
              "      <td>0.0</td>\n",
              "      <td>0.0</td>\n",
              "      <td>0.0</td>\n",
              "      <td>0.0</td>\n",
              "      <td>0.0</td>\n",
              "      <td>1.0</td>\n",
              "      <td>1</td>\n",
              "    </tr>\n",
              "    <tr>\n",
              "      <th>12</th>\n",
              "      <td>0.4</td>\n",
              "      <td>0.166667</td>\n",
              "      <td>0.083333</td>\n",
              "      <td>0.500000</td>\n",
              "      <td>0.333333</td>\n",
              "      <td>0.00</td>\n",
              "      <td>0.00</td>\n",
              "      <td>0.468661</td>\n",
              "      <td>0.0</td>\n",
              "      <td>0.0</td>\n",
              "      <td>...</td>\n",
              "      <td>0.0</td>\n",
              "      <td>1.0</td>\n",
              "      <td>0.0</td>\n",
              "      <td>0.0</td>\n",
              "      <td>0.0</td>\n",
              "      <td>0.0</td>\n",
              "      <td>0.0</td>\n",
              "      <td>0.0</td>\n",
              "      <td>1.0</td>\n",
              "      <td>3</td>\n",
              "    </tr>\n",
              "    <tr>\n",
              "      <th>13</th>\n",
              "      <td>0.4</td>\n",
              "      <td>0.250000</td>\n",
              "      <td>0.083333</td>\n",
              "      <td>0.333333</td>\n",
              "      <td>0.166667</td>\n",
              "      <td>0.00</td>\n",
              "      <td>0.00</td>\n",
              "      <td>0.169516</td>\n",
              "      <td>0.0</td>\n",
              "      <td>0.0</td>\n",
              "      <td>...</td>\n",
              "      <td>0.0</td>\n",
              "      <td>1.0</td>\n",
              "      <td>0.0</td>\n",
              "      <td>0.0</td>\n",
              "      <td>0.0</td>\n",
              "      <td>0.0</td>\n",
              "      <td>0.0</td>\n",
              "      <td>0.0</td>\n",
              "      <td>1.0</td>\n",
              "      <td>1</td>\n",
              "    </tr>\n",
              "    <tr>\n",
              "      <th>14</th>\n",
              "      <td>0.4</td>\n",
              "      <td>0.333333</td>\n",
              "      <td>0.250000</td>\n",
              "      <td>0.750000</td>\n",
              "      <td>0.000000</td>\n",
              "      <td>0.00</td>\n",
              "      <td>0.00</td>\n",
              "      <td>0.038462</td>\n",
              "      <td>0.0</td>\n",
              "      <td>0.0</td>\n",
              "      <td>...</td>\n",
              "      <td>0.0</td>\n",
              "      <td>1.0</td>\n",
              "      <td>0.0</td>\n",
              "      <td>0.0</td>\n",
              "      <td>0.0</td>\n",
              "      <td>0.0</td>\n",
              "      <td>0.0</td>\n",
              "      <td>0.0</td>\n",
              "      <td>1.0</td>\n",
              "      <td>1</td>\n",
              "    </tr>\n",
              "    <tr>\n",
              "      <th>...</th>\n",
              "      <td>...</td>\n",
              "      <td>...</td>\n",
              "      <td>...</td>\n",
              "      <td>...</td>\n",
              "      <td>...</td>\n",
              "      <td>...</td>\n",
              "      <td>...</td>\n",
              "      <td>...</td>\n",
              "      <td>...</td>\n",
              "      <td>...</td>\n",
              "      <td>...</td>\n",
              "      <td>...</td>\n",
              "      <td>...</td>\n",
              "      <td>...</td>\n",
              "      <td>...</td>\n",
              "      <td>...</td>\n",
              "      <td>...</td>\n",
              "      <td>...</td>\n",
              "      <td>...</td>\n",
              "      <td>...</td>\n",
              "      <td>...</td>\n",
              "    </tr>\n",
              "    <tr>\n",
              "      <th>10420</th>\n",
              "      <td>0.0</td>\n",
              "      <td>0.500000</td>\n",
              "      <td>0.250000</td>\n",
              "      <td>0.500000</td>\n",
              "      <td>0.222222</td>\n",
              "      <td>0.25</td>\n",
              "      <td>0.00</td>\n",
              "      <td>0.256410</td>\n",
              "      <td>0.0</td>\n",
              "      <td>0.0</td>\n",
              "      <td>...</td>\n",
              "      <td>0.0</td>\n",
              "      <td>1.0</td>\n",
              "      <td>0.0</td>\n",
              "      <td>0.0</td>\n",
              "      <td>0.0</td>\n",
              "      <td>0.0</td>\n",
              "      <td>0.0</td>\n",
              "      <td>0.0</td>\n",
              "      <td>1.0</td>\n",
              "      <td>1</td>\n",
              "    </tr>\n",
              "    <tr>\n",
              "      <th>10421</th>\n",
              "      <td>0.0</td>\n",
              "      <td>0.500000</td>\n",
              "      <td>0.500000</td>\n",
              "      <td>1.000000</td>\n",
              "      <td>0.111111</td>\n",
              "      <td>0.00</td>\n",
              "      <td>0.00</td>\n",
              "      <td>0.254986</td>\n",
              "      <td>0.0</td>\n",
              "      <td>0.0</td>\n",
              "      <td>...</td>\n",
              "      <td>0.0</td>\n",
              "      <td>1.0</td>\n",
              "      <td>0.0</td>\n",
              "      <td>0.0</td>\n",
              "      <td>0.0</td>\n",
              "      <td>0.0</td>\n",
              "      <td>0.0</td>\n",
              "      <td>0.0</td>\n",
              "      <td>1.0</td>\n",
              "      <td>1</td>\n",
              "    </tr>\n",
              "    <tr>\n",
              "      <th>10426</th>\n",
              "      <td>0.0</td>\n",
              "      <td>0.500000</td>\n",
              "      <td>0.416667</td>\n",
              "      <td>0.833333</td>\n",
              "      <td>0.222222</td>\n",
              "      <td>0.00</td>\n",
              "      <td>0.00</td>\n",
              "      <td>0.297721</td>\n",
              "      <td>0.0</td>\n",
              "      <td>0.0</td>\n",
              "      <td>...</td>\n",
              "      <td>0.0</td>\n",
              "      <td>1.0</td>\n",
              "      <td>0.0</td>\n",
              "      <td>0.0</td>\n",
              "      <td>0.0</td>\n",
              "      <td>0.0</td>\n",
              "      <td>0.0</td>\n",
              "      <td>0.0</td>\n",
              "      <td>1.0</td>\n",
              "      <td>1</td>\n",
              "    </tr>\n",
              "    <tr>\n",
              "      <th>10432</th>\n",
              "      <td>0.0</td>\n",
              "      <td>0.333333</td>\n",
              "      <td>0.083333</td>\n",
              "      <td>0.250000</td>\n",
              "      <td>0.166667</td>\n",
              "      <td>0.00</td>\n",
              "      <td>0.00</td>\n",
              "      <td>0.169516</td>\n",
              "      <td>0.0</td>\n",
              "      <td>0.0</td>\n",
              "      <td>...</td>\n",
              "      <td>0.0</td>\n",
              "      <td>1.0</td>\n",
              "      <td>0.0</td>\n",
              "      <td>0.0</td>\n",
              "      <td>0.0</td>\n",
              "      <td>0.0</td>\n",
              "      <td>0.0</td>\n",
              "      <td>0.0</td>\n",
              "      <td>1.0</td>\n",
              "      <td>1</td>\n",
              "    </tr>\n",
              "    <tr>\n",
              "      <th>10433</th>\n",
              "      <td>0.0</td>\n",
              "      <td>0.500000</td>\n",
              "      <td>0.500000</td>\n",
              "      <td>1.000000</td>\n",
              "      <td>0.055556</td>\n",
              "      <td>0.00</td>\n",
              "      <td>0.00</td>\n",
              "      <td>0.126781</td>\n",
              "      <td>0.0</td>\n",
              "      <td>0.0</td>\n",
              "      <td>...</td>\n",
              "      <td>0.0</td>\n",
              "      <td>1.0</td>\n",
              "      <td>0.0</td>\n",
              "      <td>0.0</td>\n",
              "      <td>0.0</td>\n",
              "      <td>0.0</td>\n",
              "      <td>0.0</td>\n",
              "      <td>0.0</td>\n",
              "      <td>1.0</td>\n",
              "      <td>1</td>\n",
              "    </tr>\n",
              "  </tbody>\n",
              "</table>\n",
              "<p>3318 rows × 33 columns</p>\n",
              "</div>\n",
              "      <button class=\"colab-df-convert\" onclick=\"convertToInteractive('df-6fd3823d-e3b8-4e1d-b2a2-7753fbda7aae')\"\n",
              "              title=\"Convert this dataframe to an interactive table.\"\n",
              "              style=\"display:none;\">\n",
              "        \n",
              "  <svg xmlns=\"http://www.w3.org/2000/svg\" height=\"24px\"viewBox=\"0 0 24 24\"\n",
              "       width=\"24px\">\n",
              "    <path d=\"M0 0h24v24H0V0z\" fill=\"none\"/>\n",
              "    <path d=\"M18.56 5.44l.94 2.06.94-2.06 2.06-.94-2.06-.94-.94-2.06-.94 2.06-2.06.94zm-11 1L8.5 8.5l.94-2.06 2.06-.94-2.06-.94L8.5 2.5l-.94 2.06-2.06.94zm10 10l.94 2.06.94-2.06 2.06-.94-2.06-.94-.94-2.06-.94 2.06-2.06.94z\"/><path d=\"M17.41 7.96l-1.37-1.37c-.4-.4-.92-.59-1.43-.59-.52 0-1.04.2-1.43.59L10.3 9.45l-7.72 7.72c-.78.78-.78 2.05 0 2.83L4 21.41c.39.39.9.59 1.41.59.51 0 1.02-.2 1.41-.59l7.78-7.78 2.81-2.81c.8-.78.8-2.07 0-2.86zM5.41 20L4 18.59l7.72-7.72 1.47 1.35L5.41 20z\"/>\n",
              "  </svg>\n",
              "      </button>\n",
              "      \n",
              "  <style>\n",
              "    .colab-df-container {\n",
              "      display:flex;\n",
              "      flex-wrap:wrap;\n",
              "      gap: 12px;\n",
              "    }\n",
              "\n",
              "    .colab-df-convert {\n",
              "      background-color: #E8F0FE;\n",
              "      border: none;\n",
              "      border-radius: 50%;\n",
              "      cursor: pointer;\n",
              "      display: none;\n",
              "      fill: #1967D2;\n",
              "      height: 32px;\n",
              "      padding: 0 0 0 0;\n",
              "      width: 32px;\n",
              "    }\n",
              "\n",
              "    .colab-df-convert:hover {\n",
              "      background-color: #E2EBFA;\n",
              "      box-shadow: 0px 1px 2px rgba(60, 64, 67, 0.3), 0px 1px 3px 1px rgba(60, 64, 67, 0.15);\n",
              "      fill: #174EA6;\n",
              "    }\n",
              "\n",
              "    [theme=dark] .colab-df-convert {\n",
              "      background-color: #3B4455;\n",
              "      fill: #D2E3FC;\n",
              "    }\n",
              "\n",
              "    [theme=dark] .colab-df-convert:hover {\n",
              "      background-color: #434B5C;\n",
              "      box-shadow: 0px 1px 3px 1px rgba(0, 0, 0, 0.15);\n",
              "      filter: drop-shadow(0px 1px 2px rgba(0, 0, 0, 0.3));\n",
              "      fill: #FFFFFF;\n",
              "    }\n",
              "  </style>\n",
              "\n",
              "      <script>\n",
              "        const buttonEl =\n",
              "          document.querySelector('#df-6fd3823d-e3b8-4e1d-b2a2-7753fbda7aae button.colab-df-convert');\n",
              "        buttonEl.style.display =\n",
              "          google.colab.kernel.accessAllowed ? 'block' : 'none';\n",
              "\n",
              "        async function convertToInteractive(key) {\n",
              "          const element = document.querySelector('#df-6fd3823d-e3b8-4e1d-b2a2-7753fbda7aae');\n",
              "          const dataTable =\n",
              "            await google.colab.kernel.invokeFunction('convertToInteractive',\n",
              "                                                     [key], {});\n",
              "          if (!dataTable) return;\n",
              "\n",
              "          const docLinkHtml = 'Like what you see? Visit the ' +\n",
              "            '<a target=\"_blank\" href=https://colab.research.google.com/notebooks/data_table.ipynb>data table notebook</a>'\n",
              "            + ' to learn more about interactive tables.';\n",
              "          element.innerHTML = '';\n",
              "          dataTable['output_type'] = 'display_data';\n",
              "          await google.colab.output.renderOutput(dataTable, element);\n",
              "          const docLink = document.createElement('div');\n",
              "          docLink.innerHTML = docLinkHtml;\n",
              "          element.appendChild(docLink);\n",
              "        }\n",
              "      </script>\n",
              "    </div>\n",
              "  </div>\n",
              "  "
            ]
          },
          "metadata": {},
          "execution_count": 45
        }
      ]
    },
    {
      "cell_type": "code",
      "execution_count": null,
      "metadata": {
        "id": "Yihoi7JE_1oS",
        "colab": {
          "base_uri": "https://localhost:8080/"
        },
        "outputId": "79913840-132f-4e02-e492-8961311978dc"
      },
      "outputs": [
        {
          "output_type": "execute_result",
          "data": {
            "text/plain": [
              "0.0    7127\n",
              "1.0    3318\n",
              "Name: Cumple, dtype: int64"
            ]
          },
          "metadata": {},
          "execution_count": 46
        }
      ],
      "source": [
        "pd.value_counts(data_num['Cumple'], sort = True)  "
      ]
    },
    {
      "cell_type": "markdown",
      "metadata": {
        "id": "gYHGHyZX8UkT"
      },
      "source": [
        "**SMOTE BALANCE DE DATOS**"
      ]
    },
    {
      "cell_type": "markdown",
      "metadata": {
        "id": "VADc2qOdB9HE"
      },
      "source": [
        "Debemos hacer Balance de datos antes de sacar los datos de entrenamiento "
      ]
    },
    {
      "cell_type": "markdown",
      "metadata": {
        "id": "cIE_R86XC1vT"
      },
      "source": [
        "SMOTE (técnica de sobremuestreo de minorías sintéticas) es uno de los métodos de sobremuestreo más utilizados para resolver el problema del desequilibrio.\n",
        "Su objetivo es equilibrar la distribución de clases aumentando aleatoriamente los ejemplos de clases minoritarias al replicarlos.\n",
        "SMOTE sintetiza nuevas instancias minoritarias entre instancias minoritarias existentes. Genera los registros de entrenamiento virtual por interpolación lineal para la clase minoritaria. Estos registros de entrenamiento sintéticos se generan seleccionando aleatoriamente uno o más de los k-vecinos más cercanos para cada ejemplo en la clase minoritaria. Después del proceso de sobremuestreo, los datos se reconstruyen y se pueden aplicar varios modelos de clasificación para los datos procesados.\n",
        "\n",
        "ML. (2019, junio 28). GeeksforGeeks. https://www.geeksforgeeks.org/ml-handling-imbalanced-data-with-smote-and-near-miss-algorithm-in-python/\n"
      ]
    },
    {
      "cell_type": "markdown",
      "source": [
        "En los datos podemos ver como tenemos 7127 registros de incumplimientoy tan solo 3318 que, si cumplen, antes de empezar a entrenar los modelos vamos a realizar las tecnicas que corrijan el desbalanceo de los datos\n"
      ],
      "metadata": {
        "id": "c1lagsrW_6qA"
      }
    },
    {
      "cell_type": "code",
      "execution_count": null,
      "metadata": {
        "id": "KbjNQ6TNDKTS"
      },
      "outputs": [],
      "source": [
        "y = data_num['Cumple']\n",
        "X = data_num.drop('Cumple', axis=1)\n",
        "X_train, X_test, y_train, y_test = train_test_split(X, y, train_size=0.7)\n"
      ]
    },
    {
      "cell_type": "code",
      "execution_count": null,
      "metadata": {
        "id": "TZZK5YXsmZlQ",
        "colab": {
          "base_uri": "https://localhost:8080/"
        },
        "outputId": "00c470e9-9468-4ced-99c5-eeddb32f51e3"
      },
      "outputs": [
        {
          "output_type": "stream",
          "name": "stdout",
          "text": [
            "Antes del sobremuestreo, recuentos de etiquetas '1': 2319\n",
            "Antes del sobremuestreo, recuentos de etiquetas '0': 4992 \n",
            "\n"
          ]
        }
      ],
      "source": [
        "print(\"Antes del sobremuestreo, recuentos de etiquetas '1': {}\".format(sum(y_train == 1))) \n",
        "print(\"Antes del sobremuestreo, recuentos de etiquetas '0': {} \\n\".format(sum(y_train == 0))) "
      ]
    },
    {
      "cell_type": "code",
      "execution_count": null,
      "metadata": {
        "id": "GoV6KuafDgRF"
      },
      "outputs": [],
      "source": [
        "from imblearn.over_sampling import SMOTENC\n",
        "sm = SMOTENC(random_state=42, categorical_features=[0]) \n",
        "X_train_res, y_train_res = sm.fit_resample(X_train, y_train.ravel())"
      ]
    },
    {
      "cell_type": "code",
      "execution_count": null,
      "metadata": {
        "id": "VorVl2BdmeOK",
        "colab": {
          "base_uri": "https://localhost:8080/"
        },
        "outputId": "cd0036f2-ec8f-4b86-9fb7-6436ff438bb6"
      },
      "outputs": [
        {
          "output_type": "stream",
          "name": "stdout",
          "text": [
            "Después de OverSampling, la forma de train_X: (9984, 32)\n",
            "Después de OverSampling, la forma de train_y: (9984,) \n",
            "\n",
            "Después de OverSampling, cuentas de la etiqueta '1': 4992\n",
            "Después de OverSampling, cuentas de etiqueta '0': 4992\n"
          ]
        }
      ],
      "source": [
        "print('Después de OverSampling, la forma de train_X: {}'.format(X_train_res.shape)) \n",
        "print('Después de OverSampling, la forma de train_y: {} \\n'.format(y_train_res.shape)) \n",
        "\n",
        "print(\"Después de OverSampling, cuentas de la etiqueta '1': {}\".format(sum(y_train_res == 1))) \n",
        "print(\"Después de OverSampling, cuentas de etiqueta '0': {}\".format(sum(y_train_res == 0))) "
      ]
    },
    {
      "cell_type": "code",
      "execution_count": null,
      "metadata": {
        "id": "ym74ak-bnGKU"
      },
      "outputs": [],
      "source": [
        "X_train, X_test, y_train, y_test = train_test_split(X_train_res, y_train_res, train_size=0.7)"
      ]
    },
    {
      "cell_type": "markdown",
      "source": [
        "Con esta función se imprime la matrix de confusión de los modelos calculados"
      ],
      "metadata": {
        "id": "88Gp8hlISZPf"
      }
    },
    {
      "cell_type": "code",
      "execution_count": null,
      "metadata": {
        "id": "Bj2dQJl_Bl4P"
      },
      "outputs": [],
      "source": [
        "def mostrar_resultados(y_test, pred_y):\n",
        "    conf_matrix = confusion_matrix(y_test, pred_y)\n",
        "    plt.figure(figsize=(8, 8))\n",
        "    sns.heatmap(conf_matrix, xticklabels=LABELS, yticklabels=LABELS, annot=True, fmt=\"d\");\n",
        "    plt.title(\"Confusion matrix\")\n",
        "    plt.ylabel('True class')\n",
        "    plt.xlabel('Predicted class')\n",
        "    plt.show()\n",
        "    print (classification_report(y_test, pred_y))"
      ]
    },
    {
      "cell_type": "markdown",
      "source": [
        "**4.Modelos**"
      ],
      "metadata": {
        "id": "KEBjTNDVJzQv"
      }
    },
    {
      "cell_type": "markdown",
      "source": [
        "Vamos a utilizar 4 modelos para tratar de dar solución al problema"
      ],
      "metadata": {
        "id": "zJO7sbmvKPhF"
      }
    },
    {
      "cell_type": "markdown",
      "metadata": {
        "id": "W_yAdogTB3iR"
      },
      "source": [
        "## Ejecutamos Modelo Regresión Logistica "
      ]
    },
    {
      "cell_type": "code",
      "source": [
        "# Búsqueda de hiperparámetros Regresión logística\n",
        "from sklearn.datasets import make_blobs\n",
        "from sklearn.model_selection import RepeatedStratifiedKFold\n",
        "from sklearn.model_selection import GridSearchCV\n",
        "from sklearn.linear_model import LogisticRegression\n",
        "\n",
        "# Definir parámetros\n",
        "model = LogisticRegression()\n",
        "solvers = ['newton-cg', 'lbfgs', 'liblinear']\n",
        "penalty = ['l2']\n",
        "c_values = [100, 10, 1.0, 0.1, 0.01]\n",
        "\n",
        "grid = dict(solver=solvers,penalty=penalty,C=c_values)\n",
        "cv = RepeatedStratifiedKFold(n_splits=10, n_repeats=3, random_state=1)\n",
        "grid_search = GridSearchCV(estimator=model, param_grid=grid, n_jobs=-1, cv=cv, scoring='accuracy',error_score=0)\n",
        "LogisticRegresion = grid_search.fit(X_train, y_train)\n",
        "\n",
        "# Resultados\n",
        "print(\"El Mejor: %f Usuando %s\" % (LogisticRegresion.best_score_, LogisticRegresion.best_params_))\n",
        "means = LogisticRegresion.cv_results_['mean_test_score']\n",
        "stds = LogisticRegresion.cv_results_['std_test_score']\n",
        "params = LogisticRegresion.cv_results_['params']\n",
        "for mean, stdev, param in zip(means, stds, params):\n",
        "    print(\"%f (%f) Otros parametros: %r\" % (mean, stdev, param))"
      ],
      "metadata": {
        "id": "g2psEEofCbOl",
        "colab": {
          "base_uri": "https://localhost:8080/"
        },
        "outputId": "99ff0aa9-5eaa-4ebb-b986-e298ec7993ba"
      },
      "execution_count": null,
      "outputs": [
        {
          "output_type": "stream",
          "name": "stdout",
          "text": [
            "El Mejor: 0.831951 Usuando {'C': 100, 'penalty': 'l2', 'solver': 'newton-cg'}\n",
            "0.831951 (0.012370) Otros parametros: {'C': 100, 'penalty': 'l2', 'solver': 'newton-cg'}\n",
            "0.831855 (0.012492) Otros parametros: {'C': 100, 'penalty': 'l2', 'solver': 'lbfgs'}\n",
            "0.831951 (0.012370) Otros parametros: {'C': 100, 'penalty': 'l2', 'solver': 'liblinear'}\n",
            "0.831521 (0.012268) Otros parametros: {'C': 10, 'penalty': 'l2', 'solver': 'newton-cg'}\n",
            "0.831712 (0.012306) Otros parametros: {'C': 10, 'penalty': 'l2', 'solver': 'lbfgs'}\n",
            "0.831426 (0.012404) Otros parametros: {'C': 10, 'penalty': 'l2', 'solver': 'liblinear'}\n",
            "0.830042 (0.012547) Otros parametros: {'C': 1.0, 'penalty': 'l2', 'solver': 'newton-cg'}\n",
            "0.829994 (0.012393) Otros parametros: {'C': 1.0, 'penalty': 'l2', 'solver': 'lbfgs'}\n",
            "0.830090 (0.012547) Otros parametros: {'C': 1.0, 'penalty': 'l2', 'solver': 'liblinear'}\n",
            "0.826082 (0.013323) Otros parametros: {'C': 0.1, 'penalty': 'l2', 'solver': 'newton-cg'}\n",
            "0.826082 (0.013323) Otros parametros: {'C': 0.1, 'penalty': 'l2', 'solver': 'lbfgs'}\n",
            "0.826082 (0.013323) Otros parametros: {'C': 0.1, 'penalty': 'l2', 'solver': 'liblinear'}\n",
            "0.825987 (0.013328) Otros parametros: {'C': 0.01, 'penalty': 'l2', 'solver': 'newton-cg'}\n",
            "0.825987 (0.013328) Otros parametros: {'C': 0.01, 'penalty': 'l2', 'solver': 'lbfgs'}\n",
            "0.825987 (0.013328) Otros parametros: {'C': 0.01, 'penalty': 'l2', 'solver': 'liblinear'}\n"
          ]
        }
      ]
    },
    {
      "cell_type": "markdown",
      "metadata": {
        "id": "9X4CYTzaCAS0"
      },
      "source": [
        "Veamos como responde en el test set"
      ]
    },
    {
      "cell_type": "code",
      "execution_count": null,
      "metadata": {
        "id": "WeOVZ6jtB-_4",
        "colab": {
          "base_uri": "https://localhost:8080/",
          "height": 680
        },
        "outputId": "f0ccfaf5-751a-452a-a307-433100eadb95"
      },
      "outputs": [
        {
          "output_type": "display_data",
          "data": {
            "text/plain": [
              "<Figure size 576x576 with 2 Axes>"
            ],
            "image/png": "[encoded data removed]"
          },
          "metadata": {
            "needs_background": "light"
          }
        },
        {
          "output_type": "stream",
          "name": "stdout",
          "text": [
            "              precision    recall  f1-score   support\n",
            "\n",
            "         0.0       0.96      0.70      0.81      1542\n",
            "         1.0       0.76      0.97      0.85      1454\n",
            "\n",
            "    accuracy                           0.83      2996\n",
            "   macro avg       0.86      0.84      0.83      2996\n",
            "weighted avg       0.86      0.83      0.83      2996\n",
            "\n"
          ]
        }
      ],
      "source": [
        "LogisticRegresionpredic = LogisticRegresion.predict(X_test)\n",
        "mostrar_resultados(y_test, LogisticRegresionpredic)"
      ]
    },
    {
      "cell_type": "code",
      "execution_count": null,
      "metadata": {
        "id": "lbauAMtr7WF0",
        "colab": {
          "base_uri": "https://localhost:8080/"
        },
        "outputId": "1c26fc95-d1d0-495d-b421-205058fbaba0"
      },
      "outputs": [
        {
          "output_type": "stream",
          "name": "stdout",
          "text": [
            "0.8331108144192256\n"
          ]
        }
      ],
      "source": [
        "accuracy_LogisticRegresion = accuracy_score(LogisticRegresionpredic, y_test)\n",
        "print(accuracy_LogisticRegresion)"
      ]
    },
    {
      "cell_type": "code",
      "execution_count": null,
      "metadata": {
        "id": "xzOnFNI-8g1Q",
        "colab": {
          "base_uri": "https://localhost:8080/"
        },
        "outputId": "4c485a02-7b66-4ccb-8051-029341ed2cdd"
      },
      "outputs": [
        {
          "output_type": "stream",
          "name": "stdout",
          "text": [
            "0.8370094038182605\n"
          ]
        }
      ],
      "source": [
        "roc_value_LogisticRegresion = roc_auc_score(y_test, LogisticRegresionpredic)\n",
        "print(roc_value_LogisticRegresion)"
      ]
    },
    {
      "cell_type": "code",
      "source": [
        "from sklearn import svm, datasets\n",
        "from sklearn import metrics\n",
        "from sklearn.linear_model import LogisticRegression\n",
        "from sklearn.model_selection import train_test_split\n",
        "from sklearn.datasets import load_breast_cancer\n",
        "import matplotlib.pyplot as plt\n",
        "\n",
        "#fpr, tpr, _ = metrics.roc_curve(y_test, LogisticRegresionpredic)\n",
        "#auc = metrics.roc_auc_score(y_test, LogisticRegresionpredic)\n",
        "#plt.plot(fpr,tpr,label=\"data 1, auc=\"+str(auc))\n",
        "\n",
        "\n",
        "print(' Regresión Logistica ROC AUC=%.3f'% (roc_value_LogisticRegresion))\n",
        "fpr, tpr, _ = metrics.roc_curve(y_test, LogisticRegresionpredic)\n",
        "auc = metrics.roc_auc_score(y_test, LogisticRegresionpredic)\n",
        "plt.plot(fpr,tpr,label=\"Regresión Logistica, auc=\"+str(auc))\n",
        "plt.xlabel('Tasa de Falsos Positivos')\n",
        "plt.ylabel('Tasa de Verdaderos Positivos')\n",
        "\n",
        "\n",
        "\n",
        "\n",
        "\n",
        "plt.legend(loc=4)\n",
        "plt.show()"
      ],
      "metadata": {
        "colab": {
          "base_uri": "https://localhost:8080/",
          "height": 297
        },
        "id": "U4_YgYXXLHG_",
        "outputId": "abeba3f2-e81a-4dd6-c0ce-5294ab024d8b"
      },
      "execution_count": null,
      "outputs": [
        {
          "output_type": "stream",
          "name": "stdout",
          "text": [
            " Regresión Logistica ROC AUC=0.837\n"
          ]
        },
        {
          "output_type": "display_data",
          "data": {
            "text/plain": [
              "<Figure size 432x288 with 1 Axes>"
            ],
            "image/png": "[encoded data removed]"
          },
          "metadata": {
            "needs_background": "light"
          }
        }
      ]
    },
    {
      "cell_type": "code",
      "execution_count": null,
      "metadata": {
        "id": "f-O_TPdFFKSI",
        "colab": {
          "base_uri": "https://localhost:8080/"
        },
        "outputId": "17ec2a7b-211b-4564-904e-4a87ed57d859"
      },
      "outputs": [
        {
          "output_type": "execute_result",
          "data": {
            "text/plain": [
              "0.8305995301047815"
            ]
          },
          "metadata": {},
          "execution_count": 58
        }
      ],
      "source": [
        "f1_score_value_LogisticRegresion = f1_score(y_test, LogisticRegresionpredic, average='weighted')\n",
        "f1_score_value_LogisticRegresion"
      ]
    },
    {
      "cell_type": "markdown",
      "metadata": {
        "id": "WqWPLmjRCeao"
      },
      "source": [
        "# Ejecutamos Modelo Random Forest"
      ]
    },
    {
      "cell_type": "code",
      "execution_count": null,
      "metadata": {
        "id": "87ijOU9zLvg6",
        "colab": {
          "base_uri": "https://localhost:8080/",
          "height": 1000
        },
        "outputId": "52158c37-4230-4d8f-c6f6-13a8c2ca3cbf"
      },
      "outputs": [
        {
          "output_type": "stream",
          "name": "stdout",
          "text": [
            "RandomForest_model: {'criterion': 'gini', 'max_depth': None, 'max_features': 5, 'n_estimators': 100} ✓\n",
            "RandomForest_model: {'criterion': 'gini', 'max_depth': None, 'max_features': 5, 'n_estimators': 150} ✓\n",
            "RandomForest_model: {'criterion': 'gini', 'max_depth': None, 'max_features': 5, 'n_estimators': 200} ✓\n",
            "RandomForest_model: {'criterion': 'gini', 'max_depth': None, 'max_features': 7, 'n_estimators': 100} ✓\n",
            "RandomForest_model: {'criterion': 'gini', 'max_depth': None, 'max_features': 7, 'n_estimators': 150} ✓\n",
            "RandomForest_model: {'criterion': 'gini', 'max_depth': None, 'max_features': 7, 'n_estimators': 200} ✓\n",
            "RandomForest_model: {'criterion': 'gini', 'max_depth': None, 'max_features': 9, 'n_estimators': 100} ✓\n",
            "RandomForest_model: {'criterion': 'gini', 'max_depth': None, 'max_features': 9, 'n_estimators': 150} ✓\n",
            "RandomForest_model: {'criterion': 'gini', 'max_depth': None, 'max_features': 9, 'n_estimators': 200} ✓\n",
            "RandomForest_model: {'criterion': 'gini', 'max_depth': 3, 'max_features': 5, 'n_estimators': 100} ✓\n",
            "RandomForest_model: {'criterion': 'gini', 'max_depth': 3, 'max_features': 5, 'n_estimators': 150} ✓\n",
            "RandomForest_model: {'criterion': 'gini', 'max_depth': 3, 'max_features': 5, 'n_estimators': 200} ✓\n",
            "RandomForest_model: {'criterion': 'gini', 'max_depth': 3, 'max_features': 7, 'n_estimators': 100} ✓\n",
            "RandomForest_model: {'criterion': 'gini', 'max_depth': 3, 'max_features': 7, 'n_estimators': 150} ✓\n",
            "RandomForest_model: {'criterion': 'gini', 'max_depth': 3, 'max_features': 7, 'n_estimators': 200} ✓\n",
            "RandomForest_model: {'criterion': 'gini', 'max_depth': 3, 'max_features': 9, 'n_estimators': 100} ✓\n",
            "RandomForest_model: {'criterion': 'gini', 'max_depth': 3, 'max_features': 9, 'n_estimators': 150} ✓\n",
            "RandomForest_model: {'criterion': 'gini', 'max_depth': 3, 'max_features': 9, 'n_estimators': 200} ✓\n",
            "RandomForest_model: {'criterion': 'gini', 'max_depth': 10, 'max_features': 5, 'n_estimators': 100} ✓\n",
            "RandomForest_model: {'criterion': 'gini', 'max_depth': 10, 'max_features': 5, 'n_estimators': 150} ✓\n",
            "RandomForest_model: {'criterion': 'gini', 'max_depth': 10, 'max_features': 5, 'n_estimators': 200} ✓\n",
            "RandomForest_model: {'criterion': 'gini', 'max_depth': 10, 'max_features': 7, 'n_estimators': 100} ✓\n",
            "RandomForest_model: {'criterion': 'gini', 'max_depth': 10, 'max_features': 7, 'n_estimators': 150} ✓\n",
            "RandomForest_model: {'criterion': 'gini', 'max_depth': 10, 'max_features': 7, 'n_estimators': 200} ✓\n",
            "RandomForest_model: {'criterion': 'gini', 'max_depth': 10, 'max_features': 9, 'n_estimators': 100} ✓\n",
            "RandomForest_model: {'criterion': 'gini', 'max_depth': 10, 'max_features': 9, 'n_estimators': 150} ✓\n",
            "RandomForest_model: {'criterion': 'gini', 'max_depth': 10, 'max_features': 9, 'n_estimators': 200} ✓\n",
            "RandomForest_model: {'criterion': 'gini', 'max_depth': 20, 'max_features': 5, 'n_estimators': 100} ✓\n",
            "RandomForest_model: {'criterion': 'gini', 'max_depth': 20, 'max_features': 5, 'n_estimators': 150} ✓\n",
            "RandomForest_model: {'criterion': 'gini', 'max_depth': 20, 'max_features': 5, 'n_estimators': 200} ✓\n",
            "RandomForest_model: {'criterion': 'gini', 'max_depth': 20, 'max_features': 7, 'n_estimators': 100} ✓\n",
            "RandomForest_model: {'criterion': 'gini', 'max_depth': 20, 'max_features': 7, 'n_estimators': 150} ✓\n",
            "RandomForest_model: {'criterion': 'gini', 'max_depth': 20, 'max_features': 7, 'n_estimators': 200} ✓\n",
            "RandomForest_model: {'criterion': 'gini', 'max_depth': 20, 'max_features': 9, 'n_estimators': 100} ✓\n",
            "RandomForest_model: {'criterion': 'gini', 'max_depth': 20, 'max_features': 9, 'n_estimators': 150} ✓\n",
            "RandomForest_model: {'criterion': 'gini', 'max_depth': 20, 'max_features': 9, 'n_estimators': 200} ✓\n",
            "RandomForest_model: {'criterion': 'entropy', 'max_depth': None, 'max_features': 5, 'n_estimators': 100} ✓\n",
            "RandomForest_model: {'criterion': 'entropy', 'max_depth': None, 'max_features': 5, 'n_estimators': 150} ✓\n",
            "RandomForest_model: {'criterion': 'entropy', 'max_depth': None, 'max_features': 5, 'n_estimators': 200} ✓\n",
            "RandomForest_model: {'criterion': 'entropy', 'max_depth': None, 'max_features': 7, 'n_estimators': 100} ✓\n",
            "RandomForest_model: {'criterion': 'entropy', 'max_depth': None, 'max_features': 7, 'n_estimators': 150} ✓\n",
            "RandomForest_model: {'criterion': 'entropy', 'max_depth': None, 'max_features': 7, 'n_estimators': 200} ✓\n",
            "RandomForest_model: {'criterion': 'entropy', 'max_depth': None, 'max_features': 9, 'n_estimators': 100} ✓\n",
            "RandomForest_model: {'criterion': 'entropy', 'max_depth': None, 'max_features': 9, 'n_estimators': 150} ✓\n",
            "RandomForest_model: {'criterion': 'entropy', 'max_depth': None, 'max_features': 9, 'n_estimators': 200} ✓\n",
            "RandomForest_model: {'criterion': 'entropy', 'max_depth': 3, 'max_features': 5, 'n_estimators': 100} ✓\n",
            "RandomForest_model: {'criterion': 'entropy', 'max_depth': 3, 'max_features': 5, 'n_estimators': 150} ✓\n",
            "RandomForest_model: {'criterion': 'entropy', 'max_depth': 3, 'max_features': 5, 'n_estimators': 200} ✓\n",
            "RandomForest_model: {'criterion': 'entropy', 'max_depth': 3, 'max_features': 7, 'n_estimators': 100} ✓\n",
            "RandomForest_model: {'criterion': 'entropy', 'max_depth': 3, 'max_features': 7, 'n_estimators': 150} ✓\n",
            "RandomForest_model: {'criterion': 'entropy', 'max_depth': 3, 'max_features': 7, 'n_estimators': 200} ✓\n",
            "RandomForest_model: {'criterion': 'entropy', 'max_depth': 3, 'max_features': 9, 'n_estimators': 100} ✓\n",
            "RandomForest_model: {'criterion': 'entropy', 'max_depth': 3, 'max_features': 9, 'n_estimators': 150} ✓\n",
            "RandomForest_model: {'criterion': 'entropy', 'max_depth': 3, 'max_features': 9, 'n_estimators': 200} ✓\n",
            "RandomForest_model: {'criterion': 'entropy', 'max_depth': 10, 'max_features': 5, 'n_estimators': 100} ✓\n",
            "RandomForest_model: {'criterion': 'entropy', 'max_depth': 10, 'max_features': 5, 'n_estimators': 150} ✓\n",
            "RandomForest_model: {'criterion': 'entropy', 'max_depth': 10, 'max_features': 5, 'n_estimators': 200} ✓\n",
            "RandomForest_model: {'criterion': 'entropy', 'max_depth': 10, 'max_features': 7, 'n_estimators': 100} ✓\n",
            "RandomForest_model: {'criterion': 'entropy', 'max_depth': 10, 'max_features': 7, 'n_estimators': 150} ✓\n",
            "RandomForest_model: {'criterion': 'entropy', 'max_depth': 10, 'max_features': 7, 'n_estimators': 200} ✓\n",
            "RandomForest_model: {'criterion': 'entropy', 'max_depth': 10, 'max_features': 9, 'n_estimators': 100} ✓\n",
            "RandomForest_model: {'criterion': 'entropy', 'max_depth': 10, 'max_features': 9, 'n_estimators': 150} ✓\n",
            "RandomForest_model: {'criterion': 'entropy', 'max_depth': 10, 'max_features': 9, 'n_estimators': 200} ✓\n",
            "RandomForest_model: {'criterion': 'entropy', 'max_depth': 20, 'max_features': 5, 'n_estimators': 100} ✓\n",
            "RandomForest_model: {'criterion': 'entropy', 'max_depth': 20, 'max_features': 5, 'n_estimators': 150} ✓\n",
            "RandomForest_model: {'criterion': 'entropy', 'max_depth': 20, 'max_features': 5, 'n_estimators': 200} ✓\n",
            "RandomForest_model: {'criterion': 'entropy', 'max_depth': 20, 'max_features': 7, 'n_estimators': 100} ✓\n",
            "RandomForest_model: {'criterion': 'entropy', 'max_depth': 20, 'max_features': 7, 'n_estimators': 150} ✓\n",
            "RandomForest_model: {'criterion': 'entropy', 'max_depth': 20, 'max_features': 7, 'n_estimators': 200} ✓\n",
            "RandomForest_model: {'criterion': 'entropy', 'max_depth': 20, 'max_features': 9, 'n_estimators': 100} ✓\n",
            "RandomForest_model: {'criterion': 'entropy', 'max_depth': 20, 'max_features': 9, 'n_estimators': 150} ✓\n",
            "RandomForest_model: {'criterion': 'entropy', 'max_depth': 20, 'max_features': 9, 'n_estimators': 200} ✓\n"
          ]
        },
        {
          "output_type": "execute_result",
          "data": {
            "text/plain": [
              "    oob_accuracy criterion  max_depth  max_features  n_estimators\n",
              "64      0.851746   entropy       20.0             5           150\n",
              "65      0.851603   entropy       20.0             5           200\n",
              "29      0.851173      gini       20.0             5           200\n",
              "63      0.850744   entropy       20.0             5           100"
            ],
            "text/html": [
              "\n",
              "  <div id=\"df-49fe9ddd-034a-40f4-bed0-8c52b87f9b2f\">\n",
              "    <div class=\"colab-df-container\">\n",
              "      <div>\n",
              "<style scoped>\n",
              "    .dataframe tbody tr th:only-of-type {\n",
              "        vertical-align: middle;\n",
              "    }\n",
              "\n",
              "    .dataframe tbody tr th {\n",
              "        vertical-align: top;\n",
              "    }\n",
              "\n",
              "    .dataframe thead th {\n",
              "        text-align: right;\n",
              "    }\n",
              "</style>\n",
              "<table border=\"1\" class=\"dataframe\">\n",
              "  <thead>\n",
              "    <tr style=\"text-align: right;\">\n",
              "      <th></th>\n",
              "      <th>oob_accuracy</th>\n",
              "      <th>criterion</th>\n",
              "      <th>max_depth</th>\n",
              "      <th>max_features</th>\n",
              "      <th>n_estimators</th>\n",
              "    </tr>\n",
              "  </thead>\n",
              "  <tbody>\n",
              "    <tr>\n",
              "      <th>64</th>\n",
              "      <td>0.851746</td>\n",
              "      <td>entropy</td>\n",
              "      <td>20.0</td>\n",
              "      <td>5</td>\n",
              "      <td>150</td>\n",
              "    </tr>\n",
              "    <tr>\n",
              "      <th>65</th>\n",
              "      <td>0.851603</td>\n",
              "      <td>entropy</td>\n",
              "      <td>20.0</td>\n",
              "      <td>5</td>\n",
              "      <td>200</td>\n",
              "    </tr>\n",
              "    <tr>\n",
              "      <th>29</th>\n",
              "      <td>0.851173</td>\n",
              "      <td>gini</td>\n",
              "      <td>20.0</td>\n",
              "      <td>5</td>\n",
              "      <td>200</td>\n",
              "    </tr>\n",
              "    <tr>\n",
              "      <th>63</th>\n",
              "      <td>0.850744</td>\n",
              "      <td>entropy</td>\n",
              "      <td>20.0</td>\n",
              "      <td>5</td>\n",
              "      <td>100</td>\n",
              "    </tr>\n",
              "  </tbody>\n",
              "</table>\n",
              "</div>\n",
              "      <button class=\"colab-df-convert\" onclick=\"convertToInteractive('df-49fe9ddd-034a-40f4-bed0-8c52b87f9b2f')\"\n",
              "              title=\"Convert this dataframe to an interactive table.\"\n",
              "              style=\"display:none;\">\n",
              "        \n",
              "  <svg xmlns=\"http://www.w3.org/2000/svg\" height=\"24px\"viewBox=\"0 0 24 24\"\n",
              "       width=\"24px\">\n",
              "    <path d=\"M0 0h24v24H0V0z\" fill=\"none\"/>\n",
              "    <path d=\"M18.56 5.44l.94 2.06.94-2.06 2.06-.94-2.06-.94-.94-2.06-.94 2.06-2.06.94zm-11 1L8.5 8.5l.94-2.06 2.06-.94-2.06-.94L8.5 2.5l-.94 2.06-2.06.94zm10 10l.94 2.06.94-2.06 2.06-.94-2.06-.94-.94-2.06-.94 2.06-2.06.94z\"/><path d=\"M17.41 7.96l-1.37-1.37c-.4-.4-.92-.59-1.43-.59-.52 0-1.04.2-1.43.59L10.3 9.45l-7.72 7.72c-.78.78-.78 2.05 0 2.83L4 21.41c.39.39.9.59 1.41.59.51 0 1.02-.2 1.41-.59l7.78-7.78 2.81-2.81c.8-.78.8-2.07 0-2.86zM5.41 20L4 18.59l7.72-7.72 1.47 1.35L5.41 20z\"/>\n",
              "  </svg>\n",
              "      </button>\n",
              "      \n",
              "  <style>\n",
              "    .colab-df-container {\n",
              "      display:flex;\n",
              "      flex-wrap:wrap;\n",
              "      gap: 12px;\n",
              "    }\n",
              "\n",
              "    .colab-df-convert {\n",
              "      background-color: #E8F0FE;\n",
              "      border: none;\n",
              "      border-radius: 50%;\n",
              "      cursor: pointer;\n",
              "      display: none;\n",
              "      fill: #1967D2;\n",
              "      height: 32px;\n",
              "      padding: 0 0 0 0;\n",
              "      width: 32px;\n",
              "    }\n",
              "\n",
              "    .colab-df-convert:hover {\n",
              "      background-color: #E2EBFA;\n",
              "      box-shadow: 0px 1px 2px rgba(60, 64, 67, 0.3), 0px 1px 3px 1px rgba(60, 64, 67, 0.15);\n",
              "      fill: #174EA6;\n",
              "    }\n",
              "\n",
              "    [theme=dark] .colab-df-convert {\n",
              "      background-color: #3B4455;\n",
              "      fill: #D2E3FC;\n",
              "    }\n",
              "\n",
              "    [theme=dark] .colab-df-convert:hover {\n",
              "      background-color: #434B5C;\n",
              "      box-shadow: 0px 1px 3px 1px rgba(0, 0, 0, 0.15);\n",
              "      filter: drop-shadow(0px 1px 2px rgba(0, 0, 0, 0.3));\n",
              "      fill: #FFFFFF;\n",
              "    }\n",
              "  </style>\n",
              "\n",
              "      <script>\n",
              "        const buttonEl =\n",
              "          document.querySelector('#df-49fe9ddd-034a-40f4-bed0-8c52b87f9b2f button.colab-df-convert');\n",
              "        buttonEl.style.display =\n",
              "          google.colab.kernel.accessAllowed ? 'block' : 'none';\n",
              "\n",
              "        async function convertToInteractive(key) {\n",
              "          const element = document.querySelector('#df-49fe9ddd-034a-40f4-bed0-8c52b87f9b2f');\n",
              "          const dataTable =\n",
              "            await google.colab.kernel.invokeFunction('convertToInteractive',\n",
              "                                                     [key], {});\n",
              "          if (!dataTable) return;\n",
              "\n",
              "          const docLinkHtml = 'Like what you see? Visit the ' +\n",
              "            '<a target=\"_blank\" href=https://colab.research.google.com/notebooks/data_table.ipynb>data table notebook</a>'\n",
              "            + ' to learn more about interactive tables.';\n",
              "          element.innerHTML = '';\n",
              "          dataTable['output_type'] = 'display_data';\n",
              "          await google.colab.output.renderOutput(dataTable, element);\n",
              "          const docLink = document.createElement('div');\n",
              "          docLink.innerHTML = docLinkHtml;\n",
              "          element.appendChild(docLink);\n",
              "        }\n",
              "      </script>\n",
              "    </div>\n",
              "  </div>\n",
              "  "
            ]
          },
          "metadata": {},
          "execution_count": 59
        }
      ],
      "source": [
        "from sklearn.model_selection import ParameterGrid\n",
        "from sklearn.ensemble import RandomForestClassifier\n",
        "\n",
        "param_grid = ParameterGrid(\n",
        "                {'n_estimators': [100, 150,200],\n",
        "               'max_features': [5, 7, 9],\n",
        "                # 'max_features':  'sqrt',\n",
        "                #  'bootstrap': True,\n",
        "                #  'verbose':2,                 \n",
        "                 'max_depth'   : [None, 3, 10, 20],\n",
        "                 'criterion'   : ['gini', 'entropy']\n",
        "                }\n",
        "            )\n",
        "\n",
        "# Loop para ajustar un modelo con cada combinación de hiperparámetros\n",
        "# ==============================================================================\n",
        "resultados = {'params': [], 'oob_accuracy': []}\n",
        "\n",
        "for params in param_grid:\n",
        "    \n",
        "    RandomForest_model = RandomForestClassifier(\n",
        "                oob_score    = True,\n",
        "                n_jobs       = -1,\n",
        "                random_state = 123,               \n",
        "                # max_features = 'sqrt',\n",
        "                ** params\n",
        "             )\n",
        "    \n",
        "    RandomForest_model.fit(X_train, y_train)\n",
        "    \n",
        "    resultados['params'].append(params)\n",
        "    resultados['oob_accuracy'].append(RandomForest_model.oob_score_)\n",
        "    print(f\"RandomForest_model: {params} \\u2713\")\n",
        "\n",
        "# Resultados\n",
        "# ==============================================================================\n",
        "resultados = pd.DataFrame(resultados)\n",
        "resultados = pd.concat([resultados, resultados['params'].apply(pd.Series)], axis=1)\n",
        "resultados = resultados.sort_values('oob_accuracy', ascending=False)\n",
        "resultados = resultados.drop(columns = 'params')\n",
        "resultados.head(4)\n"
      ]
    },
    {
      "cell_type": "code",
      "execution_count": null,
      "metadata": {
        "id": "cKKQwYY-9Yet",
        "colab": {
          "base_uri": "https://localhost:8080/"
        },
        "outputId": "cf5c9c90-205d-411e-c222-7e667724f2fa"
      },
      "outputs": [
        {
          "output_type": "stream",
          "name": "stdout",
          "text": [
            "0.8457943925233645\n"
          ]
        }
      ],
      "source": [
        "RandomForest_prediction = RandomForest_model.predict(X_test)\n",
        "\n",
        "accuracy_RandomForest = accuracy_score(RandomForest_prediction, y_test)\n",
        "print(accuracy_RandomForest)\n",
        "\n"
      ]
    },
    {
      "cell_type": "code",
      "execution_count": null,
      "metadata": {
        "id": "WVb3VkZw94av",
        "colab": {
          "base_uri": "https://localhost:8080/"
        },
        "outputId": "70ad2573-80ec-4886-db9d-07d276879a2e"
      },
      "outputs": [
        {
          "output_type": "execute_result",
          "data": {
            "text/plain": [
              "0.8485853239063221"
            ]
          },
          "metadata": {},
          "execution_count": 61
        }
      ],
      "source": [
        "roc_value_RandomForest= roc_auc_score(y_test, RandomForest_prediction)\n",
        "roc_value_RandomForest"
      ]
    },
    {
      "cell_type": "code",
      "source": [
        "print('Random Forest: ROC AUC=%.3f'% (roc_value_RandomForest))\n",
        "fpr, tpr, _ = metrics.roc_curve(y_test, RandomForest_prediction)\n",
        "auc = roc_auc_score(y_test, RandomForest_prediction)\n",
        "plt.plot(fpr,tpr,label=\"RandomForest_prediction, auc=\"+str(auc))\n",
        "plt.xlabel('Tasa de Falsos Positivos')\n",
        "plt.ylabel('Tasa de Verdaderos Positivos')\n",
        "\n",
        "plt.legend(loc=4)\n",
        "plt.show()"
      ],
      "metadata": {
        "colab": {
          "base_uri": "https://localhost:8080/",
          "height": 297
        },
        "id": "AfQVNjPXMtcb",
        "outputId": "0c213767-f0c1-4e4a-bece-5123f1eb408d"
      },
      "execution_count": null,
      "outputs": [
        {
          "output_type": "stream",
          "name": "stdout",
          "text": [
            "Random Forest: ROC AUC=0.849\n"
          ]
        },
        {
          "output_type": "display_data",
          "data": {
            "text/plain": [
              "<Figure size 432x288 with 1 Axes>"
            ],
            "image/png": "[encoded data removed]"
          },
          "metadata": {
            "needs_background": "light"
          }
        }
      ]
    },
    {
      "cell_type": "code",
      "execution_count": null,
      "metadata": {
        "id": "jWh2JqQ2FZnf",
        "colab": {
          "base_uri": "https://localhost:8080/"
        },
        "outputId": "0fcf301b-b03d-45a4-8070-ba6c2ad0c62f"
      },
      "outputs": [
        {
          "output_type": "execute_result",
          "data": {
            "text/plain": [
              "0.8447139763040574"
            ]
          },
          "metadata": {},
          "execution_count": 63
        }
      ],
      "source": [
        "f1_score_value_LogisticRegresion = f1_score(y_test, RandomForest_prediction, average='weighted')\n",
        "f1_score_value_LogisticRegresion"
      ]
    },
    {
      "cell_type": "code",
      "source": [
        "RandomForest_prediction = RandomForest_model.predict(X_test)\n",
        "mostrar_resultados(y_test, RandomForest_prediction)"
      ],
      "metadata": {
        "id": "Eex2c-BLMQbz",
        "colab": {
          "base_uri": "https://localhost:8080/",
          "height": 680
        },
        "outputId": "294843a0-49f5-4f8b-9fd1-5a6b4e28948a"
      },
      "execution_count": null,
      "outputs": [
        {
          "output_type": "display_data",
          "data": {
            "text/plain": [
              "<Figure size 576x576 with 2 Axes>"
            ],
            "image/png": "[encoded data removed]"
          },
          "metadata": {
            "needs_background": "light"
          }
        },
        {
          "output_type": "stream",
          "name": "stdout",
          "text": [
            "              precision    recall  f1-score   support\n",
            "\n",
            "         0.0       0.93      0.75      0.83      1542\n",
            "         1.0       0.78      0.94      0.86      1454\n",
            "\n",
            "    accuracy                           0.85      2996\n",
            "   macro avg       0.86      0.85      0.85      2996\n",
            "weighted avg       0.86      0.85      0.84      2996\n",
            "\n"
          ]
        }
      ]
    },
    {
      "cell_type": "markdown",
      "metadata": {
        "id": "jwtEM84pGLry"
      },
      "source": [
        "## **Naive Bayes**"
      ]
    },
    {
      "cell_type": "code",
      "execution_count": null,
      "metadata": {
        "id": "vxNwuciyJti0",
        "colab": {
          "base_uri": "https://localhost:8080/"
        },
        "outputId": "c4dad4c5-8518-4591-9de0-263db010441e"
      },
      "outputs": [
        {
          "output_type": "execute_result",
          "data": {
            "text/plain": [
              "GaussianNB()"
            ]
          },
          "metadata": {},
          "execution_count": 65
        }
      ],
      "source": [
        "from sklearn.naive_bayes import GaussianNB\n",
        "\n",
        "\n",
        "# instantiate the model\n",
        "gnb = GaussianNB()\n",
        "# fit the model\n",
        "gnb.fit(X_train, y_train)"
      ]
    },
    {
      "cell_type": "code",
      "execution_count": null,
      "metadata": {
        "id": "G3DiyVTmKiQG",
        "colab": {
          "base_uri": "https://localhost:8080/"
        },
        "outputId": "41ca6e05-b136-4a8b-df4c-c9de32117078"
      },
      "outputs": [
        {
          "output_type": "stream",
          "name": "stdout",
          "text": [
            "0.8167556742323098\n"
          ]
        }
      ],
      "source": [
        "gnb_prediction = gnb.predict(X_test)\n",
        "gnb_prediction\n",
        "print(accuracy_score(gnb_prediction, y_test))"
      ]
    },
    {
      "cell_type": "code",
      "execution_count": null,
      "metadata": {
        "id": "WPz8WWCXBTo7",
        "colab": {
          "base_uri": "https://localhost:8080/"
        },
        "outputId": "950e1e5e-41f9-4540-bf49-e18f09a40b26"
      },
      "outputs": [
        {
          "output_type": "execute_result",
          "data": {
            "text/plain": [
              "0.8210816977897192"
            ]
          },
          "metadata": {},
          "execution_count": 67
        }
      ],
      "source": [
        "roc_value_gnb = roc_auc_score(y_test, gnb_prediction)\n",
        "roc_value_gnb"
      ]
    },
    {
      "cell_type": "code",
      "source": [
        "print('Naive Bayes: ROC AUC=%.3f'% (roc_value_gnb))\n",
        "fpr, tpr, _ = metrics.roc_curve(y_test, gnb_prediction)\n",
        "auc = roc_auc_score(y_test, gnb_prediction)\n",
        "plt.plot(fpr,tpr,label=\"gnb_prediction, auc=\"+str(auc))\n",
        "plt.xlabel('Tasa de Falsos Positivos')\n",
        "plt.ylabel('Tasa de Verdaderos Positivos')\n",
        "plt.legend(loc=4)\n",
        "plt.show()"
      ],
      "metadata": {
        "colab": {
          "base_uri": "https://localhost:8080/",
          "height": 297
        },
        "id": "-AlddiYmM5WM",
        "outputId": "e955f8fb-363d-4e88-ffe9-1c924121a7d5"
      },
      "execution_count": null,
      "outputs": [
        {
          "output_type": "stream",
          "name": "stdout",
          "text": [
            "Naive Bayes: ROC AUC=0.821\n"
          ]
        },
        {
          "output_type": "display_data",
          "data": {
            "text/plain": [
              "<Figure size 432x288 with 1 Axes>"
            ],
            "image/png": "[encoded data removed]"
          },
          "metadata": {
            "needs_background": "light"
          }
        }
      ]
    },
    {
      "cell_type": "code",
      "execution_count": null,
      "metadata": {
        "id": "iS7F7Hz0G6Q-",
        "colab": {
          "base_uri": "https://localhost:8080/"
        },
        "outputId": "39f6665a-c890-488f-cebc-e288d4d0656b"
      },
      "outputs": [
        {
          "output_type": "execute_result",
          "data": {
            "text/plain": [
              "0.8132600240901771"
            ]
          },
          "metadata": {},
          "execution_count": 69
        }
      ],
      "source": [
        "f1_score_value_gnb = f1_score(y_test, gnb_prediction, average='weighted')\n",
        "f1_score_value_gnb"
      ]
    },
    {
      "cell_type": "code",
      "source": [
        "mostrar_resultados(y_test, gnb_prediction )"
      ],
      "metadata": {
        "id": "WlY00fGFOFvl",
        "colab": {
          "base_uri": "https://localhost:8080/",
          "height": 680
        },
        "outputId": "1f683254-7525-4f41-c321-2109d1e30125"
      },
      "execution_count": null,
      "outputs": [
        {
          "output_type": "display_data",
          "data": {
            "text/plain": [
              "<Figure size 576x576 with 2 Axes>"
            ],
            "image/png": "[encoded data removed]"
          },
          "metadata": {
            "needs_background": "light"
          }
        },
        {
          "output_type": "stream",
          "name": "stdout",
          "text": [
            "              precision    recall  f1-score   support\n",
            "\n",
            "         0.0       0.96      0.67      0.79      1542\n",
            "         1.0       0.74      0.97      0.84      1454\n",
            "\n",
            "    accuracy                           0.82      2996\n",
            "   macro avg       0.85      0.82      0.81      2996\n",
            "weighted avg       0.85      0.82      0.81      2996\n",
            "\n"
          ]
        }
      ]
    },
    {
      "cell_type": "markdown",
      "metadata": {
        "id": "wWYyo1GVPvEV"
      },
      "source": [
        "## Máquinas de soporte de vectores"
      ]
    },
    {
      "cell_type": "code",
      "source": [
        "# Búsqueda de hiperparámetros para SVC\n",
        "from sklearn.datasets import make_blobs\n",
        "from sklearn.model_selection import RepeatedStratifiedKFold\n",
        "from sklearn.model_selection import GridSearchCV\n",
        "from sklearn.svm import SVC\n",
        "\n",
        "model = SVC()\n",
        "kernel = ['poly', 'rbf', 'sigmoid']\n",
        "C = [50, 10, 1.0, 0.1, 0.01]\n",
        "gamma = ['scale']\n",
        "# define grid search\n",
        "grid = dict(kernel=kernel,C=C,gamma=gamma)\n",
        "cv = RepeatedStratifiedKFold(n_splits=10, n_repeats=3, random_state=1)\n",
        "grid_search = GridSearchCV(estimator=model, param_grid=grid, n_jobs=-1, cv=cv, scoring='accuracy',error_score=0)\n",
        "svc_model = grid_search.fit(X_train, y_train)\n",
        "# summarize results\n",
        "print(\"El Mejor: %f Usando %s\" % (svc_model.best_score_, svc_model.best_params_))\n",
        "means = svc_model.cv_results_['mean_test_score']\n",
        "stds = svc_model.cv_results_['std_test_score']\n",
        "params = svc_model.cv_results_['params']\n",
        "for mean, stdev, param in zip(means, stds, params):\n",
        "    print(\"%f (%f) Otros parametros: %r\" % (mean, stdev, param))"
      ],
      "metadata": {
        "id": "S-V8zeeb1gl6",
        "colab": {
          "base_uri": "https://localhost:8080/"
        },
        "outputId": "8b22465a-bd8d-49e3-d2c7-ac05c4673d90"
      },
      "execution_count": null,
      "outputs": [
        {
          "output_type": "stream",
          "name": "stdout",
          "text": [
            "El Mejor: 0.834716 Usando {'C': 50, 'gamma': 'scale', 'kernel': 'rbf'}\n",
            "0.833954 (0.012733) Otros parametros: {'C': 50, 'gamma': 'scale', 'kernel': 'poly'}\n",
            "0.834716 (0.011966) Otros parametros: {'C': 50, 'gamma': 'scale', 'kernel': 'rbf'}\n",
            "0.524713 (0.064063) Otros parametros: {'C': 50, 'gamma': 'scale', 'kernel': 'sigmoid'}\n",
            "0.831759 (0.012748) Otros parametros: {'C': 10, 'gamma': 'scale', 'kernel': 'poly'}\n",
            "0.830472 (0.012313) Otros parametros: {'C': 10, 'gamma': 'scale', 'kernel': 'rbf'}\n",
            "0.568979 (0.057941) Otros parametros: {'C': 10, 'gamma': 'scale', 'kernel': 'sigmoid'}\n",
            "0.825987 (0.012869) Otros parametros: {'C': 1.0, 'gamma': 'scale', 'kernel': 'poly'}\n",
            "0.826750 (0.013309) Otros parametros: {'C': 1.0, 'gamma': 'scale', 'kernel': 'rbf'}\n",
            "0.595786 (0.057621) Otros parametros: {'C': 1.0, 'gamma': 'scale', 'kernel': 'sigmoid'}\n",
            "0.825081 (0.012779) Otros parametros: {'C': 0.1, 'gamma': 'scale', 'kernel': 'poly'}\n",
            "0.824795 (0.012782) Otros parametros: {'C': 0.1, 'gamma': 'scale', 'kernel': 'rbf'}\n",
            "0.609381 (0.061087) Otros parametros: {'C': 0.1, 'gamma': 'scale', 'kernel': 'sigmoid'}\n",
            "0.787206 (0.012439) Otros parametros: {'C': 0.01, 'gamma': 'scale', 'kernel': 'poly'}\n",
            "0.824842 (0.012769) Otros parametros: {'C': 0.01, 'gamma': 'scale', 'kernel': 'rbf'}\n",
            "0.582189 (0.013099) Otros parametros: {'C': 0.01, 'gamma': 'scale', 'kernel': 'sigmoid'}\n"
          ]
        }
      ]
    },
    {
      "cell_type": "code",
      "execution_count": null,
      "metadata": {
        "id": "GfujRiBnSDR8",
        "colab": {
          "base_uri": "https://localhost:8080/"
        },
        "outputId": "22df8787-6bac-4123-a3ed-24b41547d803"
      },
      "outputs": [
        {
          "output_type": "stream",
          "name": "stdout",
          "text": [
            "0.835781041388518\n"
          ]
        }
      ],
      "source": [
        "SVC_prediction = svc_model.predict(X_test) \n",
        "print(accuracy_score(SVC_prediction , y_test))"
      ]
    },
    {
      "cell_type": "code",
      "execution_count": null,
      "metadata": {
        "id": "CrpwLGyVDM6W",
        "colab": {
          "base_uri": "https://localhost:8080/"
        },
        "outputId": "c971abec-4785-4dd3-8848-9015ac5998b0"
      },
      "outputs": [
        {
          "output_type": "execute_result",
          "data": {
            "text/plain": [
              "0.83948568910488"
            ]
          },
          "metadata": {},
          "execution_count": 73
        }
      ],
      "source": [
        "roc_value_SVC= roc_auc_score(y_test, SVC_prediction)\n",
        "roc_value_SVC"
      ]
    },
    {
      "cell_type": "code",
      "source": [
        "print('Maquina de soporte de Vectores: ROC AUC=%.3f'% (roc_value_SVC))\n",
        "fpr, tpr, _ = metrics.roc_curve(y_test, SVC_prediction)\n",
        "auc = metrics.roc_curve(y_test, SVC_prediction)\n",
        "plt.plot(fpr,tpr,label=\"SVC, auc=\"+str(auc))\n",
        "plt.xlabel('Tasa de Falsos Positivos')\n",
        "plt.ylabel('Tasa de Verdaderos Positivos')\n",
        "plt.legend(loc=4)\n",
        "plt.show()"
      ],
      "metadata": {
        "colab": {
          "base_uri": "https://localhost:8080/",
          "height": 297
        },
        "id": "oh2PJPr0NKvE",
        "outputId": "124c6319-3b96-4b2d-fd51-5d7dbe0be373"
      },
      "execution_count": null,
      "outputs": [
        {
          "output_type": "stream",
          "name": "stdout",
          "text": [
            "Maquina de soporte de Vectores: ROC AUC=0.839\n"
          ]
        },
        {
          "output_type": "display_data",
          "data": {
            "text/plain": [
              "<Figure size 432x288 with 1 Axes>"
            ],
            "image/png": "[encoded data removed]"
          },
          "metadata": {
            "needs_background": "light"
          }
        }
      ]
    },
    {
      "cell_type": "code",
      "execution_count": null,
      "metadata": {
        "id": "uZ5-O5h6HBs7",
        "colab": {
          "base_uri": "https://localhost:8080/"
        },
        "outputId": "4f6a06ba-fdba-4c56-fdd4-9f1959a60ac0"
      },
      "outputs": [
        {
          "output_type": "execute_result",
          "data": {
            "text/plain": [
              "0.8335781456188062"
            ]
          },
          "metadata": {},
          "execution_count": 76
        }
      ],
      "source": [
        "f1_score_value_SVC = f1_score(y_test, SVC_prediction, average='weighted')\n",
        "f1_score_value_SVC"
      ]
    },
    {
      "cell_type": "code",
      "source": [
        "mostrar_resultados(y_test, SVC_prediction )"
      ],
      "metadata": {
        "id": "JS3VWYn7ORME",
        "colab": {
          "base_uri": "https://localhost:8080/",
          "height": 680
        },
        "outputId": "8babf3af-a251-4942-dab1-e766c2122676"
      },
      "execution_count": null,
      "outputs": [
        {
          "output_type": "display_data",
          "data": {
            "text/plain": [
              "<Figure size 576x576 with 2 Axes>"
            ],
            "image/png": "[encoded data removed]"
          },
          "metadata": {
            "needs_background": "light"
          }
        },
        {
          "output_type": "stream",
          "name": "stdout",
          "text": [
            "              precision    recall  f1-score   support\n",
            "\n",
            "         0.0       0.96      0.71      0.82      1542\n",
            "         1.0       0.76      0.97      0.85      1454\n",
            "\n",
            "    accuracy                           0.84      2996\n",
            "   macro avg       0.86      0.84      0.83      2996\n",
            "weighted avg       0.86      0.84      0.83      2996\n",
            "\n"
          ]
        }
      ]
    },
    {
      "cell_type": "code",
      "source": [
        "ListaModelos = [\"Regresión Logistica\",\"Random Forest\",\"Naive Bayes\",\"SVM\"]\n",
        "ListaValoresCurvaROC = [roc_value_LogisticRegresion,roc_value_RandomForest,roc_value_gnb,roc_value_SVC]\n",
        "ListaValoresF1 = [f1_score_value_LogisticRegresion,f1_score_value_LogisticRegresion,f1_score_value_LogisticRegresion,f1_score_value_gnb,f1_score_value_SVC]"
      ],
      "metadata": {
        "id": "gFIH9NAPUTeR"
      },
      "execution_count": null,
      "outputs": []
    },
    {
      "cell_type": "code",
      "source": [
        "for i, ListaModel in enumerate(ListaModelos):\n",
        "    Valores = ListaValoresCurvaROC[i]\n",
        "    ValoresF1 = ListaValoresF1[i]\n",
        "    print(f\"{ListaModel} ----- Valor ROC :{Valores} ------- Valor F1: {ValoresF1} \")"
      ],
      "metadata": {
        "id": "ghD3v3cCWfGl",
        "colab": {
          "base_uri": "https://localhost:8080/"
        },
        "outputId": "1ef95301-e84d-405e-8115-ec534763dc7e"
      },
      "execution_count": null,
      "outputs": [
        {
          "output_type": "stream",
          "name": "stdout",
          "text": [
            "Regresión Logistica ----- Valor ROC :0.8370094038182605 ------- Valor F1: 0.8447139763040574 \n",
            "Random Forest ----- Valor ROC :0.8485853239063221 ------- Valor F1: 0.8447139763040574 \n",
            "Naive Bayes ----- Valor ROC :0.8210816977897192 ------- Valor F1: 0.8447139763040574 \n",
            "SVM ----- Valor ROC :0.83948568910488 ------- Valor F1: 0.8132600240901771 \n"
          ]
        }
      ]
    },
    {
      "cell_type": "markdown",
      "source": [
        "Teniendo en cuenta el resultado obtenido en la Curva ROC y el F1 se toma como criterio para decir que el modelo Random Forest es el que mejor se adapta a nuestros datos, generando una mejor predicción"
      ],
      "metadata": {
        "id": "4azATH5jb5NP"
      }
    },
    {
      "cell_type": "code",
      "source": [
        "# evaluate random forest algorithm for classification\n",
        "from numpy import mean\n",
        "from numpy import std\n",
        "from sklearn.datasets import make_classification\n",
        "from sklearn.model_selection import cross_val_score\n",
        "from sklearn.model_selection import RepeatedStratifiedKFold\n",
        "from sklearn.ensemble import RandomForestClassifier\n",
        "\n",
        "model = RandomForestClassifier()\n",
        "# evaluate the model\n",
        "cv = RepeatedStratifiedKFold(n_splits=10, n_repeats=3, random_state=1)\n",
        "n_scores = cross_val_score(model, X_test, y_test, scoring='accuracy', cv=cv, n_jobs=-1, error_score='raise')\n",
        "# report performance\n",
        "print('Accuracy: %.3f (%.3f)' % (mean(n_scores), std(n_scores)))"
      ],
      "metadata": {
        "id": "09GBOcgu94Zw",
        "colab": {
          "base_uri": "https://localhost:8080/"
        },
        "outputId": "93b38ffc-d45e-4962-e7f3-ac5de056bf6e"
      },
      "execution_count": null,
      "outputs": [
        {
          "output_type": "stream",
          "name": "stdout",
          "text": [
            "Accuracy: 0.832 (0.021)\n"
          ]
        }
      ]
    },
    {
      "cell_type": "code",
      "source": [
        "\n",
        "import numpy as np\n",
        "from scipy import interp\n",
        "import matplotlib.pyplot as plt\n",
        "from itertools import cycle\n",
        " \n",
        "from sklearn import svm, datasets\n",
        "from sklearn.metrics import roc_curve, auc\n",
        "from sklearn.model_selection import StratifiedKFold\n",
        " \n",
        "\n",
        "random_state = np.random.RandomState(0)\n",
        "# #############################################################################\n",
        "# Classification and ROC analysis\n",
        " \n",
        "# Run classifier with cross-validation and plot ROC curves\n",
        "cv = StratifiedKFold(n_splits=6)\n",
        "classifier = svm.SVC(kernel='linear', probability=True,\n",
        "                     random_state=random_state)\n",
        " \n",
        "tprs = []\n",
        "aucs = []\n",
        "mean_fpr = np.linspace(0, 1, 100)\n",
        " \n",
        "i = 0\n",
        "for train, test in cv.split(X_train, y_train):\n",
        "    probas_ = classifier.fit(X_train, y_train).predict_proba(X_test)\n",
        "    # Compute ROC curve and area the curve\n",
        "    fpr, tpr, thresholds = roc_curve(y_test, probas_[:, 1])\n",
        "    tprs.append(interp(mean_fpr, fpr, tpr))\n",
        "    tprs[-1][0] = 0.0\n",
        "    roc_auc = auc(fpr, tpr)\n",
        "    aucs.append(roc_auc)\n",
        "    plt.plot(fpr, tpr, lw=1, alpha=0.3,\n",
        "             label='ROC fold %d (AUC = %0.2f)' % (i, roc_auc)) \n",
        "    i += 1\n",
        "plt.plot([0, 1], [0, 1], linestyle='--', lw=2, color='r',\n",
        "         label='Chance', alpha=.8)\n",
        " \n",
        "mean_tpr = np.mean(tprs, axis=0)\n",
        "mean_tpr[-1] = 1.0\n",
        "mean_auc = auc(mean_fpr, mean_tpr)\n",
        "std_auc = np.std(aucs)\n",
        "plt.plot(mean_fpr, mean_tpr, color='b',\n",
        "         label=r'Mean ROC (AUC = %0.2f $\\pm$ %0.2f)' % (mean_auc, std_auc),\n",
        "         lw=2, alpha=.8)\n",
        " \n",
        "std_tpr = np.std(tprs, axis=0)\n",
        "tprs_upper = np.minimum(mean_tpr + std_tpr, 1)\n",
        "tprs_lower = np.maximum(mean_tpr - std_tpr, 0)\n",
        "plt.fill_between(mean_fpr, tprs_lower, tprs_upper, color='grey', alpha=.2,\n",
        "                 label=r'$\\pm$ 1 std. dev.')\n",
        " \n",
        "plt.xlim([-0.05, 1.05])\n",
        "plt.ylim([-0.05, 1.05])\n",
        "# plt.xlabel('False Positive Rate')\n",
        "# plt.ylabel('True Positive Rate')\n",
        "plt.xlabel('Tasa de Falsos Positivos')\n",
        "plt.ylabel('Tasa de Verdaderos Positivos')\n",
        "plt.title('Receiver operating characteristic example')\n",
        "plt.legend(loc=\"lower right\")\n"
      ],
      "metadata": {
        "id": "Pih9r0vcEGGx",
        "colab": {
          "base_uri": "https://localhost:8080/",
          "height": 424
        },
        "outputId": "63bfcb68-48b4-4060-e4c5-f7c7fb85bacb"
      },
      "execution_count": null,
      "outputs": [
        {
          "output_type": "stream",
          "name": "stderr",
          "text": [
            "/usr/local/lib/python3.7/dist-packages/ipykernel_launcher.py:30: DeprecationWarning: scipy.interp is deprecated and will be removed in SciPy 2.0.0, use numpy.interp instead\n",
            "/usr/local/lib/python3.7/dist-packages/ipykernel_launcher.py:30: DeprecationWarning: scipy.interp is deprecated and will be removed in SciPy 2.0.0, use numpy.interp instead\n",
            "/usr/local/lib/python3.7/dist-packages/ipykernel_launcher.py:30: DeprecationWarning: scipy.interp is deprecated and will be removed in SciPy 2.0.0, use numpy.interp instead\n",
            "/usr/local/lib/python3.7/dist-packages/ipykernel_launcher.py:30: DeprecationWarning: scipy.interp is deprecated and will be removed in SciPy 2.0.0, use numpy.interp instead\n",
            "/usr/local/lib/python3.7/dist-packages/ipykernel_launcher.py:30: DeprecationWarning: scipy.interp is deprecated and will be removed in SciPy 2.0.0, use numpy.interp instead\n",
            "/usr/local/lib/python3.7/dist-packages/ipykernel_launcher.py:30: DeprecationWarning: scipy.interp is deprecated and will be removed in SciPy 2.0.0, use numpy.interp instead\n"
          ]
        },
        {
          "output_type": "execute_result",
          "data": {
            "text/plain": [
              "<matplotlib.legend.Legend at 0x7fcb915dfe50>"
            ]
          },
          "metadata": {},
          "execution_count": 81
        },
        {
          "output_type": "display_data",
          "data": {
            "text/plain": [
              "<Figure size 432x288 with 1 Axes>"
            ],
            "image/png": "[encoded data removed]"
          },
          "metadata": {
            "needs_background": "light"
          }
        }
      ]
    }
  ],
  "metadata": {
    "accelerator": "GPU",
    "colab": {
      "collapsed_sections": [],
      "name": "Monografia_PrediccionCumplimiento.ipynb",
      "provenance": []
    },
    "kernelspec": {
      "display_name": "Python 3",
      "name": "python3"
    },
    "language_info": {
      "name": "python"
    }
  },
  "nbformat": 4,
  "nbformat_minor": 0
}